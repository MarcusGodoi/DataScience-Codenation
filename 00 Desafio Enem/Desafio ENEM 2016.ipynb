{
 "cells": [
  {
   "cell_type": "markdown",
   "metadata": {},
   "source": [
    "# <font color='red'>Notas de matemática do ENEM 2016</font>\n",
    "\n",
    "## Desafio Codenation \n",
    "\n",
    "###### Por: Marcus Rosa Godoi"
   ]
  },
  {
   "cell_type": "markdown",
   "metadata": {},
   "source": [
    "# Problema de Negócio: Criar um modelo para prever a nota da prova de matemática de quem participou do ENEM 2016.\n"
   ]
  },
  {
   "cell_type": "markdown",
   "metadata": {
    "slideshow": {
     "slide_type": "-"
    }
   },
   "source": [
    "# 0.0 - IMPORTS"
   ]
  },
  {
   "cell_type": "markdown",
   "metadata": {},
   "source": [
    " "
   ]
  },
  {
   "cell_type": "code",
   "execution_count": 106,
   "metadata": {
    "ExecuteTime": {
     "end_time": "2020-06-04T08:18:55.947899Z",
     "start_time": "2020-06-04T08:18:55.937928Z"
    }
   },
   "outputs": [],
   "source": [
    "import pandas as pd\n",
    "import numpy as np\n",
    "import matplotlib.pylab as plt\n",
    "import seaborn as sns\n",
    "\n",
    "from sklearn.metrics import confusion_matrix, mean_absolute_error, mean_squared_error        \n",
    "                           \n",
    "from sklearn.model_selection import train_test_split                 #MANIPULAÇÃO DOS DADOS\n",
    "from sklearn.preprocessing import LabelEncoder, OneHotEncoder        #MANIPULAÇÃO DOS DADOS\n",
    "from sklearn.preprocessing import MinMaxScaler                       #MANIPULAÇÃO DOS DADOS\n",
    "from sklearn.preprocessing import StandardScaler                     #MANIPULAÇÃO DOS DADOS\n",
    "from scipy.stats import boxcox                                       #MANIPULAÇÃO DOS DADOS\n",
    "from sklearn.preprocessing import PolynomialFeatures                 #MANIPULAÇÃO DOS DADOS\n",
    "\n",
    "from sklearn.model_selection import cross_val_score, learning_curve, validation_curve\n",
    "from sklearn.ensemble import RandomForestRegressor                                          #MODELO\n",
    "from keras.models import Sequential\n",
    "from keras.layers import Dense, Dropout\n",
    "from keras.utils import np_utils\n",
    "from keras.wrappers.scikit_learn import KerasRegressor\n",
    "from sklearn.feature_selection import SelectKBest, f_regression # chi2 fnciona somene para classificação\n",
    "\n",
    "import pickle #salvar modelo"
   ]
  },
  {
   "cell_type": "markdown",
   "metadata": {},
   "source": [
    " \n",
    " "
   ]
  },
  {
   "cell_type": "markdown",
   "metadata": {},
   "source": [
    "# 1.0  - COLETAS DE DADOS"
   ]
  },
  {
   "cell_type": "code",
   "execution_count": 2,
   "metadata": {
    "ExecuteTime": {
     "end_time": "2020-06-04T05:58:16.822613Z",
     "start_time": "2020-06-04T05:58:16.487623Z"
    }
   },
   "outputs": [],
   "source": [
    "base_treino = pd.read_csv('Dados/train.csv')\n",
    "base_teste = pd.read_csv('Dados/test.csv')"
   ]
  },
  {
   "cell_type": "markdown",
   "metadata": {},
   "source": [
    "## 1.1 - Verificação da Base de Dados"
   ]
  },
  {
   "cell_type": "markdown",
   "metadata": {},
   "source": [
    " ### Base treino"
   ]
  },
  {
   "cell_type": "code",
   "execution_count": 3,
   "metadata": {
    "ExecuteTime": {
     "end_time": "2020-06-04T05:58:16.832251Z",
     "start_time": "2020-06-04T05:58:16.825233Z"
    }
   },
   "outputs": [
    {
     "name": "stdout",
     "output_type": "stream",
     "text": [
      "Número de Linhas: 13730\n",
      "Número de Colunas: 167\n"
     ]
    }
   ],
   "source": [
    "print('Número de Linhas: {}'.format(base_treino.shape[0]))\n",
    "print('Número de Colunas: {}'.format(base_treino.shape[1]))"
   ]
  },
  {
   "cell_type": "code",
   "execution_count": 4,
   "metadata": {
    "ExecuteTime": {
     "end_time": "2020-06-04T05:58:16.948945Z",
     "start_time": "2020-06-04T05:58:16.835206Z"
    }
   },
   "outputs": [
    {
     "data": {
      "text/plain": [
       "Unnamed: 0                  int64\n",
       "NU_INSCRICAO               object\n",
       "NU_ANO                      int64\n",
       "CO_MUNICIPIO_RESIDENCIA     int64\n",
       "NO_MUNICIPIO_RESIDENCIA    object\n",
       "                            ...  \n",
       "Q046                       object\n",
       "Q047                       object\n",
       "Q048                       object\n",
       "Q049                       object\n",
       "Q050                       object\n",
       "Length: 167, dtype: object"
      ]
     },
     "execution_count": 4,
     "metadata": {},
     "output_type": "execute_result"
    }
   ],
   "source": [
    "base_treino.dtypes"
   ]
  },
  {
   "cell_type": "code",
   "execution_count": 5,
   "metadata": {
    "ExecuteTime": {
     "end_time": "2020-06-04T05:58:17.056038Z",
     "start_time": "2020-06-04T05:58:16.950897Z"
    }
   },
   "outputs": [
    {
     "data": {
      "text/html": [
       "<div>\n",
       "<style scoped>\n",
       "    .dataframe tbody tr th:only-of-type {\n",
       "        vertical-align: middle;\n",
       "    }\n",
       "\n",
       "    .dataframe tbody tr th {\n",
       "        vertical-align: top;\n",
       "    }\n",
       "\n",
       "    .dataframe thead th {\n",
       "        text-align: right;\n",
       "    }\n",
       "</style>\n",
       "<table border=\"1\" class=\"dataframe\">\n",
       "  <thead>\n",
       "    <tr style=\"text-align: right;\">\n",
       "      <th></th>\n",
       "      <th>Unnamed: 0</th>\n",
       "      <th>NU_INSCRICAO</th>\n",
       "      <th>NU_ANO</th>\n",
       "      <th>CO_MUNICIPIO_RESIDENCIA</th>\n",
       "      <th>NO_MUNICIPIO_RESIDENCIA</th>\n",
       "      <th>CO_UF_RESIDENCIA</th>\n",
       "      <th>SG_UF_RESIDENCIA</th>\n",
       "      <th>NU_IDADE</th>\n",
       "      <th>TP_SEXO</th>\n",
       "      <th>TP_ESTADO_CIVIL</th>\n",
       "      <th>...</th>\n",
       "      <th>Q041</th>\n",
       "      <th>Q042</th>\n",
       "      <th>Q043</th>\n",
       "      <th>Q044</th>\n",
       "      <th>Q045</th>\n",
       "      <th>Q046</th>\n",
       "      <th>Q047</th>\n",
       "      <th>Q048</th>\n",
       "      <th>Q049</th>\n",
       "      <th>Q050</th>\n",
       "    </tr>\n",
       "  </thead>\n",
       "  <tbody>\n",
       "    <tr>\n",
       "      <td>0</td>\n",
       "      <td>1</td>\n",
       "      <td>ed50e8aaa58e7a806c337585efee9ca41f1eb1ad</td>\n",
       "      <td>2016</td>\n",
       "      <td>4314902</td>\n",
       "      <td>Porto Alegre</td>\n",
       "      <td>43</td>\n",
       "      <td>RS</td>\n",
       "      <td>24</td>\n",
       "      <td>M</td>\n",
       "      <td>0.0</td>\n",
       "      <td>...</td>\n",
       "      <td>5.0</td>\n",
       "      <td>A</td>\n",
       "      <td>A</td>\n",
       "      <td>A</td>\n",
       "      <td>A</td>\n",
       "      <td>A</td>\n",
       "      <td>A</td>\n",
       "      <td>A</td>\n",
       "      <td>B</td>\n",
       "      <td>D</td>\n",
       "    </tr>\n",
       "    <tr>\n",
       "      <td>1</td>\n",
       "      <td>2</td>\n",
       "      <td>2c3acac4b33ec2b195d77e7c04a2d75727fad723</td>\n",
       "      <td>2016</td>\n",
       "      <td>2304707</td>\n",
       "      <td>Granja</td>\n",
       "      <td>23</td>\n",
       "      <td>CE</td>\n",
       "      <td>17</td>\n",
       "      <td>F</td>\n",
       "      <td>0.0</td>\n",
       "      <td>...</td>\n",
       "      <td>NaN</td>\n",
       "      <td>A</td>\n",
       "      <td>A</td>\n",
       "      <td>C</td>\n",
       "      <td>A</td>\n",
       "      <td>B</td>\n",
       "      <td>A</td>\n",
       "      <td>A</td>\n",
       "      <td>C</td>\n",
       "      <td>A</td>\n",
       "    </tr>\n",
       "    <tr>\n",
       "      <td>2</td>\n",
       "      <td>3</td>\n",
       "      <td>f4545f8ccb9ff5c8aad7d32951b3f251a26e6568</td>\n",
       "      <td>2016</td>\n",
       "      <td>2304400</td>\n",
       "      <td>Fortaleza</td>\n",
       "      <td>23</td>\n",
       "      <td>CE</td>\n",
       "      <td>21</td>\n",
       "      <td>F</td>\n",
       "      <td>0.0</td>\n",
       "      <td>...</td>\n",
       "      <td>NaN</td>\n",
       "      <td>A</td>\n",
       "      <td>A</td>\n",
       "      <td>A</td>\n",
       "      <td>A</td>\n",
       "      <td>C</td>\n",
       "      <td>A</td>\n",
       "      <td>A</td>\n",
       "      <td>B</td>\n",
       "      <td>A</td>\n",
       "    </tr>\n",
       "    <tr>\n",
       "      <td>3</td>\n",
       "      <td>4</td>\n",
       "      <td>3d6ec248fef899c414e77f82d5c6d2bffbeaf7fe</td>\n",
       "      <td>2016</td>\n",
       "      <td>3304557</td>\n",
       "      <td>Rio de Janeiro</td>\n",
       "      <td>33</td>\n",
       "      <td>RJ</td>\n",
       "      <td>25</td>\n",
       "      <td>F</td>\n",
       "      <td>0.0</td>\n",
       "      <td>...</td>\n",
       "      <td>5.0</td>\n",
       "      <td>C</td>\n",
       "      <td>A</td>\n",
       "      <td>A</td>\n",
       "      <td>A</td>\n",
       "      <td>A</td>\n",
       "      <td>D</td>\n",
       "      <td>A</td>\n",
       "      <td>A</td>\n",
       "      <td>A</td>\n",
       "    </tr>\n",
       "    <tr>\n",
       "      <td>4</td>\n",
       "      <td>5</td>\n",
       "      <td>bf896ac8d3ecadd6dba1dfbf50110afcbf5d3268</td>\n",
       "      <td>2016</td>\n",
       "      <td>1302603</td>\n",
       "      <td>Manaus</td>\n",
       "      <td>13</td>\n",
       "      <td>AM</td>\n",
       "      <td>28</td>\n",
       "      <td>M</td>\n",
       "      <td>0.0</td>\n",
       "      <td>...</td>\n",
       "      <td>NaN</td>\n",
       "      <td>A</td>\n",
       "      <td>A</td>\n",
       "      <td>A</td>\n",
       "      <td>A</td>\n",
       "      <td>A</td>\n",
       "      <td>A</td>\n",
       "      <td>A</td>\n",
       "      <td>A</td>\n",
       "      <td>A</td>\n",
       "    </tr>\n",
       "  </tbody>\n",
       "</table>\n",
       "<p>5 rows × 167 columns</p>\n",
       "</div>"
      ],
      "text/plain": [
       "   Unnamed: 0                              NU_INSCRICAO  NU_ANO  \\\n",
       "0           1  ed50e8aaa58e7a806c337585efee9ca41f1eb1ad    2016   \n",
       "1           2  2c3acac4b33ec2b195d77e7c04a2d75727fad723    2016   \n",
       "2           3  f4545f8ccb9ff5c8aad7d32951b3f251a26e6568    2016   \n",
       "3           4  3d6ec248fef899c414e77f82d5c6d2bffbeaf7fe    2016   \n",
       "4           5  bf896ac8d3ecadd6dba1dfbf50110afcbf5d3268    2016   \n",
       "\n",
       "   CO_MUNICIPIO_RESIDENCIA NO_MUNICIPIO_RESIDENCIA  CO_UF_RESIDENCIA  \\\n",
       "0                  4314902            Porto Alegre                43   \n",
       "1                  2304707                  Granja                23   \n",
       "2                  2304400               Fortaleza                23   \n",
       "3                  3304557          Rio de Janeiro                33   \n",
       "4                  1302603                  Manaus                13   \n",
       "\n",
       "  SG_UF_RESIDENCIA  NU_IDADE TP_SEXO  TP_ESTADO_CIVIL  ...  Q041  Q042  Q043  \\\n",
       "0               RS        24       M              0.0  ...   5.0     A     A   \n",
       "1               CE        17       F              0.0  ...   NaN     A     A   \n",
       "2               CE        21       F              0.0  ...   NaN     A     A   \n",
       "3               RJ        25       F              0.0  ...   5.0     C     A   \n",
       "4               AM        28       M              0.0  ...   NaN     A     A   \n",
       "\n",
       "  Q044  Q045 Q046  Q047  Q048  Q049  Q050  \n",
       "0    A     A    A     A     A     B     D  \n",
       "1    C     A    B     A     A     C     A  \n",
       "2    A     A    C     A     A     B     A  \n",
       "3    A     A    A     D     A     A     A  \n",
       "4    A     A    A     A     A     A     A  \n",
       "\n",
       "[5 rows x 167 columns]"
      ]
     },
     "execution_count": 5,
     "metadata": {},
     "output_type": "execute_result"
    }
   ],
   "source": [
    "base_treino.head()"
   ]
  },
  {
   "cell_type": "code",
   "execution_count": 6,
   "metadata": {
    "ExecuteTime": {
     "end_time": "2020-06-04T05:58:17.397094Z",
     "start_time": "2020-06-04T05:58:17.057994Z"
    }
   },
   "outputs": [
    {
     "data": {
      "text/html": [
       "<div>\n",
       "<style scoped>\n",
       "    .dataframe tbody tr th:only-of-type {\n",
       "        vertical-align: middle;\n",
       "    }\n",
       "\n",
       "    .dataframe tbody tr th {\n",
       "        vertical-align: top;\n",
       "    }\n",
       "\n",
       "    .dataframe thead th {\n",
       "        text-align: right;\n",
       "    }\n",
       "</style>\n",
       "<table border=\"1\" class=\"dataframe\">\n",
       "  <thead>\n",
       "    <tr style=\"text-align: right;\">\n",
       "      <th></th>\n",
       "      <th>Unnamed: 0</th>\n",
       "      <th>NU_ANO</th>\n",
       "      <th>CO_MUNICIPIO_RESIDENCIA</th>\n",
       "      <th>CO_UF_RESIDENCIA</th>\n",
       "      <th>NU_IDADE</th>\n",
       "      <th>TP_ESTADO_CIVIL</th>\n",
       "      <th>TP_COR_RACA</th>\n",
       "      <th>TP_NACIONALIDADE</th>\n",
       "      <th>CO_MUNICIPIO_NASCIMENTO</th>\n",
       "      <th>CO_UF_NASCIMENTO</th>\n",
       "      <th>...</th>\n",
       "      <th>Q032</th>\n",
       "      <th>Q033</th>\n",
       "      <th>Q034</th>\n",
       "      <th>Q035</th>\n",
       "      <th>Q036</th>\n",
       "      <th>Q037</th>\n",
       "      <th>Q038</th>\n",
       "      <th>Q039</th>\n",
       "      <th>Q040</th>\n",
       "      <th>Q041</th>\n",
       "    </tr>\n",
       "  </thead>\n",
       "  <tbody>\n",
       "    <tr>\n",
       "      <td>count</td>\n",
       "      <td>13730.000000</td>\n",
       "      <td>13730.0</td>\n",
       "      <td>1.373000e+04</td>\n",
       "      <td>13730.000000</td>\n",
       "      <td>13730.000000</td>\n",
       "      <td>13202.000000</td>\n",
       "      <td>13730.000000</td>\n",
       "      <td>13730.000000</td>\n",
       "      <td>1.312100e+04</td>\n",
       "      <td>13121.000000</td>\n",
       "      <td>...</td>\n",
       "      <td>6354.000000</td>\n",
       "      <td>6354.000000</td>\n",
       "      <td>13730.000000</td>\n",
       "      <td>13730.000000</td>\n",
       "      <td>13730.000000</td>\n",
       "      <td>13730.000000</td>\n",
       "      <td>13730.000000</td>\n",
       "      <td>13730.000000</td>\n",
       "      <td>13730.000000</td>\n",
       "      <td>2938.000000</td>\n",
       "    </tr>\n",
       "    <tr>\n",
       "      <td>mean</td>\n",
       "      <td>2288.173926</td>\n",
       "      <td>2016.0</td>\n",
       "      <td>3.088548e+06</td>\n",
       "      <td>30.736708</td>\n",
       "      <td>21.593809</td>\n",
       "      <td>0.116043</td>\n",
       "      <td>2.185652</td>\n",
       "      <td>1.048871</td>\n",
       "      <td>3.057946e+06</td>\n",
       "      <td>30.429159</td>\n",
       "      <td>...</td>\n",
       "      <td>4.530217</td>\n",
       "      <td>3.962858</td>\n",
       "      <td>4.645594</td>\n",
       "      <td>4.678441</td>\n",
       "      <td>3.341515</td>\n",
       "      <td>4.458995</td>\n",
       "      <td>3.724618</td>\n",
       "      <td>3.506409</td>\n",
       "      <td>4.442098</td>\n",
       "      <td>3.671545</td>\n",
       "    </tr>\n",
       "    <tr>\n",
       "      <td>std</td>\n",
       "      <td>1321.230607</td>\n",
       "      <td>0.0</td>\n",
       "      <td>9.890495e+05</td>\n",
       "      <td>9.862405</td>\n",
       "      <td>7.043654</td>\n",
       "      <td>0.365986</td>\n",
       "      <td>1.007285</td>\n",
       "      <td>0.258895</td>\n",
       "      <td>9.703020e+05</td>\n",
       "      <td>9.670030</td>\n",
       "      <td>...</td>\n",
       "      <td>1.027613</td>\n",
       "      <td>1.625356</td>\n",
       "      <td>0.920998</td>\n",
       "      <td>0.865039</td>\n",
       "      <td>1.711930</td>\n",
       "      <td>1.200172</td>\n",
       "      <td>1.689362</td>\n",
       "      <td>1.718858</td>\n",
       "      <td>1.181549</td>\n",
       "      <td>1.746444</td>\n",
       "    </tr>\n",
       "    <tr>\n",
       "      <td>min</td>\n",
       "      <td>0.000000</td>\n",
       "      <td>2016.0</td>\n",
       "      <td>1.100023e+06</td>\n",
       "      <td>11.000000</td>\n",
       "      <td>13.000000</td>\n",
       "      <td>0.000000</td>\n",
       "      <td>0.000000</td>\n",
       "      <td>0.000000</td>\n",
       "      <td>1.100023e+06</td>\n",
       "      <td>11.000000</td>\n",
       "      <td>...</td>\n",
       "      <td>0.000000</td>\n",
       "      <td>0.000000</td>\n",
       "      <td>0.000000</td>\n",
       "      <td>0.000000</td>\n",
       "      <td>0.000000</td>\n",
       "      <td>0.000000</td>\n",
       "      <td>0.000000</td>\n",
       "      <td>0.000000</td>\n",
       "      <td>0.000000</td>\n",
       "      <td>0.000000</td>\n",
       "    </tr>\n",
       "    <tr>\n",
       "      <td>25%</td>\n",
       "      <td>1144.000000</td>\n",
       "      <td>2016.0</td>\n",
       "      <td>2.307650e+06</td>\n",
       "      <td>23.000000</td>\n",
       "      <td>17.000000</td>\n",
       "      <td>0.000000</td>\n",
       "      <td>1.000000</td>\n",
       "      <td>1.000000</td>\n",
       "      <td>2.306900e+06</td>\n",
       "      <td>23.000000</td>\n",
       "      <td>...</td>\n",
       "      <td>5.000000</td>\n",
       "      <td>3.000000</td>\n",
       "      <td>5.000000</td>\n",
       "      <td>5.000000</td>\n",
       "      <td>2.000000</td>\n",
       "      <td>5.000000</td>\n",
       "      <td>3.000000</td>\n",
       "      <td>2.000000</td>\n",
       "      <td>4.000000</td>\n",
       "      <td>3.000000</td>\n",
       "    </tr>\n",
       "    <tr>\n",
       "      <td>50%</td>\n",
       "      <td>2288.000000</td>\n",
       "      <td>2016.0</td>\n",
       "      <td>3.118601e+06</td>\n",
       "      <td>31.000000</td>\n",
       "      <td>19.000000</td>\n",
       "      <td>0.000000</td>\n",
       "      <td>3.000000</td>\n",
       "      <td>1.000000</td>\n",
       "      <td>3.106200e+06</td>\n",
       "      <td>31.000000</td>\n",
       "      <td>...</td>\n",
       "      <td>5.000000</td>\n",
       "      <td>5.000000</td>\n",
       "      <td>5.000000</td>\n",
       "      <td>5.000000</td>\n",
       "      <td>4.000000</td>\n",
       "      <td>5.000000</td>\n",
       "      <td>5.000000</td>\n",
       "      <td>4.000000</td>\n",
       "      <td>5.000000</td>\n",
       "      <td>5.000000</td>\n",
       "    </tr>\n",
       "    <tr>\n",
       "      <td>75%</td>\n",
       "      <td>3432.000000</td>\n",
       "      <td>2016.0</td>\n",
       "      <td>3.550308e+06</td>\n",
       "      <td>35.000000</td>\n",
       "      <td>23.000000</td>\n",
       "      <td>0.000000</td>\n",
       "      <td>3.000000</td>\n",
       "      <td>1.000000</td>\n",
       "      <td>3.549805e+06</td>\n",
       "      <td>35.000000</td>\n",
       "      <td>...</td>\n",
       "      <td>5.000000</td>\n",
       "      <td>5.000000</td>\n",
       "      <td>5.000000</td>\n",
       "      <td>5.000000</td>\n",
       "      <td>5.000000</td>\n",
       "      <td>5.000000</td>\n",
       "      <td>5.000000</td>\n",
       "      <td>5.000000</td>\n",
       "      <td>5.000000</td>\n",
       "      <td>5.000000</td>\n",
       "    </tr>\n",
       "    <tr>\n",
       "      <td>max</td>\n",
       "      <td>4586.000000</td>\n",
       "      <td>2016.0</td>\n",
       "      <td>5.300108e+06</td>\n",
       "      <td>53.000000</td>\n",
       "      <td>67.000000</td>\n",
       "      <td>3.000000</td>\n",
       "      <td>5.000000</td>\n",
       "      <td>4.000000</td>\n",
       "      <td>5.300108e+06</td>\n",
       "      <td>53.000000</td>\n",
       "      <td>...</td>\n",
       "      <td>5.000000</td>\n",
       "      <td>5.000000</td>\n",
       "      <td>5.000000</td>\n",
       "      <td>5.000000</td>\n",
       "      <td>5.000000</td>\n",
       "      <td>5.000000</td>\n",
       "      <td>5.000000</td>\n",
       "      <td>5.000000</td>\n",
       "      <td>5.000000</td>\n",
       "      <td>5.000000</td>\n",
       "    </tr>\n",
       "  </tbody>\n",
       "</table>\n",
       "<p>8 rows × 107 columns</p>\n",
       "</div>"
      ],
      "text/plain": [
       "         Unnamed: 0   NU_ANO  CO_MUNICIPIO_RESIDENCIA  CO_UF_RESIDENCIA  \\\n",
       "count  13730.000000  13730.0             1.373000e+04      13730.000000   \n",
       "mean    2288.173926   2016.0             3.088548e+06         30.736708   \n",
       "std     1321.230607      0.0             9.890495e+05          9.862405   \n",
       "min        0.000000   2016.0             1.100023e+06         11.000000   \n",
       "25%     1144.000000   2016.0             2.307650e+06         23.000000   \n",
       "50%     2288.000000   2016.0             3.118601e+06         31.000000   \n",
       "75%     3432.000000   2016.0             3.550308e+06         35.000000   \n",
       "max     4586.000000   2016.0             5.300108e+06         53.000000   \n",
       "\n",
       "           NU_IDADE  TP_ESTADO_CIVIL   TP_COR_RACA  TP_NACIONALIDADE  \\\n",
       "count  13730.000000     13202.000000  13730.000000      13730.000000   \n",
       "mean      21.593809         0.116043      2.185652          1.048871   \n",
       "std        7.043654         0.365986      1.007285          0.258895   \n",
       "min       13.000000         0.000000      0.000000          0.000000   \n",
       "25%       17.000000         0.000000      1.000000          1.000000   \n",
       "50%       19.000000         0.000000      3.000000          1.000000   \n",
       "75%       23.000000         0.000000      3.000000          1.000000   \n",
       "max       67.000000         3.000000      5.000000          4.000000   \n",
       "\n",
       "       CO_MUNICIPIO_NASCIMENTO  CO_UF_NASCIMENTO  ...         Q032  \\\n",
       "count             1.312100e+04      13121.000000  ...  6354.000000   \n",
       "mean              3.057946e+06         30.429159  ...     4.530217   \n",
       "std               9.703020e+05          9.670030  ...     1.027613   \n",
       "min               1.100023e+06         11.000000  ...     0.000000   \n",
       "25%               2.306900e+06         23.000000  ...     5.000000   \n",
       "50%               3.106200e+06         31.000000  ...     5.000000   \n",
       "75%               3.549805e+06         35.000000  ...     5.000000   \n",
       "max               5.300108e+06         53.000000  ...     5.000000   \n",
       "\n",
       "              Q033          Q034          Q035          Q036          Q037  \\\n",
       "count  6354.000000  13730.000000  13730.000000  13730.000000  13730.000000   \n",
       "mean      3.962858      4.645594      4.678441      3.341515      4.458995   \n",
       "std       1.625356      0.920998      0.865039      1.711930      1.200172   \n",
       "min       0.000000      0.000000      0.000000      0.000000      0.000000   \n",
       "25%       3.000000      5.000000      5.000000      2.000000      5.000000   \n",
       "50%       5.000000      5.000000      5.000000      4.000000      5.000000   \n",
       "75%       5.000000      5.000000      5.000000      5.000000      5.000000   \n",
       "max       5.000000      5.000000      5.000000      5.000000      5.000000   \n",
       "\n",
       "               Q038          Q039          Q040         Q041  \n",
       "count  13730.000000  13730.000000  13730.000000  2938.000000  \n",
       "mean       3.724618      3.506409      4.442098     3.671545  \n",
       "std        1.689362      1.718858      1.181549     1.746444  \n",
       "min        0.000000      0.000000      0.000000     0.000000  \n",
       "25%        3.000000      2.000000      4.000000     3.000000  \n",
       "50%        5.000000      4.000000      5.000000     5.000000  \n",
       "75%        5.000000      5.000000      5.000000     5.000000  \n",
       "max        5.000000      5.000000      5.000000     5.000000  \n",
       "\n",
       "[8 rows x 107 columns]"
      ]
     },
     "execution_count": 6,
     "metadata": {},
     "output_type": "execute_result"
    }
   ],
   "source": [
    "base_treino.describe()"
   ]
  },
  {
   "cell_type": "markdown",
   "metadata": {},
   "source": [
    " ### Base teste"
   ]
  },
  {
   "cell_type": "code",
   "execution_count": 7,
   "metadata": {
    "ExecuteTime": {
     "end_time": "2020-06-04T05:58:17.408105Z",
     "start_time": "2020-06-04T05:58:17.399089Z"
    }
   },
   "outputs": [
    {
     "name": "stdout",
     "output_type": "stream",
     "text": [
      "Número de Linhas: 4576\n",
      "Número de Colunas: 47\n"
     ]
    }
   ],
   "source": [
    "print('Número de Linhas: {}'.format(base_teste.shape[0]))\n",
    "print('Número de Colunas: {}'.format(base_teste.shape[1]))"
   ]
  },
  {
   "cell_type": "code",
   "execution_count": 8,
   "metadata": {
    "ExecuteTime": {
     "end_time": "2020-06-04T05:58:17.504338Z",
     "start_time": "2020-06-04T05:58:17.412055Z"
    },
    "scrolled": true
   },
   "outputs": [
    {
     "data": {
      "text/plain": [
       "NU_INSCRICAO               object\n",
       "CO_UF_RESIDENCIA            int64\n",
       "SG_UF_RESIDENCIA           object\n",
       "NU_IDADE                    int64\n",
       "TP_SEXO                    object\n",
       "TP_COR_RACA                 int64\n",
       "TP_NACIONALIDADE            int64\n",
       "TP_ST_CONCLUSAO             int64\n",
       "TP_ANO_CONCLUIU             int64\n",
       "TP_ESCOLA                   int64\n",
       "TP_ENSINO                 float64\n",
       "IN_TREINEIRO                int64\n",
       "TP_DEPENDENCIA_ADM_ESC    float64\n",
       "IN_BAIXA_VISAO              int64\n",
       "IN_CEGUEIRA                 int64\n",
       "IN_SURDEZ                   int64\n",
       "IN_DISLEXIA                 int64\n",
       "IN_DISCALCULIA              int64\n",
       "IN_SABATISTA                int64\n",
       "IN_GESTANTE                 int64\n",
       "IN_IDOSO                    int64\n",
       "TP_PRESENCA_CN              int64\n",
       "TP_PRESENCA_CH              int64\n",
       "TP_PRESENCA_LC              int64\n",
       "CO_PROVA_CN                object\n",
       "CO_PROVA_CH                object\n",
       "CO_PROVA_LC                object\n",
       "CO_PROVA_MT                object\n",
       "NU_NOTA_CN                float64\n",
       "NU_NOTA_CH                float64\n",
       "NU_NOTA_LC                float64\n",
       "TP_LINGUA                   int64\n",
       "TP_STATUS_REDACAO         float64\n",
       "NU_NOTA_COMP1             float64\n",
       "NU_NOTA_COMP2             float64\n",
       "NU_NOTA_COMP3             float64\n",
       "NU_NOTA_COMP4             float64\n",
       "NU_NOTA_COMP5             float64\n",
       "NU_NOTA_REDACAO           float64\n",
       "Q001                       object\n",
       "Q002                       object\n",
       "Q006                       object\n",
       "Q024                       object\n",
       "Q025                       object\n",
       "Q026                       object\n",
       "Q027                       object\n",
       "Q047                       object\n",
       "dtype: object"
      ]
     },
     "execution_count": 8,
     "metadata": {},
     "output_type": "execute_result"
    }
   ],
   "source": [
    "base_teste.dtypes"
   ]
  },
  {
   "cell_type": "code",
   "execution_count": 9,
   "metadata": {
    "ExecuteTime": {
     "end_time": "2020-06-04T05:58:17.623794Z",
     "start_time": "2020-06-04T05:58:17.506332Z"
    }
   },
   "outputs": [
    {
     "data": {
      "text/html": [
       "<div>\n",
       "<style scoped>\n",
       "    .dataframe tbody tr th:only-of-type {\n",
       "        vertical-align: middle;\n",
       "    }\n",
       "\n",
       "    .dataframe tbody tr th {\n",
       "        vertical-align: top;\n",
       "    }\n",
       "\n",
       "    .dataframe thead th {\n",
       "        text-align: right;\n",
       "    }\n",
       "</style>\n",
       "<table border=\"1\" class=\"dataframe\">\n",
       "  <thead>\n",
       "    <tr style=\"text-align: right;\">\n",
       "      <th></th>\n",
       "      <th>NU_INSCRICAO</th>\n",
       "      <th>CO_UF_RESIDENCIA</th>\n",
       "      <th>SG_UF_RESIDENCIA</th>\n",
       "      <th>NU_IDADE</th>\n",
       "      <th>TP_SEXO</th>\n",
       "      <th>TP_COR_RACA</th>\n",
       "      <th>TP_NACIONALIDADE</th>\n",
       "      <th>TP_ST_CONCLUSAO</th>\n",
       "      <th>TP_ANO_CONCLUIU</th>\n",
       "      <th>TP_ESCOLA</th>\n",
       "      <th>...</th>\n",
       "      <th>NU_NOTA_COMP5</th>\n",
       "      <th>NU_NOTA_REDACAO</th>\n",
       "      <th>Q001</th>\n",
       "      <th>Q002</th>\n",
       "      <th>Q006</th>\n",
       "      <th>Q024</th>\n",
       "      <th>Q025</th>\n",
       "      <th>Q026</th>\n",
       "      <th>Q027</th>\n",
       "      <th>Q047</th>\n",
       "    </tr>\n",
       "  </thead>\n",
       "  <tbody>\n",
       "    <tr>\n",
       "      <td>0</td>\n",
       "      <td>73ff9fcc02f0a99919906c942c2e1a1042cdcf98</td>\n",
       "      <td>41</td>\n",
       "      <td>PR</td>\n",
       "      <td>22</td>\n",
       "      <td>F</td>\n",
       "      <td>3</td>\n",
       "      <td>1</td>\n",
       "      <td>1</td>\n",
       "      <td>5</td>\n",
       "      <td>1</td>\n",
       "      <td>...</td>\n",
       "      <td>40.0</td>\n",
       "      <td>420.0</td>\n",
       "      <td>B</td>\n",
       "      <td>A</td>\n",
       "      <td>C</td>\n",
       "      <td>A</td>\n",
       "      <td>A</td>\n",
       "      <td>C</td>\n",
       "      <td>C</td>\n",
       "      <td>A</td>\n",
       "    </tr>\n",
       "    <tr>\n",
       "      <td>1</td>\n",
       "      <td>71a95f9f1b91a82c65ad94abbdf9f54e6066f968</td>\n",
       "      <td>21</td>\n",
       "      <td>MA</td>\n",
       "      <td>26</td>\n",
       "      <td>F</td>\n",
       "      <td>3</td>\n",
       "      <td>1</td>\n",
       "      <td>1</td>\n",
       "      <td>8</td>\n",
       "      <td>1</td>\n",
       "      <td>...</td>\n",
       "      <td>100.0</td>\n",
       "      <td>580.0</td>\n",
       "      <td>E</td>\n",
       "      <td>B</td>\n",
       "      <td>C</td>\n",
       "      <td>B</td>\n",
       "      <td>B</td>\n",
       "      <td>B</td>\n",
       "      <td>F</td>\n",
       "      <td>A</td>\n",
       "    </tr>\n",
       "    <tr>\n",
       "      <td>2</td>\n",
       "      <td>b38a03232f43b11c9d0788abaf060f7366053b6d</td>\n",
       "      <td>23</td>\n",
       "      <td>CE</td>\n",
       "      <td>21</td>\n",
       "      <td>M</td>\n",
       "      <td>1</td>\n",
       "      <td>1</td>\n",
       "      <td>2</td>\n",
       "      <td>0</td>\n",
       "      <td>2</td>\n",
       "      <td>...</td>\n",
       "      <td>80.0</td>\n",
       "      <td>320.0</td>\n",
       "      <td>E</td>\n",
       "      <td>E</td>\n",
       "      <td>D</td>\n",
       "      <td>B</td>\n",
       "      <td>B</td>\n",
       "      <td>A</td>\n",
       "      <td>NaN</td>\n",
       "      <td>A</td>\n",
       "    </tr>\n",
       "    <tr>\n",
       "      <td>3</td>\n",
       "      <td>70b682d9a3636be23f6120fa9d6b164eb3c6002d</td>\n",
       "      <td>15</td>\n",
       "      <td>PA</td>\n",
       "      <td>27</td>\n",
       "      <td>F</td>\n",
       "      <td>3</td>\n",
       "      <td>1</td>\n",
       "      <td>1</td>\n",
       "      <td>8</td>\n",
       "      <td>1</td>\n",
       "      <td>...</td>\n",
       "      <td>NaN</td>\n",
       "      <td>NaN</td>\n",
       "      <td>H</td>\n",
       "      <td>E</td>\n",
       "      <td>G</td>\n",
       "      <td>B</td>\n",
       "      <td>B</td>\n",
       "      <td>A</td>\n",
       "      <td>NaN</td>\n",
       "      <td>A</td>\n",
       "    </tr>\n",
       "    <tr>\n",
       "      <td>4</td>\n",
       "      <td>715494628a50142ce8cb17191cfe6d0f3cae0934</td>\n",
       "      <td>41</td>\n",
       "      <td>PR</td>\n",
       "      <td>18</td>\n",
       "      <td>M</td>\n",
       "      <td>1</td>\n",
       "      <td>1</td>\n",
       "      <td>2</td>\n",
       "      <td>0</td>\n",
       "      <td>2</td>\n",
       "      <td>...</td>\n",
       "      <td>0.0</td>\n",
       "      <td>320.0</td>\n",
       "      <td>D</td>\n",
       "      <td>H</td>\n",
       "      <td>H</td>\n",
       "      <td>C</td>\n",
       "      <td>B</td>\n",
       "      <td>A</td>\n",
       "      <td>NaN</td>\n",
       "      <td>A</td>\n",
       "    </tr>\n",
       "  </tbody>\n",
       "</table>\n",
       "<p>5 rows × 47 columns</p>\n",
       "</div>"
      ],
      "text/plain": [
       "                               NU_INSCRICAO  CO_UF_RESIDENCIA  \\\n",
       "0  73ff9fcc02f0a99919906c942c2e1a1042cdcf98                41   \n",
       "1  71a95f9f1b91a82c65ad94abbdf9f54e6066f968                21   \n",
       "2  b38a03232f43b11c9d0788abaf060f7366053b6d                23   \n",
       "3  70b682d9a3636be23f6120fa9d6b164eb3c6002d                15   \n",
       "4  715494628a50142ce8cb17191cfe6d0f3cae0934                41   \n",
       "\n",
       "  SG_UF_RESIDENCIA  NU_IDADE TP_SEXO  TP_COR_RACA  TP_NACIONALIDADE  \\\n",
       "0               PR        22       F            3                 1   \n",
       "1               MA        26       F            3                 1   \n",
       "2               CE        21       M            1                 1   \n",
       "3               PA        27       F            3                 1   \n",
       "4               PR        18       M            1                 1   \n",
       "\n",
       "   TP_ST_CONCLUSAO  TP_ANO_CONCLUIU  TP_ESCOLA  ...  NU_NOTA_COMP5  \\\n",
       "0                1                5          1  ...           40.0   \n",
       "1                1                8          1  ...          100.0   \n",
       "2                2                0          2  ...           80.0   \n",
       "3                1                8          1  ...            NaN   \n",
       "4                2                0          2  ...            0.0   \n",
       "\n",
       "   NU_NOTA_REDACAO  Q001  Q002  Q006  Q024  Q025  Q026  Q027  Q047  \n",
       "0            420.0     B     A     C     A     A     C     C     A  \n",
       "1            580.0     E     B     C     B     B     B     F     A  \n",
       "2            320.0     E     E     D     B     B     A   NaN     A  \n",
       "3              NaN     H     E     G     B     B     A   NaN     A  \n",
       "4            320.0     D     H     H     C     B     A   NaN     A  \n",
       "\n",
       "[5 rows x 47 columns]"
      ]
     },
     "execution_count": 9,
     "metadata": {},
     "output_type": "execute_result"
    }
   ],
   "source": [
    "base_teste.head()"
   ]
  },
  {
   "cell_type": "code",
   "execution_count": 10,
   "metadata": {
    "ExecuteTime": {
     "end_time": "2020-06-04T05:58:17.792367Z",
     "start_time": "2020-06-04T05:58:17.625748Z"
    }
   },
   "outputs": [
    {
     "data": {
      "text/html": [
       "<div>\n",
       "<style scoped>\n",
       "    .dataframe tbody tr th:only-of-type {\n",
       "        vertical-align: middle;\n",
       "    }\n",
       "\n",
       "    .dataframe tbody tr th {\n",
       "        vertical-align: top;\n",
       "    }\n",
       "\n",
       "    .dataframe thead th {\n",
       "        text-align: right;\n",
       "    }\n",
       "</style>\n",
       "<table border=\"1\" class=\"dataframe\">\n",
       "  <thead>\n",
       "    <tr style=\"text-align: right;\">\n",
       "      <th></th>\n",
       "      <th>CO_UF_RESIDENCIA</th>\n",
       "      <th>NU_IDADE</th>\n",
       "      <th>TP_COR_RACA</th>\n",
       "      <th>TP_NACIONALIDADE</th>\n",
       "      <th>TP_ST_CONCLUSAO</th>\n",
       "      <th>TP_ANO_CONCLUIU</th>\n",
       "      <th>TP_ESCOLA</th>\n",
       "      <th>TP_ENSINO</th>\n",
       "      <th>IN_TREINEIRO</th>\n",
       "      <th>TP_DEPENDENCIA_ADM_ESC</th>\n",
       "      <th>...</th>\n",
       "      <th>NU_NOTA_CH</th>\n",
       "      <th>NU_NOTA_LC</th>\n",
       "      <th>TP_LINGUA</th>\n",
       "      <th>TP_STATUS_REDACAO</th>\n",
       "      <th>NU_NOTA_COMP1</th>\n",
       "      <th>NU_NOTA_COMP2</th>\n",
       "      <th>NU_NOTA_COMP3</th>\n",
       "      <th>NU_NOTA_COMP4</th>\n",
       "      <th>NU_NOTA_COMP5</th>\n",
       "      <th>NU_NOTA_REDACAO</th>\n",
       "    </tr>\n",
       "  </thead>\n",
       "  <tbody>\n",
       "    <tr>\n",
       "      <td>count</td>\n",
       "      <td>4576.000000</td>\n",
       "      <td>4576.000000</td>\n",
       "      <td>4576.000000</td>\n",
       "      <td>4576.000000</td>\n",
       "      <td>4576.000000</td>\n",
       "      <td>4576.000000</td>\n",
       "      <td>4576.000000</td>\n",
       "      <td>1480.000000</td>\n",
       "      <td>4576.000000</td>\n",
       "      <td>1480.000000</td>\n",
       "      <td>...</td>\n",
       "      <td>3442.000000</td>\n",
       "      <td>3377.000000</td>\n",
       "      <td>4576.000000</td>\n",
       "      <td>3377.000000</td>\n",
       "      <td>3377.000000</td>\n",
       "      <td>3377.000000</td>\n",
       "      <td>3377.000000</td>\n",
       "      <td>3377.000000</td>\n",
       "      <td>3377.000000</td>\n",
       "      <td>3377.000000</td>\n",
       "    </tr>\n",
       "    <tr>\n",
       "      <td>mean</td>\n",
       "      <td>30.762019</td>\n",
       "      <td>21.542395</td>\n",
       "      <td>2.181163</td>\n",
       "      <td>1.060970</td>\n",
       "      <td>1.791084</td>\n",
       "      <td>2.119537</td>\n",
       "      <td>1.368663</td>\n",
       "      <td>1.182432</td>\n",
       "      <td>0.127404</td>\n",
       "      <td>2.264865</td>\n",
       "      <td>...</td>\n",
       "      <td>529.195264</td>\n",
       "      <td>514.304205</td>\n",
       "      <td>0.604458</td>\n",
       "      <td>1.095943</td>\n",
       "      <td>119.626888</td>\n",
       "      <td>111.915902</td>\n",
       "      <td>106.384365</td>\n",
       "      <td>112.881256</td>\n",
       "      <td>76.683447</td>\n",
       "      <td>527.491857</td>\n",
       "    </tr>\n",
       "    <tr>\n",
       "      <td>std</td>\n",
       "      <td>9.912313</td>\n",
       "      <td>6.854073</td>\n",
       "      <td>1.017531</td>\n",
       "      <td>0.281289</td>\n",
       "      <td>0.875692</td>\n",
       "      <td>3.210353</td>\n",
       "      <td>0.568589</td>\n",
       "      <td>0.572495</td>\n",
       "      <td>0.333461</td>\n",
       "      <td>0.716922</td>\n",
       "      <td>...</td>\n",
       "      <td>73.086665</td>\n",
       "      <td>67.725564</td>\n",
       "      <td>0.489020</td>\n",
       "      <td>0.695047</td>\n",
       "      <td>29.028146</td>\n",
       "      <td>33.296849</td>\n",
       "      <td>33.834492</td>\n",
       "      <td>33.202244</td>\n",
       "      <td>42.985637</td>\n",
       "      <td>151.979490</td>\n",
       "    </tr>\n",
       "    <tr>\n",
       "      <td>min</td>\n",
       "      <td>11.000000</td>\n",
       "      <td>14.000000</td>\n",
       "      <td>0.000000</td>\n",
       "      <td>0.000000</td>\n",
       "      <td>1.000000</td>\n",
       "      <td>0.000000</td>\n",
       "      <td>1.000000</td>\n",
       "      <td>1.000000</td>\n",
       "      <td>0.000000</td>\n",
       "      <td>1.000000</td>\n",
       "      <td>...</td>\n",
       "      <td>0.000000</td>\n",
       "      <td>0.000000</td>\n",
       "      <td>0.000000</td>\n",
       "      <td>1.000000</td>\n",
       "      <td>0.000000</td>\n",
       "      <td>0.000000</td>\n",
       "      <td>0.000000</td>\n",
       "      <td>0.000000</td>\n",
       "      <td>0.000000</td>\n",
       "      <td>0.000000</td>\n",
       "    </tr>\n",
       "    <tr>\n",
       "      <td>25%</td>\n",
       "      <td>23.000000</td>\n",
       "      <td>17.000000</td>\n",
       "      <td>1.000000</td>\n",
       "      <td>1.000000</td>\n",
       "      <td>1.000000</td>\n",
       "      <td>0.000000</td>\n",
       "      <td>1.000000</td>\n",
       "      <td>1.000000</td>\n",
       "      <td>0.000000</td>\n",
       "      <td>2.000000</td>\n",
       "      <td>...</td>\n",
       "      <td>479.725000</td>\n",
       "      <td>468.400000</td>\n",
       "      <td>0.000000</td>\n",
       "      <td>1.000000</td>\n",
       "      <td>120.000000</td>\n",
       "      <td>100.000000</td>\n",
       "      <td>80.000000</td>\n",
       "      <td>100.000000</td>\n",
       "      <td>40.000000</td>\n",
       "      <td>440.000000</td>\n",
       "    </tr>\n",
       "    <tr>\n",
       "      <td>50%</td>\n",
       "      <td>31.000000</td>\n",
       "      <td>19.000000</td>\n",
       "      <td>3.000000</td>\n",
       "      <td>1.000000</td>\n",
       "      <td>2.000000</td>\n",
       "      <td>0.000000</td>\n",
       "      <td>1.000000</td>\n",
       "      <td>1.000000</td>\n",
       "      <td>0.000000</td>\n",
       "      <td>2.000000</td>\n",
       "      <td>...</td>\n",
       "      <td>532.000000</td>\n",
       "      <td>516.800000</td>\n",
       "      <td>1.000000</td>\n",
       "      <td>1.000000</td>\n",
       "      <td>120.000000</td>\n",
       "      <td>120.000000</td>\n",
       "      <td>100.000000</td>\n",
       "      <td>120.000000</td>\n",
       "      <td>80.000000</td>\n",
       "      <td>540.000000</td>\n",
       "    </tr>\n",
       "    <tr>\n",
       "      <td>75%</td>\n",
       "      <td>35.000000</td>\n",
       "      <td>23.000000</td>\n",
       "      <td>3.000000</td>\n",
       "      <td>1.000000</td>\n",
       "      <td>2.000000</td>\n",
       "      <td>3.000000</td>\n",
       "      <td>2.000000</td>\n",
       "      <td>1.000000</td>\n",
       "      <td>0.000000</td>\n",
       "      <td>2.000000</td>\n",
       "      <td>...</td>\n",
       "      <td>579.550000</td>\n",
       "      <td>562.400000</td>\n",
       "      <td>1.000000</td>\n",
       "      <td>1.000000</td>\n",
       "      <td>140.000000</td>\n",
       "      <td>120.000000</td>\n",
       "      <td>120.000000</td>\n",
       "      <td>120.000000</td>\n",
       "      <td>100.000000</td>\n",
       "      <td>600.000000</td>\n",
       "    </tr>\n",
       "    <tr>\n",
       "      <td>max</td>\n",
       "      <td>53.000000</td>\n",
       "      <td>65.000000</td>\n",
       "      <td>5.000000</td>\n",
       "      <td>4.000000</td>\n",
       "      <td>4.000000</td>\n",
       "      <td>10.000000</td>\n",
       "      <td>3.000000</td>\n",
       "      <td>3.000000</td>\n",
       "      <td>1.000000</td>\n",
       "      <td>4.000000</td>\n",
       "      <td>...</td>\n",
       "      <td>773.600000</td>\n",
       "      <td>708.900000</td>\n",
       "      <td>1.000000</td>\n",
       "      <td>9.000000</td>\n",
       "      <td>200.000000</td>\n",
       "      <td>200.000000</td>\n",
       "      <td>200.000000</td>\n",
       "      <td>200.000000</td>\n",
       "      <td>200.000000</td>\n",
       "      <td>980.000000</td>\n",
       "    </tr>\n",
       "  </tbody>\n",
       "</table>\n",
       "<p>8 rows × 32 columns</p>\n",
       "</div>"
      ],
      "text/plain": [
       "       CO_UF_RESIDENCIA     NU_IDADE  TP_COR_RACA  TP_NACIONALIDADE  \\\n",
       "count       4576.000000  4576.000000  4576.000000       4576.000000   \n",
       "mean          30.762019    21.542395     2.181163          1.060970   \n",
       "std            9.912313     6.854073     1.017531          0.281289   \n",
       "min           11.000000    14.000000     0.000000          0.000000   \n",
       "25%           23.000000    17.000000     1.000000          1.000000   \n",
       "50%           31.000000    19.000000     3.000000          1.000000   \n",
       "75%           35.000000    23.000000     3.000000          1.000000   \n",
       "max           53.000000    65.000000     5.000000          4.000000   \n",
       "\n",
       "       TP_ST_CONCLUSAO  TP_ANO_CONCLUIU    TP_ESCOLA    TP_ENSINO  \\\n",
       "count      4576.000000      4576.000000  4576.000000  1480.000000   \n",
       "mean          1.791084         2.119537     1.368663     1.182432   \n",
       "std           0.875692         3.210353     0.568589     0.572495   \n",
       "min           1.000000         0.000000     1.000000     1.000000   \n",
       "25%           1.000000         0.000000     1.000000     1.000000   \n",
       "50%           2.000000         0.000000     1.000000     1.000000   \n",
       "75%           2.000000         3.000000     2.000000     1.000000   \n",
       "max           4.000000        10.000000     3.000000     3.000000   \n",
       "\n",
       "       IN_TREINEIRO  TP_DEPENDENCIA_ADM_ESC  ...   NU_NOTA_CH   NU_NOTA_LC  \\\n",
       "count   4576.000000             1480.000000  ...  3442.000000  3377.000000   \n",
       "mean       0.127404                2.264865  ...   529.195264   514.304205   \n",
       "std        0.333461                0.716922  ...    73.086665    67.725564   \n",
       "min        0.000000                1.000000  ...     0.000000     0.000000   \n",
       "25%        0.000000                2.000000  ...   479.725000   468.400000   \n",
       "50%        0.000000                2.000000  ...   532.000000   516.800000   \n",
       "75%        0.000000                2.000000  ...   579.550000   562.400000   \n",
       "max        1.000000                4.000000  ...   773.600000   708.900000   \n",
       "\n",
       "         TP_LINGUA  TP_STATUS_REDACAO  NU_NOTA_COMP1  NU_NOTA_COMP2  \\\n",
       "count  4576.000000        3377.000000    3377.000000    3377.000000   \n",
       "mean      0.604458           1.095943     119.626888     111.915902   \n",
       "std       0.489020           0.695047      29.028146      33.296849   \n",
       "min       0.000000           1.000000       0.000000       0.000000   \n",
       "25%       0.000000           1.000000     120.000000     100.000000   \n",
       "50%       1.000000           1.000000     120.000000     120.000000   \n",
       "75%       1.000000           1.000000     140.000000     120.000000   \n",
       "max       1.000000           9.000000     200.000000     200.000000   \n",
       "\n",
       "       NU_NOTA_COMP3  NU_NOTA_COMP4  NU_NOTA_COMP5  NU_NOTA_REDACAO  \n",
       "count    3377.000000    3377.000000    3377.000000      3377.000000  \n",
       "mean      106.384365     112.881256      76.683447       527.491857  \n",
       "std        33.834492      33.202244      42.985637       151.979490  \n",
       "min         0.000000       0.000000       0.000000         0.000000  \n",
       "25%        80.000000     100.000000      40.000000       440.000000  \n",
       "50%       100.000000     120.000000      80.000000       540.000000  \n",
       "75%       120.000000     120.000000     100.000000       600.000000  \n",
       "max       200.000000     200.000000     200.000000       980.000000  \n",
       "\n",
       "[8 rows x 32 columns]"
      ]
     },
     "execution_count": 10,
     "metadata": {},
     "output_type": "execute_result"
    }
   ],
   "source": [
    "base_teste.describe()"
   ]
  },
  {
   "cell_type": "markdown",
   "metadata": {},
   "source": [
    "# 2.0 - LIMPEZA DOS DADOS"
   ]
  },
  {
   "cell_type": "code",
   "execution_count": 11,
   "metadata": {
    "ExecuteTime": {
     "end_time": "2020-06-04T05:58:17.836223Z",
     "start_time": "2020-06-04T05:58:17.794320Z"
    }
   },
   "outputs": [],
   "source": [
    "base_treino2 = base_treino.copy()\n",
    "base_teste2 = base_teste.copy() #copias dos dados"
   ]
  },
  {
   "cell_type": "markdown",
   "metadata": {},
   "source": [
    "# 2.1 - Análise dos Aributos"
   ]
  },
  {
   "cell_type": "markdown",
   "metadata": {},
   "source": [
    "## 2.1.1 - Listar Nomes das Colunas (Atributos)"
   ]
  },
  {
   "cell_type": "code",
   "execution_count": 12,
   "metadata": {
    "ExecuteTime": {
     "end_time": "2020-06-04T05:58:17.966860Z",
     "start_time": "2020-06-04T05:58:17.839201Z"
    }
   },
   "outputs": [
    {
     "data": {
      "text/plain": [
       "['Unnamed: 0',\n",
       " 'NU_INSCRICAO',\n",
       " 'NU_ANO',\n",
       " 'CO_MUNICIPIO_RESIDENCIA',\n",
       " 'NO_MUNICIPIO_RESIDENCIA',\n",
       " 'CO_UF_RESIDENCIA',\n",
       " 'SG_UF_RESIDENCIA',\n",
       " 'NU_IDADE',\n",
       " 'TP_SEXO',\n",
       " 'TP_ESTADO_CIVIL',\n",
       " 'TP_COR_RACA',\n",
       " 'TP_NACIONALIDADE',\n",
       " 'CO_MUNICIPIO_NASCIMENTO',\n",
       " 'NO_MUNICIPIO_NASCIMENTO',\n",
       " 'CO_UF_NASCIMENTO',\n",
       " 'SG_UF_NASCIMENTO',\n",
       " 'TP_ST_CONCLUSAO',\n",
       " 'TP_ANO_CONCLUIU',\n",
       " 'TP_ESCOLA',\n",
       " 'TP_ENSINO',\n",
       " 'IN_TREINEIRO',\n",
       " 'CO_ESCOLA',\n",
       " 'CO_MUNICIPIO_ESC',\n",
       " 'NO_MUNICIPIO_ESC',\n",
       " 'CO_UF_ESC',\n",
       " 'SG_UF_ESC',\n",
       " 'TP_DEPENDENCIA_ADM_ESC',\n",
       " 'TP_LOCALIZACAO_ESC',\n",
       " 'TP_SIT_FUNC_ESC',\n",
       " 'IN_BAIXA_VISAO',\n",
       " 'IN_CEGUEIRA',\n",
       " 'IN_SURDEZ',\n",
       " 'IN_DEFICIENCIA_AUDITIVA',\n",
       " 'IN_SURDO_CEGUEIRA',\n",
       " 'IN_DEFICIENCIA_FISICA',\n",
       " 'IN_DEFICIENCIA_MENTAL',\n",
       " 'IN_DEFICIT_ATENCAO',\n",
       " 'IN_DISLEXIA',\n",
       " 'IN_DISCALCULIA',\n",
       " 'IN_AUTISMO',\n",
       " 'IN_VISAO_MONOCULAR',\n",
       " 'IN_OUTRA_DEF',\n",
       " 'IN_SABATISTA',\n",
       " 'IN_GESTANTE',\n",
       " 'IN_LACTANTE',\n",
       " 'IN_IDOSO',\n",
       " 'IN_ESTUDA_CLASSE_HOSPITALAR',\n",
       " 'IN_SEM_RECURSO',\n",
       " 'IN_BRAILLE',\n",
       " 'IN_AMPLIADA_24',\n",
       " 'IN_AMPLIADA_18',\n",
       " 'IN_LEDOR',\n",
       " 'IN_ACESSO',\n",
       " 'IN_TRANSCRICAO',\n",
       " 'IN_LIBRAS',\n",
       " 'IN_LEITURA_LABIAL',\n",
       " 'IN_MESA_CADEIRA_RODAS',\n",
       " 'IN_MESA_CADEIRA_SEPARADA',\n",
       " 'IN_APOIO_PERNA',\n",
       " 'IN_GUIA_INTERPRETE',\n",
       " 'IN_MACA',\n",
       " 'IN_COMPUTADOR',\n",
       " 'IN_CADEIRA_ESPECIAL',\n",
       " 'IN_CADEIRA_CANHOTO',\n",
       " 'IN_CADEIRA_ACOLCHOADA',\n",
       " 'IN_PROVA_DEITADO',\n",
       " 'IN_MOBILIARIO_OBESO',\n",
       " 'IN_LAMINA_OVERLAY',\n",
       " 'IN_PROTETOR_AURICULAR',\n",
       " 'IN_MEDIDOR_GLICOSE',\n",
       " 'IN_MAQUINA_BRAILE',\n",
       " 'IN_SOROBAN',\n",
       " 'IN_MARCA_PASSO',\n",
       " 'IN_SONDA',\n",
       " 'IN_MEDICAMENTOS',\n",
       " 'IN_SALA_INDIVIDUAL',\n",
       " 'IN_SALA_ESPECIAL',\n",
       " 'IN_SALA_ACOMPANHANTE',\n",
       " 'IN_MOBILIARIO_ESPECIFICO',\n",
       " 'IN_MATERIAL_ESPECIFICO',\n",
       " 'IN_NOME_SOCIAL',\n",
       " 'IN_CERTIFICADO',\n",
       " 'NO_ENTIDADE_CERTIFICACAO',\n",
       " 'CO_UF_ENTIDADE_CERTIFICACAO',\n",
       " 'SG_UF_ENTIDADE_CERTIFICACAO',\n",
       " 'CO_MUNICIPIO_PROVA',\n",
       " 'NO_MUNICIPIO_PROVA',\n",
       " 'CO_UF_PROVA',\n",
       " 'SG_UF_PROVA',\n",
       " 'TP_PRESENCA_CN',\n",
       " 'TP_PRESENCA_CH',\n",
       " 'TP_PRESENCA_LC',\n",
       " 'TP_PRESENCA_MT',\n",
       " 'CO_PROVA_CN',\n",
       " 'CO_PROVA_CH',\n",
       " 'CO_PROVA_LC',\n",
       " 'CO_PROVA_MT',\n",
       " 'NU_NOTA_CN',\n",
       " 'NU_NOTA_CH',\n",
       " 'NU_NOTA_LC',\n",
       " 'NU_NOTA_MT',\n",
       " 'TX_RESPOSTAS_CN',\n",
       " 'TX_RESPOSTAS_CH',\n",
       " 'TX_RESPOSTAS_LC',\n",
       " 'TX_RESPOSTAS_MT',\n",
       " 'TP_LINGUA',\n",
       " 'TX_GABARITO_CN',\n",
       " 'TX_GABARITO_CH',\n",
       " 'TX_GABARITO_LC',\n",
       " 'TX_GABARITO_MT',\n",
       " 'TP_STATUS_REDACAO',\n",
       " 'NU_NOTA_COMP1',\n",
       " 'NU_NOTA_COMP2',\n",
       " 'NU_NOTA_COMP3',\n",
       " 'NU_NOTA_COMP4',\n",
       " 'NU_NOTA_COMP5',\n",
       " 'NU_NOTA_REDACAO',\n",
       " 'Q001',\n",
       " 'Q002',\n",
       " 'Q003',\n",
       " 'Q004',\n",
       " 'Q005',\n",
       " 'Q006',\n",
       " 'Q007',\n",
       " 'Q008',\n",
       " 'Q009',\n",
       " 'Q010',\n",
       " 'Q011',\n",
       " 'Q012',\n",
       " 'Q013',\n",
       " 'Q014',\n",
       " 'Q015',\n",
       " 'Q016',\n",
       " 'Q017',\n",
       " 'Q018',\n",
       " 'Q019',\n",
       " 'Q020',\n",
       " 'Q021',\n",
       " 'Q022',\n",
       " 'Q023',\n",
       " 'Q024',\n",
       " 'Q025',\n",
       " 'Q026',\n",
       " 'Q027',\n",
       " 'Q028',\n",
       " 'Q029',\n",
       " 'Q030',\n",
       " 'Q031',\n",
       " 'Q032',\n",
       " 'Q033',\n",
       " 'Q034',\n",
       " 'Q035',\n",
       " 'Q036',\n",
       " 'Q037',\n",
       " 'Q038',\n",
       " 'Q039',\n",
       " 'Q040',\n",
       " 'Q041',\n",
       " 'Q042',\n",
       " 'Q043',\n",
       " 'Q044',\n",
       " 'Q045',\n",
       " 'Q046',\n",
       " 'Q047',\n",
       " 'Q048',\n",
       " 'Q049',\n",
       " 'Q050']"
      ]
     },
     "execution_count": 12,
     "metadata": {},
     "output_type": "execute_result"
    }
   ],
   "source": [
    "# Lista todas as colunas\n",
    "list(base_treino2)"
   ]
  },
  {
   "cell_type": "code",
   "execution_count": 13,
   "metadata": {
    "ExecuteTime": {
     "end_time": "2020-06-04T05:58:18.121041Z",
     "start_time": "2020-06-04T05:58:17.969851Z"
    },
    "scrolled": true
   },
   "outputs": [
    {
     "data": {
      "text/plain": [
       "['NU_INSCRICAO',\n",
       " 'CO_UF_RESIDENCIA',\n",
       " 'SG_UF_RESIDENCIA',\n",
       " 'NU_IDADE',\n",
       " 'TP_SEXO',\n",
       " 'TP_COR_RACA',\n",
       " 'TP_NACIONALIDADE',\n",
       " 'TP_ST_CONCLUSAO',\n",
       " 'TP_ANO_CONCLUIU',\n",
       " 'TP_ESCOLA',\n",
       " 'TP_ENSINO',\n",
       " 'IN_TREINEIRO',\n",
       " 'TP_DEPENDENCIA_ADM_ESC',\n",
       " 'IN_BAIXA_VISAO',\n",
       " 'IN_CEGUEIRA',\n",
       " 'IN_SURDEZ',\n",
       " 'IN_DISLEXIA',\n",
       " 'IN_DISCALCULIA',\n",
       " 'IN_SABATISTA',\n",
       " 'IN_GESTANTE',\n",
       " 'IN_IDOSO',\n",
       " 'TP_PRESENCA_CN',\n",
       " 'TP_PRESENCA_CH',\n",
       " 'TP_PRESENCA_LC',\n",
       " 'CO_PROVA_CN',\n",
       " 'CO_PROVA_CH',\n",
       " 'CO_PROVA_LC',\n",
       " 'CO_PROVA_MT',\n",
       " 'NU_NOTA_CN',\n",
       " 'NU_NOTA_CH',\n",
       " 'NU_NOTA_LC',\n",
       " 'TP_LINGUA',\n",
       " 'TP_STATUS_REDACAO',\n",
       " 'NU_NOTA_COMP1',\n",
       " 'NU_NOTA_COMP2',\n",
       " 'NU_NOTA_COMP3',\n",
       " 'NU_NOTA_COMP4',\n",
       " 'NU_NOTA_COMP5',\n",
       " 'NU_NOTA_REDACAO',\n",
       " 'Q001',\n",
       " 'Q002',\n",
       " 'Q006',\n",
       " 'Q024',\n",
       " 'Q025',\n",
       " 'Q026',\n",
       " 'Q027',\n",
       " 'Q047']"
      ]
     },
     "execution_count": 13,
     "metadata": {},
     "output_type": "execute_result"
    }
   ],
   "source": [
    "# Lista todas as colunas\n",
    "list(base_teste2)"
   ]
  },
  {
   "cell_type": "markdown",
   "metadata": {
    "ExecuteTime": {
     "end_time": "2020-05-29T08:35:32.563760Z",
     "start_time": "2020-05-29T08:35:32.558772Z"
    }
   },
   "source": [
    "## Igualar colunas Treino e Teste"
   ]
  },
  {
   "cell_type": "code",
   "execution_count": 14,
   "metadata": {
    "ExecuteTime": {
     "end_time": "2020-06-04T05:58:18.240954Z",
     "start_time": "2020-06-04T05:58:18.122998Z"
    }
   },
   "outputs": [
    {
     "name": "stderr",
     "output_type": "stream",
     "text": [
      "C:\\Users\\marcu\\Anaconda3\\lib\\site-packages\\ipykernel_launcher.py:2: SettingWithCopyWarning: \n",
      "A value is trying to be set on a copy of a slice from a DataFrame.\n",
      "Try using .loc[row_indexer,col_indexer] = value instead\n",
      "\n",
      "See the caveats in the documentation: http://pandas.pydata.org/pandas-docs/stable/user_guide/indexing.html#returning-a-view-versus-a-copy\n",
      "  \n"
     ]
    },
    {
     "data": {
      "text/plain": [
       "(13730, 48)"
      ]
     },
     "execution_count": 14,
     "metadata": {},
     "output_type": "execute_result"
    }
   ],
   "source": [
    "base_treino21 = base_treino2[base_teste2.columns]\n",
    "base_treino21['NU_NOTA_MT'] = base_treino2['NU_NOTA_MT']\n",
    "base_treino21.shape"
   ]
  },
  {
   "cell_type": "code",
   "execution_count": 15,
   "metadata": {
    "ExecuteTime": {
     "end_time": "2020-06-04T05:58:18.408504Z",
     "start_time": "2020-06-04T05:58:18.242950Z"
    }
   },
   "outputs": [
    {
     "data": {
      "text/html": [
       "<div>\n",
       "<style scoped>\n",
       "    .dataframe tbody tr th:only-of-type {\n",
       "        vertical-align: middle;\n",
       "    }\n",
       "\n",
       "    .dataframe tbody tr th {\n",
       "        vertical-align: top;\n",
       "    }\n",
       "\n",
       "    .dataframe thead th {\n",
       "        text-align: right;\n",
       "    }\n",
       "</style>\n",
       "<table border=\"1\" class=\"dataframe\">\n",
       "  <thead>\n",
       "    <tr style=\"text-align: right;\">\n",
       "      <th></th>\n",
       "      <th>NU_INSCRICAO</th>\n",
       "      <th>CO_UF_RESIDENCIA</th>\n",
       "      <th>SG_UF_RESIDENCIA</th>\n",
       "      <th>NU_IDADE</th>\n",
       "      <th>TP_SEXO</th>\n",
       "      <th>TP_COR_RACA</th>\n",
       "      <th>TP_NACIONALIDADE</th>\n",
       "      <th>TP_ST_CONCLUSAO</th>\n",
       "      <th>TP_ANO_CONCLUIU</th>\n",
       "      <th>TP_ESCOLA</th>\n",
       "      <th>...</th>\n",
       "      <th>NU_NOTA_REDACAO</th>\n",
       "      <th>Q001</th>\n",
       "      <th>Q002</th>\n",
       "      <th>Q006</th>\n",
       "      <th>Q024</th>\n",
       "      <th>Q025</th>\n",
       "      <th>Q026</th>\n",
       "      <th>Q027</th>\n",
       "      <th>Q047</th>\n",
       "      <th>NU_NOTA_MT</th>\n",
       "    </tr>\n",
       "  </thead>\n",
       "  <tbody>\n",
       "    <tr>\n",
       "      <td>0</td>\n",
       "      <td>ed50e8aaa58e7a806c337585efee9ca41f1eb1ad</td>\n",
       "      <td>43</td>\n",
       "      <td>RS</td>\n",
       "      <td>24</td>\n",
       "      <td>M</td>\n",
       "      <td>1</td>\n",
       "      <td>1</td>\n",
       "      <td>1</td>\n",
       "      <td>4</td>\n",
       "      <td>1</td>\n",
       "      <td>...</td>\n",
       "      <td>520.0</td>\n",
       "      <td>D</td>\n",
       "      <td>D</td>\n",
       "      <td>C</td>\n",
       "      <td>A</td>\n",
       "      <td>A</td>\n",
       "      <td>C</td>\n",
       "      <td>H</td>\n",
       "      <td>A</td>\n",
       "      <td>399.4</td>\n",
       "    </tr>\n",
       "    <tr>\n",
       "      <td>1</td>\n",
       "      <td>2c3acac4b33ec2b195d77e7c04a2d75727fad723</td>\n",
       "      <td>23</td>\n",
       "      <td>CE</td>\n",
       "      <td>17</td>\n",
       "      <td>F</td>\n",
       "      <td>3</td>\n",
       "      <td>1</td>\n",
       "      <td>2</td>\n",
       "      <td>0</td>\n",
       "      <td>2</td>\n",
       "      <td>...</td>\n",
       "      <td>580.0</td>\n",
       "      <td>A</td>\n",
       "      <td>A</td>\n",
       "      <td>B</td>\n",
       "      <td>A</td>\n",
       "      <td>A</td>\n",
       "      <td>A</td>\n",
       "      <td>NaN</td>\n",
       "      <td>A</td>\n",
       "      <td>459.8</td>\n",
       "    </tr>\n",
       "    <tr>\n",
       "      <td>2</td>\n",
       "      <td>f4545f8ccb9ff5c8aad7d32951b3f251a26e6568</td>\n",
       "      <td>23</td>\n",
       "      <td>CE</td>\n",
       "      <td>21</td>\n",
       "      <td>F</td>\n",
       "      <td>3</td>\n",
       "      <td>1</td>\n",
       "      <td>3</td>\n",
       "      <td>0</td>\n",
       "      <td>1</td>\n",
       "      <td>...</td>\n",
       "      <td>NaN</td>\n",
       "      <td>D</td>\n",
       "      <td>D</td>\n",
       "      <td>C</td>\n",
       "      <td>A</td>\n",
       "      <td>A</td>\n",
       "      <td>A</td>\n",
       "      <td>NaN</td>\n",
       "      <td>A</td>\n",
       "      <td>NaN</td>\n",
       "    </tr>\n",
       "    <tr>\n",
       "      <td>3</td>\n",
       "      <td>3d6ec248fef899c414e77f82d5c6d2bffbeaf7fe</td>\n",
       "      <td>33</td>\n",
       "      <td>RJ</td>\n",
       "      <td>25</td>\n",
       "      <td>F</td>\n",
       "      <td>0</td>\n",
       "      <td>1</td>\n",
       "      <td>1</td>\n",
       "      <td>9</td>\n",
       "      <td>1</td>\n",
       "      <td>...</td>\n",
       "      <td>NaN</td>\n",
       "      <td>H</td>\n",
       "      <td>E</td>\n",
       "      <td>E</td>\n",
       "      <td>C</td>\n",
       "      <td>B</td>\n",
       "      <td>C</td>\n",
       "      <td>F</td>\n",
       "      <td>D</td>\n",
       "      <td>NaN</td>\n",
       "    </tr>\n",
       "    <tr>\n",
       "      <td>4</td>\n",
       "      <td>bf896ac8d3ecadd6dba1dfbf50110afcbf5d3268</td>\n",
       "      <td>13</td>\n",
       "      <td>AM</td>\n",
       "      <td>28</td>\n",
       "      <td>M</td>\n",
       "      <td>2</td>\n",
       "      <td>1</td>\n",
       "      <td>1</td>\n",
       "      <td>4</td>\n",
       "      <td>1</td>\n",
       "      <td>...</td>\n",
       "      <td>NaN</td>\n",
       "      <td>E</td>\n",
       "      <td>D</td>\n",
       "      <td>C</td>\n",
       "      <td>A</td>\n",
       "      <td>A</td>\n",
       "      <td>B</td>\n",
       "      <td>F</td>\n",
       "      <td>A</td>\n",
       "      <td>NaN</td>\n",
       "    </tr>\n",
       "    <tr>\n",
       "      <td>...</td>\n",
       "      <td>...</td>\n",
       "      <td>...</td>\n",
       "      <td>...</td>\n",
       "      <td>...</td>\n",
       "      <td>...</td>\n",
       "      <td>...</td>\n",
       "      <td>...</td>\n",
       "      <td>...</td>\n",
       "      <td>...</td>\n",
       "      <td>...</td>\n",
       "      <td>...</td>\n",
       "      <td>...</td>\n",
       "      <td>...</td>\n",
       "      <td>...</td>\n",
       "      <td>...</td>\n",
       "      <td>...</td>\n",
       "      <td>...</td>\n",
       "      <td>...</td>\n",
       "      <td>...</td>\n",
       "      <td>...</td>\n",
       "      <td>...</td>\n",
       "    </tr>\n",
       "    <tr>\n",
       "      <td>13725</td>\n",
       "      <td>aadf671ef8c1c6efa42e69432093ab83c17a52ac</td>\n",
       "      <td>35</td>\n",
       "      <td>SP</td>\n",
       "      <td>20</td>\n",
       "      <td>M</td>\n",
       "      <td>1</td>\n",
       "      <td>1</td>\n",
       "      <td>1</td>\n",
       "      <td>3</td>\n",
       "      <td>1</td>\n",
       "      <td>...</td>\n",
       "      <td>440.0</td>\n",
       "      <td>E</td>\n",
       "      <td>E</td>\n",
       "      <td>G</td>\n",
       "      <td>B</td>\n",
       "      <td>B</td>\n",
       "      <td>B</td>\n",
       "      <td>C</td>\n",
       "      <td>A</td>\n",
       "      <td>403.2</td>\n",
       "    </tr>\n",
       "    <tr>\n",
       "      <td>13726</td>\n",
       "      <td>461f7ef2753d9d5fa0b054930d6b0e0eec318e81</td>\n",
       "      <td>26</td>\n",
       "      <td>PE</td>\n",
       "      <td>33</td>\n",
       "      <td>F</td>\n",
       "      <td>3</td>\n",
       "      <td>2</td>\n",
       "      <td>1</td>\n",
       "      <td>10</td>\n",
       "      <td>1</td>\n",
       "      <td>...</td>\n",
       "      <td>560.0</td>\n",
       "      <td>A</td>\n",
       "      <td>A</td>\n",
       "      <td>C</td>\n",
       "      <td>A</td>\n",
       "      <td>B</td>\n",
       "      <td>B</td>\n",
       "      <td>I</td>\n",
       "      <td>A</td>\n",
       "      <td>452.4</td>\n",
       "    </tr>\n",
       "    <tr>\n",
       "      <td>13727</td>\n",
       "      <td>5354503700ecf2388f68990435390b6e1ad454ee</td>\n",
       "      <td>43</td>\n",
       "      <td>RS</td>\n",
       "      <td>15</td>\n",
       "      <td>F</td>\n",
       "      <td>1</td>\n",
       "      <td>1</td>\n",
       "      <td>3</td>\n",
       "      <td>0</td>\n",
       "      <td>1</td>\n",
       "      <td>...</td>\n",
       "      <td>600.0</td>\n",
       "      <td>C</td>\n",
       "      <td>G</td>\n",
       "      <td>B</td>\n",
       "      <td>A</td>\n",
       "      <td>B</td>\n",
       "      <td>A</td>\n",
       "      <td>NaN</td>\n",
       "      <td>A</td>\n",
       "      <td>398.0</td>\n",
       "    </tr>\n",
       "    <tr>\n",
       "      <td>13728</td>\n",
       "      <td>c7a9e94a42bd76b7978f13c013a61702e36cc42c</td>\n",
       "      <td>33</td>\n",
       "      <td>RJ</td>\n",
       "      <td>36</td>\n",
       "      <td>M</td>\n",
       "      <td>3</td>\n",
       "      <td>1</td>\n",
       "      <td>4</td>\n",
       "      <td>0</td>\n",
       "      <td>1</td>\n",
       "      <td>...</td>\n",
       "      <td>460.0</td>\n",
       "      <td>B</td>\n",
       "      <td>D</td>\n",
       "      <td>G</td>\n",
       "      <td>B</td>\n",
       "      <td>B</td>\n",
       "      <td>C</td>\n",
       "      <td>E</td>\n",
       "      <td>A</td>\n",
       "      <td>386.6</td>\n",
       "    </tr>\n",
       "    <tr>\n",
       "      <td>13729</td>\n",
       "      <td>0af8939c470a600b30bdaa80375ee0db848b0e35</td>\n",
       "      <td>41</td>\n",
       "      <td>PR</td>\n",
       "      <td>17</td>\n",
       "      <td>M</td>\n",
       "      <td>1</td>\n",
       "      <td>1</td>\n",
       "      <td>2</td>\n",
       "      <td>0</td>\n",
       "      <td>2</td>\n",
       "      <td>...</td>\n",
       "      <td>520.0</td>\n",
       "      <td>E</td>\n",
       "      <td>D</td>\n",
       "      <td>F</td>\n",
       "      <td>C</td>\n",
       "      <td>B</td>\n",
       "      <td>A</td>\n",
       "      <td>NaN</td>\n",
       "      <td>A</td>\n",
       "      <td>428.9</td>\n",
       "    </tr>\n",
       "  </tbody>\n",
       "</table>\n",
       "<p>13730 rows × 48 columns</p>\n",
       "</div>"
      ],
      "text/plain": [
       "                                   NU_INSCRICAO  CO_UF_RESIDENCIA  \\\n",
       "0      ed50e8aaa58e7a806c337585efee9ca41f1eb1ad                43   \n",
       "1      2c3acac4b33ec2b195d77e7c04a2d75727fad723                23   \n",
       "2      f4545f8ccb9ff5c8aad7d32951b3f251a26e6568                23   \n",
       "3      3d6ec248fef899c414e77f82d5c6d2bffbeaf7fe                33   \n",
       "4      bf896ac8d3ecadd6dba1dfbf50110afcbf5d3268                13   \n",
       "...                                         ...               ...   \n",
       "13725  aadf671ef8c1c6efa42e69432093ab83c17a52ac                35   \n",
       "13726  461f7ef2753d9d5fa0b054930d6b0e0eec318e81                26   \n",
       "13727  5354503700ecf2388f68990435390b6e1ad454ee                43   \n",
       "13728  c7a9e94a42bd76b7978f13c013a61702e36cc42c                33   \n",
       "13729  0af8939c470a600b30bdaa80375ee0db848b0e35                41   \n",
       "\n",
       "      SG_UF_RESIDENCIA  NU_IDADE TP_SEXO  TP_COR_RACA  TP_NACIONALIDADE  \\\n",
       "0                   RS        24       M            1                 1   \n",
       "1                   CE        17       F            3                 1   \n",
       "2                   CE        21       F            3                 1   \n",
       "3                   RJ        25       F            0                 1   \n",
       "4                   AM        28       M            2                 1   \n",
       "...                ...       ...     ...          ...               ...   \n",
       "13725               SP        20       M            1                 1   \n",
       "13726               PE        33       F            3                 2   \n",
       "13727               RS        15       F            1                 1   \n",
       "13728               RJ        36       M            3                 1   \n",
       "13729               PR        17       M            1                 1   \n",
       "\n",
       "       TP_ST_CONCLUSAO  TP_ANO_CONCLUIU  TP_ESCOLA  ...  NU_NOTA_REDACAO  \\\n",
       "0                    1                4          1  ...            520.0   \n",
       "1                    2                0          2  ...            580.0   \n",
       "2                    3                0          1  ...              NaN   \n",
       "3                    1                9          1  ...              NaN   \n",
       "4                    1                4          1  ...              NaN   \n",
       "...                ...              ...        ...  ...              ...   \n",
       "13725                1                3          1  ...            440.0   \n",
       "13726                1               10          1  ...            560.0   \n",
       "13727                3                0          1  ...            600.0   \n",
       "13728                4                0          1  ...            460.0   \n",
       "13729                2                0          2  ...            520.0   \n",
       "\n",
       "       Q001  Q002  Q006  Q024  Q025  Q026  Q027  Q047  NU_NOTA_MT  \n",
       "0         D     D     C     A     A     C     H     A       399.4  \n",
       "1         A     A     B     A     A     A   NaN     A       459.8  \n",
       "2         D     D     C     A     A     A   NaN     A         NaN  \n",
       "3         H     E     E     C     B     C     F     D         NaN  \n",
       "4         E     D     C     A     A     B     F     A         NaN  \n",
       "...     ...   ...   ...   ...   ...   ...   ...   ...         ...  \n",
       "13725     E     E     G     B     B     B     C     A       403.2  \n",
       "13726     A     A     C     A     B     B     I     A       452.4  \n",
       "13727     C     G     B     A     B     A   NaN     A       398.0  \n",
       "13728     B     D     G     B     B     C     E     A       386.6  \n",
       "13729     E     D     F     C     B     A   NaN     A       428.9  \n",
       "\n",
       "[13730 rows x 48 columns]"
      ]
     },
     "execution_count": 15,
     "metadata": {},
     "output_type": "execute_result"
    }
   ],
   "source": [
    "base_treino21"
   ]
  },
  {
   "cell_type": "code",
   "execution_count": 16,
   "metadata": {
    "ExecuteTime": {
     "end_time": "2020-06-04T05:58:18.466732Z",
     "start_time": "2020-06-04T05:58:18.410461Z"
    }
   },
   "outputs": [
    {
     "data": {
      "text/plain": [
       "['NU_INSCRICAO',\n",
       " 'CO_UF_RESIDENCIA',\n",
       " 'SG_UF_RESIDENCIA',\n",
       " 'NU_IDADE',\n",
       " 'TP_SEXO',\n",
       " 'TP_COR_RACA',\n",
       " 'TP_NACIONALIDADE',\n",
       " 'TP_ST_CONCLUSAO',\n",
       " 'TP_ANO_CONCLUIU',\n",
       " 'TP_ESCOLA',\n",
       " 'TP_ENSINO',\n",
       " 'IN_TREINEIRO',\n",
       " 'TP_DEPENDENCIA_ADM_ESC',\n",
       " 'IN_BAIXA_VISAO',\n",
       " 'IN_CEGUEIRA',\n",
       " 'IN_SURDEZ',\n",
       " 'IN_DISLEXIA',\n",
       " 'IN_DISCALCULIA',\n",
       " 'IN_SABATISTA',\n",
       " 'IN_GESTANTE',\n",
       " 'IN_IDOSO',\n",
       " 'TP_PRESENCA_CN',\n",
       " 'TP_PRESENCA_CH',\n",
       " 'TP_PRESENCA_LC',\n",
       " 'CO_PROVA_CN',\n",
       " 'CO_PROVA_CH',\n",
       " 'CO_PROVA_LC',\n",
       " 'CO_PROVA_MT',\n",
       " 'NU_NOTA_CN',\n",
       " 'NU_NOTA_CH',\n",
       " 'NU_NOTA_LC',\n",
       " 'TP_LINGUA',\n",
       " 'TP_STATUS_REDACAO',\n",
       " 'NU_NOTA_COMP1',\n",
       " 'NU_NOTA_COMP2',\n",
       " 'NU_NOTA_COMP3',\n",
       " 'NU_NOTA_COMP4',\n",
       " 'NU_NOTA_COMP5',\n",
       " 'NU_NOTA_REDACAO',\n",
       " 'Q001',\n",
       " 'Q002',\n",
       " 'Q006',\n",
       " 'Q024',\n",
       " 'Q025',\n",
       " 'Q026',\n",
       " 'Q027',\n",
       " 'Q047',\n",
       " 'NU_NOTA_MT']"
      ]
     },
     "execution_count": 16,
     "metadata": {},
     "output_type": "execute_result"
    }
   ],
   "source": [
    "list(base_treino21)"
   ]
  },
  {
   "cell_type": "markdown",
   "metadata": {
    "ExecuteTime": {
     "end_time": "2020-05-29T08:37:43.261216Z",
     "start_time": "2020-05-29T08:37:43.257230Z"
    }
   },
   "source": [
    "#### Como a base train possui muitas linhas inicialmente vamos trata-la como a base completa e dividi-la para treino e teste.\n",
    "#### A base test será usada apenas para prever os novos valores, pois ela não possui a coluna NU_NOTA_MT (saída)."
   ]
  },
  {
   "cell_type": "markdown",
   "metadata": {},
   "source": [
    "Verificar em cada variável o seu significado, relevância (para a sua saída):\n",
    "\n",
    "1. tipo\n",
    "2. Segmento (característica geral que influencia. Ex: localização (preço das casas)\n",
    "3. Expectativa (importância)\n",
    "4. Comentários "
   ]
  },
  {
   "cell_type": "code",
   "execution_count": 17,
   "metadata": {
    "ExecuteTime": {
     "end_time": "2020-06-04T05:58:18.564919Z",
     "start_time": "2020-06-04T05:58:18.468727Z"
    }
   },
   "outputs": [
    {
     "data": {
      "text/plain": [
       "NU_INSCRICAO               object\n",
       "CO_UF_RESIDENCIA            int64\n",
       "SG_UF_RESIDENCIA           object\n",
       "NU_IDADE                    int64\n",
       "TP_SEXO                    object\n",
       "TP_COR_RACA                 int64\n",
       "TP_NACIONALIDADE            int64\n",
       "TP_ST_CONCLUSAO             int64\n",
       "TP_ANO_CONCLUIU             int64\n",
       "TP_ESCOLA                   int64\n",
       "TP_ENSINO                 float64\n",
       "IN_TREINEIRO                int64\n",
       "TP_DEPENDENCIA_ADM_ESC    float64\n",
       "IN_BAIXA_VISAO              int64\n",
       "IN_CEGUEIRA                 int64\n",
       "IN_SURDEZ                   int64\n",
       "IN_DISLEXIA                 int64\n",
       "IN_DISCALCULIA              int64\n",
       "IN_SABATISTA                int64\n",
       "IN_GESTANTE                 int64\n",
       "IN_IDOSO                    int64\n",
       "TP_PRESENCA_CN              int64\n",
       "TP_PRESENCA_CH              int64\n",
       "TP_PRESENCA_LC              int64\n",
       "CO_PROVA_CN                object\n",
       "CO_PROVA_CH                object\n",
       "CO_PROVA_LC                object\n",
       "CO_PROVA_MT                object\n",
       "NU_NOTA_CN                float64\n",
       "NU_NOTA_CH                float64\n",
       "NU_NOTA_LC                float64\n",
       "TP_LINGUA                   int64\n",
       "TP_STATUS_REDACAO         float64\n",
       "NU_NOTA_COMP1             float64\n",
       "NU_NOTA_COMP2             float64\n",
       "NU_NOTA_COMP3             float64\n",
       "NU_NOTA_COMP4             float64\n",
       "NU_NOTA_COMP5             float64\n",
       "NU_NOTA_REDACAO           float64\n",
       "Q001                       object\n",
       "Q002                       object\n",
       "Q006                       object\n",
       "Q024                       object\n",
       "Q025                       object\n",
       "Q026                       object\n",
       "Q027                       object\n",
       "Q047                       object\n",
       "NU_NOTA_MT                float64\n",
       "dtype: object"
      ]
     },
     "execution_count": 17,
     "metadata": {},
     "output_type": "execute_result"
    }
   ],
   "source": [
    "#1 - Tipo\n",
    "base_treino21.dtypes"
   ]
  },
  {
   "cell_type": "markdown",
   "metadata": {},
   "source": [
    "Levantar hipóteses sobre as variáveis.\n",
    "\n",
    "1. Questione as variáveis.\n",
    "2. Sua importância e etc.\n",
    "3. Avaliar hipóteses. (gráficos)"
   ]
  },
  {
   "cell_type": "raw",
   "metadata": {},
   "source": [
    "01 - Pessoas com 17 e 18 anos tem notas maiores?\n",
    "02 - HOMEM TEM A NOTA MAIOR?\n",
    "03 - PESSOAS DO 3º ANO TEM NOTA MAIOR?\n",
    "04 - QUEM CONCLUIU A MAIS TEMPO TEM NOTA PIOR?\n",
    "05 - NOTAS DE ESCOLA PARTICULAR É MELHOR?\n",
    "06 - NOTAS DE ESCOLA COM ENSINO PRESENCIAL É MELHOR?\n",
    "07 - TREINEIROS VÃO MAL?\n",
    "08 - O TIPO DE ADMINISTRAÇÃO DA ESCOLA INTERFERE NA NOTA?\n",
    "09 - ESTÁR EM GESTAÇÃO INTERFERE PIORA A NOTA?\n",
    "10 - IDOSOS TEM NOTA MAIS BAIXA?\n",
    "11 - PESSOAS COM NOTAS BOAS EM CN TAMBÉM SÃO BONS EM MATEMÁTICA?\n",
    "12 - PESSOAS COM NOTAS BOAS EM CH VÃO MAL EM MATEMÁTICA?\n",
    "13 - PESSOAS COM NOTAS BOAS EM LC VÃO MAL EM MATEMÁTICA?\n",
    "14 - PESSOAS COM NOTAS BOAS EM REDAÇÃO VÃO MAL EM MATEMÁTICA?"
   ]
  },
  {
   "cell_type": "markdown",
   "metadata": {},
   "source": [
    "## 2.2 - Valores Missing"
   ]
  },
  {
   "cell_type": "code",
   "execution_count": 18,
   "metadata": {
    "ExecuteTime": {
     "end_time": "2020-06-04T05:58:18.739831Z",
     "start_time": "2020-06-04T05:58:18.566913Z"
    }
   },
   "outputs": [
    {
     "data": {
      "text/html": [
       "<div>\n",
       "<style scoped>\n",
       "    .dataframe tbody tr th:only-of-type {\n",
       "        vertical-align: middle;\n",
       "    }\n",
       "\n",
       "    .dataframe tbody tr th {\n",
       "        vertical-align: top;\n",
       "    }\n",
       "\n",
       "    .dataframe thead th {\n",
       "        text-align: right;\n",
       "    }\n",
       "</style>\n",
       "<table border=\"1\" class=\"dataframe\">\n",
       "  <thead>\n",
       "    <tr style=\"text-align: right;\">\n",
       "      <th></th>\n",
       "      <th>Total</th>\n",
       "      <th>Porcentagem</th>\n",
       "    </tr>\n",
       "  </thead>\n",
       "  <tbody>\n",
       "    <tr>\n",
       "      <td>TP_DEPENDENCIA_ADM_ESC</td>\n",
       "      <td>9448</td>\n",
       "      <td>68.812819</td>\n",
       "    </tr>\n",
       "    <tr>\n",
       "      <td>TP_ENSINO</td>\n",
       "      <td>9448</td>\n",
       "      <td>68.812819</td>\n",
       "    </tr>\n",
       "    <tr>\n",
       "      <td>Q027</td>\n",
       "      <td>7373</td>\n",
       "      <td>53.699927</td>\n",
       "    </tr>\n",
       "    <tr>\n",
       "      <td>NU_NOTA_MT</td>\n",
       "      <td>3597</td>\n",
       "      <td>26.198106</td>\n",
       "    </tr>\n",
       "    <tr>\n",
       "      <td>NU_NOTA_COMP5</td>\n",
       "      <td>3597</td>\n",
       "      <td>26.198106</td>\n",
       "    </tr>\n",
       "    <tr>\n",
       "      <td>NU_NOTA_LC</td>\n",
       "      <td>3597</td>\n",
       "      <td>26.198106</td>\n",
       "    </tr>\n",
       "    <tr>\n",
       "      <td>TP_STATUS_REDACAO</td>\n",
       "      <td>3597</td>\n",
       "      <td>26.198106</td>\n",
       "    </tr>\n",
       "    <tr>\n",
       "      <td>NU_NOTA_COMP2</td>\n",
       "      <td>3597</td>\n",
       "      <td>26.198106</td>\n",
       "    </tr>\n",
       "    <tr>\n",
       "      <td>NU_NOTA_COMP3</td>\n",
       "      <td>3597</td>\n",
       "      <td>26.198106</td>\n",
       "    </tr>\n",
       "    <tr>\n",
       "      <td>NU_NOTA_COMP4</td>\n",
       "      <td>3597</td>\n",
       "      <td>26.198106</td>\n",
       "    </tr>\n",
       "    <tr>\n",
       "      <td>NU_NOTA_COMP1</td>\n",
       "      <td>3597</td>\n",
       "      <td>26.198106</td>\n",
       "    </tr>\n",
       "    <tr>\n",
       "      <td>NU_NOTA_REDACAO</td>\n",
       "      <td>3597</td>\n",
       "      <td>26.198106</td>\n",
       "    </tr>\n",
       "    <tr>\n",
       "      <td>NU_NOTA_CH</td>\n",
       "      <td>3389</td>\n",
       "      <td>24.683176</td>\n",
       "    </tr>\n",
       "    <tr>\n",
       "      <td>NU_NOTA_CN</td>\n",
       "      <td>3389</td>\n",
       "      <td>24.683176</td>\n",
       "    </tr>\n",
       "    <tr>\n",
       "      <td>TP_ESCOLA</td>\n",
       "      <td>0</td>\n",
       "      <td>0.000000</td>\n",
       "    </tr>\n",
       "    <tr>\n",
       "      <td>IN_SURDEZ</td>\n",
       "      <td>0</td>\n",
       "      <td>0.000000</td>\n",
       "    </tr>\n",
       "    <tr>\n",
       "      <td>IN_CEGUEIRA</td>\n",
       "      <td>0</td>\n",
       "      <td>0.000000</td>\n",
       "    </tr>\n",
       "    <tr>\n",
       "      <td>IN_BAIXA_VISAO</td>\n",
       "      <td>0</td>\n",
       "      <td>0.000000</td>\n",
       "    </tr>\n",
       "    <tr>\n",
       "      <td>CO_UF_RESIDENCIA</td>\n",
       "      <td>0</td>\n",
       "      <td>0.000000</td>\n",
       "    </tr>\n",
       "    <tr>\n",
       "      <td>IN_TREINEIRO</td>\n",
       "      <td>0</td>\n",
       "      <td>0.000000</td>\n",
       "    </tr>\n",
       "  </tbody>\n",
       "</table>\n",
       "</div>"
      ],
      "text/plain": [
       "                        Total  Porcentagem\n",
       "TP_DEPENDENCIA_ADM_ESC   9448    68.812819\n",
       "TP_ENSINO                9448    68.812819\n",
       "Q027                     7373    53.699927\n",
       "NU_NOTA_MT               3597    26.198106\n",
       "NU_NOTA_COMP5            3597    26.198106\n",
       "NU_NOTA_LC               3597    26.198106\n",
       "TP_STATUS_REDACAO        3597    26.198106\n",
       "NU_NOTA_COMP2            3597    26.198106\n",
       "NU_NOTA_COMP3            3597    26.198106\n",
       "NU_NOTA_COMP4            3597    26.198106\n",
       "NU_NOTA_COMP1            3597    26.198106\n",
       "NU_NOTA_REDACAO          3597    26.198106\n",
       "NU_NOTA_CH               3389    24.683176\n",
       "NU_NOTA_CN               3389    24.683176\n",
       "TP_ESCOLA                   0     0.000000\n",
       "IN_SURDEZ                   0     0.000000\n",
       "IN_CEGUEIRA                 0     0.000000\n",
       "IN_BAIXA_VISAO              0     0.000000\n",
       "CO_UF_RESIDENCIA            0     0.000000\n",
       "IN_TREINEIRO                0     0.000000"
      ]
     },
     "execution_count": 18,
     "metadata": {},
     "output_type": "execute_result"
    }
   ],
   "source": [
    "# Verificando se existem valores nulos na base de dados\n",
    "\n",
    "total = base_treino21.isnull().sum().sort_values(ascending=False)\n",
    "porcentagem = (base_treino21.isnull().sum()/base_treino21.isnull().count() * 100).sort_values(ascending=False)\n",
    "missing = pd.concat([total, porcentagem], axis=1, keys=['Total', 'Porcentagem'])\n",
    "missing.head(20)"
   ]
  },
  {
   "cell_type": "markdown",
   "metadata": {},
   "source": [
    "## 2.3 - Valores Missing Ocultos"
   ]
  },
  {
   "cell_type": "code",
   "execution_count": null,
   "metadata": {},
   "outputs": [],
   "source": []
  },
  {
   "cell_type": "markdown",
   "metadata": {},
   "source": [
    "## 2.4 - Tratando Dados Missing"
   ]
  },
  {
   "cell_type": "code",
   "execution_count": 19,
   "metadata": {
    "ExecuteTime": {
     "end_time": "2020-06-04T05:58:18.810642Z",
     "start_time": "2020-06-04T05:58:18.746812Z"
    }
   },
   "outputs": [
    {
     "data": {
      "text/html": [
       "<div>\n",
       "<style scoped>\n",
       "    .dataframe tbody tr th:only-of-type {\n",
       "        vertical-align: middle;\n",
       "    }\n",
       "\n",
       "    .dataframe tbody tr th {\n",
       "        vertical-align: top;\n",
       "    }\n",
       "\n",
       "    .dataframe thead th {\n",
       "        text-align: right;\n",
       "    }\n",
       "</style>\n",
       "<table border=\"1\" class=\"dataframe\">\n",
       "  <thead>\n",
       "    <tr style=\"text-align: right;\">\n",
       "      <th></th>\n",
       "      <th>Total</th>\n",
       "      <th>Porcentagem</th>\n",
       "    </tr>\n",
       "  </thead>\n",
       "  <tbody>\n",
       "    <tr>\n",
       "      <td>TP_DEPENDENCIA_ADM_ESC</td>\n",
       "      <td>9448</td>\n",
       "      <td>68.812819</td>\n",
       "    </tr>\n",
       "    <tr>\n",
       "      <td>TP_ENSINO</td>\n",
       "      <td>9448</td>\n",
       "      <td>68.812819</td>\n",
       "    </tr>\n",
       "    <tr>\n",
       "      <td>Q027</td>\n",
       "      <td>7373</td>\n",
       "      <td>53.699927</td>\n",
       "    </tr>\n",
       "    <tr>\n",
       "      <td>NU_NOTA_MT</td>\n",
       "      <td>3597</td>\n",
       "      <td>26.198106</td>\n",
       "    </tr>\n",
       "    <tr>\n",
       "      <td>NU_NOTA_COMP5</td>\n",
       "      <td>3597</td>\n",
       "      <td>26.198106</td>\n",
       "    </tr>\n",
       "    <tr>\n",
       "      <td>NU_NOTA_LC</td>\n",
       "      <td>3597</td>\n",
       "      <td>26.198106</td>\n",
       "    </tr>\n",
       "    <tr>\n",
       "      <td>TP_STATUS_REDACAO</td>\n",
       "      <td>3597</td>\n",
       "      <td>26.198106</td>\n",
       "    </tr>\n",
       "    <tr>\n",
       "      <td>NU_NOTA_COMP2</td>\n",
       "      <td>3597</td>\n",
       "      <td>26.198106</td>\n",
       "    </tr>\n",
       "    <tr>\n",
       "      <td>NU_NOTA_COMP3</td>\n",
       "      <td>3597</td>\n",
       "      <td>26.198106</td>\n",
       "    </tr>\n",
       "    <tr>\n",
       "      <td>NU_NOTA_COMP4</td>\n",
       "      <td>3597</td>\n",
       "      <td>26.198106</td>\n",
       "    </tr>\n",
       "    <tr>\n",
       "      <td>NU_NOTA_COMP1</td>\n",
       "      <td>3597</td>\n",
       "      <td>26.198106</td>\n",
       "    </tr>\n",
       "    <tr>\n",
       "      <td>NU_NOTA_REDACAO</td>\n",
       "      <td>3597</td>\n",
       "      <td>26.198106</td>\n",
       "    </tr>\n",
       "    <tr>\n",
       "      <td>NU_NOTA_CH</td>\n",
       "      <td>3389</td>\n",
       "      <td>24.683176</td>\n",
       "    </tr>\n",
       "    <tr>\n",
       "      <td>NU_NOTA_CN</td>\n",
       "      <td>3389</td>\n",
       "      <td>24.683176</td>\n",
       "    </tr>\n",
       "  </tbody>\n",
       "</table>\n",
       "</div>"
      ],
      "text/plain": [
       "                        Total  Porcentagem\n",
       "TP_DEPENDENCIA_ADM_ESC   9448    68.812819\n",
       "TP_ENSINO                9448    68.812819\n",
       "Q027                     7373    53.699927\n",
       "NU_NOTA_MT               3597    26.198106\n",
       "NU_NOTA_COMP5            3597    26.198106\n",
       "NU_NOTA_LC               3597    26.198106\n",
       "TP_STATUS_REDACAO        3597    26.198106\n",
       "NU_NOTA_COMP2            3597    26.198106\n",
       "NU_NOTA_COMP3            3597    26.198106\n",
       "NU_NOTA_COMP4            3597    26.198106\n",
       "NU_NOTA_COMP1            3597    26.198106\n",
       "NU_NOTA_REDACAO          3597    26.198106\n",
       "NU_NOTA_CH               3389    24.683176\n",
       "NU_NOTA_CN               3389    24.683176"
      ]
     },
     "execution_count": 19,
     "metadata": {},
     "output_type": "execute_result"
    }
   ],
   "source": [
    "missing.head(14)"
   ]
  },
  {
   "cell_type": "markdown",
   "metadata": {},
   "source": [
    "###### Primeiro apagar atributos que inicialmentes vamos ignora-los."
   ]
  },
  {
   "cell_type": "code",
   "execution_count": 20,
   "metadata": {
    "ExecuteTime": {
     "end_time": "2020-06-04T05:58:19.031831Z",
     "start_time": "2020-06-04T05:58:18.814632Z"
    }
   },
   "outputs": [],
   "source": [
    "base_treino21 = base_treino21.drop(columns = ['CO_UF_RESIDENCIA'], axis = 1)     #AXIS = 1 APAGA A COLUNA\n",
    "\n",
    "base_treino21 = base_treino21.drop(columns = ['SG_UF_RESIDENCIA'], axis = 1)     #AXIS = 1 APAGA A COLUNA\n",
    "\n",
    "base_treino21 = base_treino21.drop(columns = ['TP_COR_RACA'], axis = 1)     #AXIS = 1 APAGA A COLUNA\n",
    "\n",
    "base_treino21 = base_treino21.drop(columns = ['TP_NACIONALIDADE'], axis = 1)     #AXIS = 1 APAGA A COLUNA\n",
    "\n",
    "base_treino21 = base_treino21.drop(columns = ['IN_BAIXA_VISAO'], axis = 1)     #AXIS = 1 APAGA A COLUNA\n",
    "\n",
    "base_treino21 = base_treino21.drop(columns = ['IN_CEGUEIRA'], axis = 1)     #AXIS = 1 APAGA A COLUNA\n",
    "\n",
    "base_treino21 = base_treino21.drop(columns = ['IN_SURDEZ'], axis = 1)     #AXIS = 1 APAGA A COLUNA\n",
    "\n",
    "base_treino21 = base_treino21.drop(columns = ['IN_DISLEXIA'], axis = 1)     #AXIS = 1 APAGA A COLUNA\n",
    "\n",
    "base_treino21 = base_treino21.drop(columns = ['IN_DISCALCULIA'], axis = 1)     #AXIS = 1 APAGA A COLUNA\n",
    "\n",
    "base_treino21 = base_treino21.drop(columns = ['IN_SABATISTA'], axis = 1)     #AXIS = 1 APAGA A COLUNA\n",
    "\n",
    "base_treino21 = base_treino21.drop(columns = ['CO_PROVA_CN'], axis = 1)     #AXIS = 1 APAGA A COLUNA\n",
    "\n",
    "base_treino21 = base_treino21.drop(columns = ['CO_PROVA_CH'], axis = 1)     #AXIS = 1 APAGA A COLUNA\n",
    "\n",
    "base_treino21 = base_treino21.drop(columns = ['CO_PROVA_LC'], axis = 1)     #AXIS = 1 APAGA A COLUNA\n",
    "\n",
    "base_treino21 = base_treino21.drop(columns = ['CO_PROVA_MT'], axis = 1)     #AXIS = 1 APAGA A COLUNA\n",
    "                                   \n",
    "base_treino21 = base_treino21.drop(columns = ['TP_LINGUA'], axis = 1)     #AXIS = 1 APAGA A COLUNA \n",
    "\n",
    "base_treino21 = base_treino21.drop(columns = ['TP_STATUS_REDACAO'], axis = 1)     #AXIS = 1 APAGA A COLUNA\n",
    "\n",
    "base_treino21 = base_treino21.drop(columns = ['NU_NOTA_COMP1'], axis = 1)     #AXIS = 1 APAGA A COLUNA\n",
    "\n",
    "base_treino21 = base_treino21.drop(columns = ['NU_NOTA_COMP2'], axis = 1)     #AXIS = 1 APAGA A COLUNA\n",
    "                                   \n",
    "base_treino21 = base_treino21.drop(columns = ['NU_NOTA_COMP3'], axis = 1)     #AXIS = 1 APAGA A COLUNA \n",
    "\n",
    "base_treino21 = base_treino21.drop(columns = ['NU_NOTA_COMP4'], axis = 1)     #AXIS = 1 APAGA A COLUNA\n",
    "\n",
    "base_treino21 = base_treino21.drop(columns = ['NU_NOTA_COMP5'], axis = 1)     #AXIS = 1 APAGA A COLUNA\n",
    "\n",
    "base_treino21 = base_treino21.drop(columns = ['Q001'], axis = 1)     #AXIS = 1 APAGA A COLUNA\n",
    "                                   \n",
    "base_treino21 = base_treino21.drop(columns = ['Q002'], axis = 1)     #AXIS = 1 APAGA A COLUNA \n",
    "\n",
    "base_treino21 = base_treino21.drop(columns = ['Q006'], axis = 1)     #AXIS = 1 APAGA A COLUNA\n",
    "\n",
    "base_treino21 = base_treino21.drop(columns = ['Q024'], axis = 1)     #AXIS = 1 APAGA A COLUNA\n",
    "\n",
    "base_treino21 = base_treino21.drop(columns = ['Q025'], axis = 1)     #AXIS = 1 APAGA A COLUNA\n",
    "                                   \n",
    "base_treino21 = base_treino21.drop(columns = ['Q026'], axis = 1)     #AXIS = 1 APAGA A COLUNA \n",
    "\n",
    "base_treino21 = base_treino21.drop(columns = ['Q027'], axis = 1)     #AXIS = 1 APAGA A COLUNA\n",
    "\n",
    "base_treino21 = base_treino21.drop(columns = ['Q047'], axis = 1)     #AXIS = 1 APAGA A COLUNA"
   ]
  },
  {
   "cell_type": "markdown",
   "metadata": {
    "ExecuteTime": {
     "end_time": "2020-06-02T01:01:57.093533Z",
     "start_time": "2020-06-02T01:01:57.089543Z"
    }
   },
   "source": [
    "###### Tamanho da nova base "
   ]
  },
  {
   "cell_type": "code",
   "execution_count": 21,
   "metadata": {
    "ExecuteTime": {
     "end_time": "2020-06-04T05:58:19.144869Z",
     "start_time": "2020-06-04T05:58:19.033589Z"
    }
   },
   "outputs": [
    {
     "data": {
      "text/plain": [
       "(13730, 19)"
      ]
     },
     "execution_count": 21,
     "metadata": {},
     "output_type": "execute_result"
    }
   ],
   "source": [
    "base_treino21.shape"
   ]
  },
  {
   "cell_type": "markdown",
   "metadata": {},
   "source": [
    "###### Revendo Valores Missing"
   ]
  },
  {
   "cell_type": "code",
   "execution_count": 22,
   "metadata": {
    "ExecuteTime": {
     "end_time": "2020-06-04T05:58:19.342612Z",
     "start_time": "2020-06-04T05:58:19.146865Z"
    }
   },
   "outputs": [
    {
     "data": {
      "text/html": [
       "<div>\n",
       "<style scoped>\n",
       "    .dataframe tbody tr th:only-of-type {\n",
       "        vertical-align: middle;\n",
       "    }\n",
       "\n",
       "    .dataframe tbody tr th {\n",
       "        vertical-align: top;\n",
       "    }\n",
       "\n",
       "    .dataframe thead th {\n",
       "        text-align: right;\n",
       "    }\n",
       "</style>\n",
       "<table border=\"1\" class=\"dataframe\">\n",
       "  <thead>\n",
       "    <tr style=\"text-align: right;\">\n",
       "      <th></th>\n",
       "      <th>Total</th>\n",
       "      <th>Porcentagem</th>\n",
       "    </tr>\n",
       "  </thead>\n",
       "  <tbody>\n",
       "    <tr>\n",
       "      <td>TP_ENSINO</td>\n",
       "      <td>9448</td>\n",
       "      <td>68.812819</td>\n",
       "    </tr>\n",
       "    <tr>\n",
       "      <td>TP_DEPENDENCIA_ADM_ESC</td>\n",
       "      <td>9448</td>\n",
       "      <td>68.812819</td>\n",
       "    </tr>\n",
       "    <tr>\n",
       "      <td>NU_NOTA_MT</td>\n",
       "      <td>3597</td>\n",
       "      <td>26.198106</td>\n",
       "    </tr>\n",
       "    <tr>\n",
       "      <td>NU_NOTA_LC</td>\n",
       "      <td>3597</td>\n",
       "      <td>26.198106</td>\n",
       "    </tr>\n",
       "    <tr>\n",
       "      <td>NU_NOTA_REDACAO</td>\n",
       "      <td>3597</td>\n",
       "      <td>26.198106</td>\n",
       "    </tr>\n",
       "    <tr>\n",
       "      <td>NU_NOTA_CH</td>\n",
       "      <td>3389</td>\n",
       "      <td>24.683176</td>\n",
       "    </tr>\n",
       "    <tr>\n",
       "      <td>NU_NOTA_CN</td>\n",
       "      <td>3389</td>\n",
       "      <td>24.683176</td>\n",
       "    </tr>\n",
       "    <tr>\n",
       "      <td>NU_IDADE</td>\n",
       "      <td>0</td>\n",
       "      <td>0.000000</td>\n",
       "    </tr>\n",
       "    <tr>\n",
       "      <td>TP_SEXO</td>\n",
       "      <td>0</td>\n",
       "      <td>0.000000</td>\n",
       "    </tr>\n",
       "    <tr>\n",
       "      <td>TP_ST_CONCLUSAO</td>\n",
       "      <td>0</td>\n",
       "      <td>0.000000</td>\n",
       "    </tr>\n",
       "    <tr>\n",
       "      <td>TP_ANO_CONCLUIU</td>\n",
       "      <td>0</td>\n",
       "      <td>0.000000</td>\n",
       "    </tr>\n",
       "    <tr>\n",
       "      <td>TP_ESCOLA</td>\n",
       "      <td>0</td>\n",
       "      <td>0.000000</td>\n",
       "    </tr>\n",
       "    <tr>\n",
       "      <td>IN_GESTANTE</td>\n",
       "      <td>0</td>\n",
       "      <td>0.000000</td>\n",
       "    </tr>\n",
       "    <tr>\n",
       "      <td>IN_TREINEIRO</td>\n",
       "      <td>0</td>\n",
       "      <td>0.000000</td>\n",
       "    </tr>\n",
       "    <tr>\n",
       "      <td>IN_IDOSO</td>\n",
       "      <td>0</td>\n",
       "      <td>0.000000</td>\n",
       "    </tr>\n",
       "  </tbody>\n",
       "</table>\n",
       "</div>"
      ],
      "text/plain": [
       "                        Total  Porcentagem\n",
       "TP_ENSINO                9448    68.812819\n",
       "TP_DEPENDENCIA_ADM_ESC   9448    68.812819\n",
       "NU_NOTA_MT               3597    26.198106\n",
       "NU_NOTA_LC               3597    26.198106\n",
       "NU_NOTA_REDACAO          3597    26.198106\n",
       "NU_NOTA_CH               3389    24.683176\n",
       "NU_NOTA_CN               3389    24.683176\n",
       "NU_IDADE                    0     0.000000\n",
       "TP_SEXO                     0     0.000000\n",
       "TP_ST_CONCLUSAO             0     0.000000\n",
       "TP_ANO_CONCLUIU             0     0.000000\n",
       "TP_ESCOLA                   0     0.000000\n",
       "IN_GESTANTE                 0     0.000000\n",
       "IN_TREINEIRO                0     0.000000\n",
       "IN_IDOSO                    0     0.000000"
      ]
     },
     "execution_count": 22,
     "metadata": {},
     "output_type": "execute_result"
    }
   ],
   "source": [
    "# Verificando se existem valores nulos na base de dados\n",
    "\n",
    "total = base_treino21.isnull().sum().sort_values(ascending=False)\n",
    "porcentagem = (base_treino21.isnull().sum()/base_treino21.isnull().count() * 100).sort_values(ascending=False)\n",
    "missing = pd.concat([total, porcentagem], axis=1, keys=['Total', 'Porcentagem'])\n",
    "missing.head(15)"
   ]
  },
  {
   "cell_type": "markdown",
   "metadata": {
    "ExecuteTime": {
     "end_time": "2020-06-02T01:06:23.815269Z",
     "start_time": "2020-06-02T01:06:23.812280Z"
    }
   },
   "source": [
    "###### Apagar colunas 'TP_ENSINO' e 'TP_DEPENDENCIA_ADM_ESC', pois mais de 68% dos seus dados são nulos e não tem como substitui-los"
   ]
  },
  {
   "cell_type": "code",
   "execution_count": 23,
   "metadata": {
    "ExecuteTime": {
     "end_time": "2020-06-04T05:58:19.464270Z",
     "start_time": "2020-06-04T05:58:19.345600Z"
    }
   },
   "outputs": [],
   "source": [
    "base_treino21 = base_treino21.drop(columns = ['TP_ENSINO'], axis = 1)     #AXIS = 1 APAGA A COLUNA\n",
    "\n",
    "base_treino21 = base_treino21.drop(columns = ['TP_DEPENDENCIA_ADM_ESC'], axis = 1)     #AXIS = 1 APAGA A COLUNA"
   ]
  },
  {
   "cell_type": "markdown",
   "metadata": {
    "ExecuteTime": {
     "end_time": "2020-06-02T01:01:57.093533Z",
     "start_time": "2020-06-02T01:01:57.089543Z"
    }
   },
   "source": [
    "###### Tamanho da nova base "
   ]
  },
  {
   "cell_type": "code",
   "execution_count": 24,
   "metadata": {
    "ExecuteTime": {
     "end_time": "2020-06-04T05:58:19.612981Z",
     "start_time": "2020-06-04T05:58:19.466749Z"
    }
   },
   "outputs": [
    {
     "data": {
      "text/plain": [
       "(13730, 17)"
      ]
     },
     "execution_count": 24,
     "metadata": {},
     "output_type": "execute_result"
    }
   ],
   "source": [
    "base_treino21.shape"
   ]
  },
  {
   "cell_type": "markdown",
   "metadata": {},
   "source": [
    "###### Revendo Valores Missing"
   ]
  },
  {
   "cell_type": "code",
   "execution_count": 25,
   "metadata": {
    "ExecuteTime": {
     "end_time": "2020-06-04T05:58:20.055706Z",
     "start_time": "2020-06-04T05:58:20.033765Z"
    }
   },
   "outputs": [
    {
     "data": {
      "text/html": [
       "<div>\n",
       "<style scoped>\n",
       "    .dataframe tbody tr th:only-of-type {\n",
       "        vertical-align: middle;\n",
       "    }\n",
       "\n",
       "    .dataframe tbody tr th {\n",
       "        vertical-align: top;\n",
       "    }\n",
       "\n",
       "    .dataframe thead th {\n",
       "        text-align: right;\n",
       "    }\n",
       "</style>\n",
       "<table border=\"1\" class=\"dataframe\">\n",
       "  <thead>\n",
       "    <tr style=\"text-align: right;\">\n",
       "      <th></th>\n",
       "      <th>Total</th>\n",
       "      <th>Porcentagem</th>\n",
       "    </tr>\n",
       "  </thead>\n",
       "  <tbody>\n",
       "    <tr>\n",
       "      <td>NU_NOTA_MT</td>\n",
       "      <td>3597</td>\n",
       "      <td>26.198106</td>\n",
       "    </tr>\n",
       "    <tr>\n",
       "      <td>NU_NOTA_LC</td>\n",
       "      <td>3597</td>\n",
       "      <td>26.198106</td>\n",
       "    </tr>\n",
       "    <tr>\n",
       "      <td>NU_NOTA_REDACAO</td>\n",
       "      <td>3597</td>\n",
       "      <td>26.198106</td>\n",
       "    </tr>\n",
       "    <tr>\n",
       "      <td>NU_NOTA_CH</td>\n",
       "      <td>3389</td>\n",
       "      <td>24.683176</td>\n",
       "    </tr>\n",
       "    <tr>\n",
       "      <td>NU_NOTA_CN</td>\n",
       "      <td>3389</td>\n",
       "      <td>24.683176</td>\n",
       "    </tr>\n",
       "    <tr>\n",
       "      <td>TP_ESCOLA</td>\n",
       "      <td>0</td>\n",
       "      <td>0.000000</td>\n",
       "    </tr>\n",
       "    <tr>\n",
       "      <td>NU_IDADE</td>\n",
       "      <td>0</td>\n",
       "      <td>0.000000</td>\n",
       "    </tr>\n",
       "    <tr>\n",
       "      <td>TP_SEXO</td>\n",
       "      <td>0</td>\n",
       "      <td>0.000000</td>\n",
       "    </tr>\n",
       "    <tr>\n",
       "      <td>TP_ST_CONCLUSAO</td>\n",
       "      <td>0</td>\n",
       "      <td>0.000000</td>\n",
       "    </tr>\n",
       "    <tr>\n",
       "      <td>TP_ANO_CONCLUIU</td>\n",
       "      <td>0</td>\n",
       "      <td>0.000000</td>\n",
       "    </tr>\n",
       "  </tbody>\n",
       "</table>\n",
       "</div>"
      ],
      "text/plain": [
       "                 Total  Porcentagem\n",
       "NU_NOTA_MT        3597    26.198106\n",
       "NU_NOTA_LC        3597    26.198106\n",
       "NU_NOTA_REDACAO   3597    26.198106\n",
       "NU_NOTA_CH        3389    24.683176\n",
       "NU_NOTA_CN        3389    24.683176\n",
       "TP_ESCOLA            0     0.000000\n",
       "NU_IDADE             0     0.000000\n",
       "TP_SEXO              0     0.000000\n",
       "TP_ST_CONCLUSAO      0     0.000000\n",
       "TP_ANO_CONCLUIU      0     0.000000"
      ]
     },
     "execution_count": 25,
     "metadata": {},
     "output_type": "execute_result"
    }
   ],
   "source": [
    "# Verificando se existem valores nulos na base de dados\n",
    "\n",
    "total = base_treino21.isnull().sum().sort_values(ascending=False)\n",
    "porcentagem = (base_treino21.isnull().sum()/base_treino21.isnull().count() * 100).sort_values(ascending=False)\n",
    "missing = pd.concat([total, porcentagem], axis=1, keys=['Total', 'Porcentagem'])\n",
    "missing.head(10)"
   ]
  },
  {
   "cell_type": "markdown",
   "metadata": {},
   "source": [
    "###### Para as notas primeiro vamos analisar se o candidato estava presente."
   ]
  },
  {
   "cell_type": "code",
   "execution_count": 26,
   "metadata": {
    "ExecuteTime": {
     "end_time": "2020-06-04T05:58:21.288592Z",
     "start_time": "2020-06-04T05:58:21.259670Z"
    }
   },
   "outputs": [
    {
     "data": {
      "text/html": [
       "<div>\n",
       "<style scoped>\n",
       "    .dataframe tbody tr th:only-of-type {\n",
       "        vertical-align: middle;\n",
       "    }\n",
       "\n",
       "    .dataframe tbody tr th {\n",
       "        vertical-align: top;\n",
       "    }\n",
       "\n",
       "    .dataframe thead th {\n",
       "        text-align: right;\n",
       "    }\n",
       "</style>\n",
       "<table border=\"1\" class=\"dataframe\">\n",
       "  <thead>\n",
       "    <tr style=\"text-align: right;\">\n",
       "      <th></th>\n",
       "      <th>NU_INSCRICAO</th>\n",
       "      <th>NU_IDADE</th>\n",
       "      <th>TP_SEXO</th>\n",
       "      <th>TP_ST_CONCLUSAO</th>\n",
       "      <th>TP_ANO_CONCLUIU</th>\n",
       "      <th>TP_ESCOLA</th>\n",
       "      <th>IN_TREINEIRO</th>\n",
       "      <th>IN_GESTANTE</th>\n",
       "      <th>IN_IDOSO</th>\n",
       "      <th>TP_PRESENCA_CN</th>\n",
       "      <th>TP_PRESENCA_CH</th>\n",
       "      <th>TP_PRESENCA_LC</th>\n",
       "      <th>NU_NOTA_CN</th>\n",
       "      <th>NU_NOTA_CH</th>\n",
       "      <th>NU_NOTA_LC</th>\n",
       "      <th>NU_NOTA_REDACAO</th>\n",
       "      <th>NU_NOTA_MT</th>\n",
       "    </tr>\n",
       "  </thead>\n",
       "  <tbody>\n",
       "    <tr>\n",
       "      <td>0</td>\n",
       "      <td>ed50e8aaa58e7a806c337585efee9ca41f1eb1ad</td>\n",
       "      <td>24</td>\n",
       "      <td>M</td>\n",
       "      <td>1</td>\n",
       "      <td>4</td>\n",
       "      <td>1</td>\n",
       "      <td>0</td>\n",
       "      <td>0</td>\n",
       "      <td>0</td>\n",
       "      <td>1</td>\n",
       "      <td>1</td>\n",
       "      <td>1</td>\n",
       "      <td>436.3</td>\n",
       "      <td>495.4</td>\n",
       "      <td>581.2</td>\n",
       "      <td>520.0</td>\n",
       "      <td>399.4</td>\n",
       "    </tr>\n",
       "    <tr>\n",
       "      <td>1</td>\n",
       "      <td>2c3acac4b33ec2b195d77e7c04a2d75727fad723</td>\n",
       "      <td>17</td>\n",
       "      <td>F</td>\n",
       "      <td>2</td>\n",
       "      <td>0</td>\n",
       "      <td>2</td>\n",
       "      <td>0</td>\n",
       "      <td>0</td>\n",
       "      <td>0</td>\n",
       "      <td>1</td>\n",
       "      <td>1</td>\n",
       "      <td>1</td>\n",
       "      <td>474.5</td>\n",
       "      <td>544.1</td>\n",
       "      <td>599.0</td>\n",
       "      <td>580.0</td>\n",
       "      <td>459.8</td>\n",
       "    </tr>\n",
       "    <tr>\n",
       "      <td>2</td>\n",
       "      <td>f4545f8ccb9ff5c8aad7d32951b3f251a26e6568</td>\n",
       "      <td>21</td>\n",
       "      <td>F</td>\n",
       "      <td>3</td>\n",
       "      <td>0</td>\n",
       "      <td>1</td>\n",
       "      <td>0</td>\n",
       "      <td>0</td>\n",
       "      <td>0</td>\n",
       "      <td>0</td>\n",
       "      <td>0</td>\n",
       "      <td>0</td>\n",
       "      <td>NaN</td>\n",
       "      <td>NaN</td>\n",
       "      <td>NaN</td>\n",
       "      <td>NaN</td>\n",
       "      <td>NaN</td>\n",
       "    </tr>\n",
       "    <tr>\n",
       "      <td>3</td>\n",
       "      <td>3d6ec248fef899c414e77f82d5c6d2bffbeaf7fe</td>\n",
       "      <td>25</td>\n",
       "      <td>F</td>\n",
       "      <td>1</td>\n",
       "      <td>9</td>\n",
       "      <td>1</td>\n",
       "      <td>0</td>\n",
       "      <td>0</td>\n",
       "      <td>0</td>\n",
       "      <td>0</td>\n",
       "      <td>0</td>\n",
       "      <td>0</td>\n",
       "      <td>NaN</td>\n",
       "      <td>NaN</td>\n",
       "      <td>NaN</td>\n",
       "      <td>NaN</td>\n",
       "      <td>NaN</td>\n",
       "    </tr>\n",
       "    <tr>\n",
       "      <td>4</td>\n",
       "      <td>bf896ac8d3ecadd6dba1dfbf50110afcbf5d3268</td>\n",
       "      <td>28</td>\n",
       "      <td>M</td>\n",
       "      <td>1</td>\n",
       "      <td>4</td>\n",
       "      <td>1</td>\n",
       "      <td>0</td>\n",
       "      <td>0</td>\n",
       "      <td>0</td>\n",
       "      <td>0</td>\n",
       "      <td>0</td>\n",
       "      <td>0</td>\n",
       "      <td>NaN</td>\n",
       "      <td>NaN</td>\n",
       "      <td>NaN</td>\n",
       "      <td>NaN</td>\n",
       "      <td>NaN</td>\n",
       "    </tr>\n",
       "    <tr>\n",
       "      <td>...</td>\n",
       "      <td>...</td>\n",
       "      <td>...</td>\n",
       "      <td>...</td>\n",
       "      <td>...</td>\n",
       "      <td>...</td>\n",
       "      <td>...</td>\n",
       "      <td>...</td>\n",
       "      <td>...</td>\n",
       "      <td>...</td>\n",
       "      <td>...</td>\n",
       "      <td>...</td>\n",
       "      <td>...</td>\n",
       "      <td>...</td>\n",
       "      <td>...</td>\n",
       "      <td>...</td>\n",
       "      <td>...</td>\n",
       "      <td>...</td>\n",
       "    </tr>\n",
       "    <tr>\n",
       "      <td>13725</td>\n",
       "      <td>aadf671ef8c1c6efa42e69432093ab83c17a52ac</td>\n",
       "      <td>20</td>\n",
       "      <td>M</td>\n",
       "      <td>1</td>\n",
       "      <td>3</td>\n",
       "      <td>1</td>\n",
       "      <td>0</td>\n",
       "      <td>0</td>\n",
       "      <td>0</td>\n",
       "      <td>1</td>\n",
       "      <td>1</td>\n",
       "      <td>1</td>\n",
       "      <td>438.2</td>\n",
       "      <td>419.7</td>\n",
       "      <td>394.5</td>\n",
       "      <td>440.0</td>\n",
       "      <td>403.2</td>\n",
       "    </tr>\n",
       "    <tr>\n",
       "      <td>13726</td>\n",
       "      <td>461f7ef2753d9d5fa0b054930d6b0e0eec318e81</td>\n",
       "      <td>33</td>\n",
       "      <td>F</td>\n",
       "      <td>1</td>\n",
       "      <td>10</td>\n",
       "      <td>1</td>\n",
       "      <td>0</td>\n",
       "      <td>0</td>\n",
       "      <td>0</td>\n",
       "      <td>1</td>\n",
       "      <td>1</td>\n",
       "      <td>1</td>\n",
       "      <td>423.8</td>\n",
       "      <td>557.9</td>\n",
       "      <td>533.0</td>\n",
       "      <td>560.0</td>\n",
       "      <td>452.4</td>\n",
       "    </tr>\n",
       "    <tr>\n",
       "      <td>13727</td>\n",
       "      <td>5354503700ecf2388f68990435390b6e1ad454ee</td>\n",
       "      <td>15</td>\n",
       "      <td>F</td>\n",
       "      <td>3</td>\n",
       "      <td>0</td>\n",
       "      <td>1</td>\n",
       "      <td>1</td>\n",
       "      <td>0</td>\n",
       "      <td>0</td>\n",
       "      <td>1</td>\n",
       "      <td>1</td>\n",
       "      <td>1</td>\n",
       "      <td>460.5</td>\n",
       "      <td>528.9</td>\n",
       "      <td>569.3</td>\n",
       "      <td>600.0</td>\n",
       "      <td>398.0</td>\n",
       "    </tr>\n",
       "    <tr>\n",
       "      <td>13728</td>\n",
       "      <td>c7a9e94a42bd76b7978f13c013a61702e36cc42c</td>\n",
       "      <td>36</td>\n",
       "      <td>M</td>\n",
       "      <td>4</td>\n",
       "      <td>0</td>\n",
       "      <td>1</td>\n",
       "      <td>0</td>\n",
       "      <td>0</td>\n",
       "      <td>0</td>\n",
       "      <td>1</td>\n",
       "      <td>1</td>\n",
       "      <td>1</td>\n",
       "      <td>422.5</td>\n",
       "      <td>621.7</td>\n",
       "      <td>569.0</td>\n",
       "      <td>460.0</td>\n",
       "      <td>386.6</td>\n",
       "    </tr>\n",
       "    <tr>\n",
       "      <td>13729</td>\n",
       "      <td>0af8939c470a600b30bdaa80375ee0db848b0e35</td>\n",
       "      <td>17</td>\n",
       "      <td>M</td>\n",
       "      <td>2</td>\n",
       "      <td>0</td>\n",
       "      <td>2</td>\n",
       "      <td>0</td>\n",
       "      <td>0</td>\n",
       "      <td>0</td>\n",
       "      <td>1</td>\n",
       "      <td>1</td>\n",
       "      <td>1</td>\n",
       "      <td>488.7</td>\n",
       "      <td>575.3</td>\n",
       "      <td>565.9</td>\n",
       "      <td>520.0</td>\n",
       "      <td>428.9</td>\n",
       "    </tr>\n",
       "  </tbody>\n",
       "</table>\n",
       "<p>13730 rows × 17 columns</p>\n",
       "</div>"
      ],
      "text/plain": [
       "                                   NU_INSCRICAO  NU_IDADE TP_SEXO  \\\n",
       "0      ed50e8aaa58e7a806c337585efee9ca41f1eb1ad        24       M   \n",
       "1      2c3acac4b33ec2b195d77e7c04a2d75727fad723        17       F   \n",
       "2      f4545f8ccb9ff5c8aad7d32951b3f251a26e6568        21       F   \n",
       "3      3d6ec248fef899c414e77f82d5c6d2bffbeaf7fe        25       F   \n",
       "4      bf896ac8d3ecadd6dba1dfbf50110afcbf5d3268        28       M   \n",
       "...                                         ...       ...     ...   \n",
       "13725  aadf671ef8c1c6efa42e69432093ab83c17a52ac        20       M   \n",
       "13726  461f7ef2753d9d5fa0b054930d6b0e0eec318e81        33       F   \n",
       "13727  5354503700ecf2388f68990435390b6e1ad454ee        15       F   \n",
       "13728  c7a9e94a42bd76b7978f13c013a61702e36cc42c        36       M   \n",
       "13729  0af8939c470a600b30bdaa80375ee0db848b0e35        17       M   \n",
       "\n",
       "       TP_ST_CONCLUSAO  TP_ANO_CONCLUIU  TP_ESCOLA  IN_TREINEIRO  IN_GESTANTE  \\\n",
       "0                    1                4          1             0            0   \n",
       "1                    2                0          2             0            0   \n",
       "2                    3                0          1             0            0   \n",
       "3                    1                9          1             0            0   \n",
       "4                    1                4          1             0            0   \n",
       "...                ...              ...        ...           ...          ...   \n",
       "13725                1                3          1             0            0   \n",
       "13726                1               10          1             0            0   \n",
       "13727                3                0          1             1            0   \n",
       "13728                4                0          1             0            0   \n",
       "13729                2                0          2             0            0   \n",
       "\n",
       "       IN_IDOSO  TP_PRESENCA_CN  TP_PRESENCA_CH  TP_PRESENCA_LC  NU_NOTA_CN  \\\n",
       "0             0               1               1               1       436.3   \n",
       "1             0               1               1               1       474.5   \n",
       "2             0               0               0               0         NaN   \n",
       "3             0               0               0               0         NaN   \n",
       "4             0               0               0               0         NaN   \n",
       "...         ...             ...             ...             ...         ...   \n",
       "13725         0               1               1               1       438.2   \n",
       "13726         0               1               1               1       423.8   \n",
       "13727         0               1               1               1       460.5   \n",
       "13728         0               1               1               1       422.5   \n",
       "13729         0               1               1               1       488.7   \n",
       "\n",
       "       NU_NOTA_CH  NU_NOTA_LC  NU_NOTA_REDACAO  NU_NOTA_MT  \n",
       "0           495.4       581.2            520.0       399.4  \n",
       "1           544.1       599.0            580.0       459.8  \n",
       "2             NaN         NaN              NaN         NaN  \n",
       "3             NaN         NaN              NaN         NaN  \n",
       "4             NaN         NaN              NaN         NaN  \n",
       "...           ...         ...              ...         ...  \n",
       "13725       419.7       394.5            440.0       403.2  \n",
       "13726       557.9       533.0            560.0       452.4  \n",
       "13727       528.9       569.3            600.0       398.0  \n",
       "13728       621.7       569.0            460.0       386.6  \n",
       "13729       575.3       565.9            520.0       428.9  \n",
       "\n",
       "[13730 rows x 17 columns]"
      ]
     },
     "execution_count": 26,
     "metadata": {},
     "output_type": "execute_result"
    }
   ],
   "source": [
    "base_treino21"
   ]
  },
  {
   "cell_type": "code",
   "execution_count": 27,
   "metadata": {
    "ExecuteTime": {
     "end_time": "2020-06-04T05:58:22.094423Z",
     "start_time": "2020-06-04T05:58:22.079462Z"
    }
   },
   "outputs": [
    {
     "data": {
      "text/html": [
       "<div>\n",
       "<style scoped>\n",
       "    .dataframe tbody tr th:only-of-type {\n",
       "        vertical-align: middle;\n",
       "    }\n",
       "\n",
       "    .dataframe tbody tr th {\n",
       "        vertical-align: top;\n",
       "    }\n",
       "\n",
       "    .dataframe thead th {\n",
       "        text-align: right;\n",
       "    }\n",
       "</style>\n",
       "<table border=\"1\" class=\"dataframe\">\n",
       "  <thead>\n",
       "    <tr style=\"text-align: right;\">\n",
       "      <th></th>\n",
       "      <th>TP_PRESENCA_CN</th>\n",
       "      <th>TP_PRESENCA_CH</th>\n",
       "      <th>TP_PRESENCA_LC</th>\n",
       "      <th>NU_NOTA_CN</th>\n",
       "      <th>NU_NOTA_CH</th>\n",
       "      <th>NU_NOTA_LC</th>\n",
       "      <th>NU_NOTA_REDACAO</th>\n",
       "      <th>NU_NOTA_MT</th>\n",
       "    </tr>\n",
       "  </thead>\n",
       "  <tbody>\n",
       "    <tr>\n",
       "      <td>0</td>\n",
       "      <td>1</td>\n",
       "      <td>1</td>\n",
       "      <td>1</td>\n",
       "      <td>436.3</td>\n",
       "      <td>495.4</td>\n",
       "      <td>581.2</td>\n",
       "      <td>520.0</td>\n",
       "      <td>399.4</td>\n",
       "    </tr>\n",
       "    <tr>\n",
       "      <td>1</td>\n",
       "      <td>1</td>\n",
       "      <td>1</td>\n",
       "      <td>1</td>\n",
       "      <td>474.5</td>\n",
       "      <td>544.1</td>\n",
       "      <td>599.0</td>\n",
       "      <td>580.0</td>\n",
       "      <td>459.8</td>\n",
       "    </tr>\n",
       "    <tr>\n",
       "      <td>2</td>\n",
       "      <td>0</td>\n",
       "      <td>0</td>\n",
       "      <td>0</td>\n",
       "      <td>NaN</td>\n",
       "      <td>NaN</td>\n",
       "      <td>NaN</td>\n",
       "      <td>NaN</td>\n",
       "      <td>NaN</td>\n",
       "    </tr>\n",
       "    <tr>\n",
       "      <td>3</td>\n",
       "      <td>0</td>\n",
       "      <td>0</td>\n",
       "      <td>0</td>\n",
       "      <td>NaN</td>\n",
       "      <td>NaN</td>\n",
       "      <td>NaN</td>\n",
       "      <td>NaN</td>\n",
       "      <td>NaN</td>\n",
       "    </tr>\n",
       "    <tr>\n",
       "      <td>4</td>\n",
       "      <td>0</td>\n",
       "      <td>0</td>\n",
       "      <td>0</td>\n",
       "      <td>NaN</td>\n",
       "      <td>NaN</td>\n",
       "      <td>NaN</td>\n",
       "      <td>NaN</td>\n",
       "      <td>NaN</td>\n",
       "    </tr>\n",
       "    <tr>\n",
       "      <td>...</td>\n",
       "      <td>...</td>\n",
       "      <td>...</td>\n",
       "      <td>...</td>\n",
       "      <td>...</td>\n",
       "      <td>...</td>\n",
       "      <td>...</td>\n",
       "      <td>...</td>\n",
       "      <td>...</td>\n",
       "    </tr>\n",
       "    <tr>\n",
       "      <td>13725</td>\n",
       "      <td>1</td>\n",
       "      <td>1</td>\n",
       "      <td>1</td>\n",
       "      <td>438.2</td>\n",
       "      <td>419.7</td>\n",
       "      <td>394.5</td>\n",
       "      <td>440.0</td>\n",
       "      <td>403.2</td>\n",
       "    </tr>\n",
       "    <tr>\n",
       "      <td>13726</td>\n",
       "      <td>1</td>\n",
       "      <td>1</td>\n",
       "      <td>1</td>\n",
       "      <td>423.8</td>\n",
       "      <td>557.9</td>\n",
       "      <td>533.0</td>\n",
       "      <td>560.0</td>\n",
       "      <td>452.4</td>\n",
       "    </tr>\n",
       "    <tr>\n",
       "      <td>13727</td>\n",
       "      <td>1</td>\n",
       "      <td>1</td>\n",
       "      <td>1</td>\n",
       "      <td>460.5</td>\n",
       "      <td>528.9</td>\n",
       "      <td>569.3</td>\n",
       "      <td>600.0</td>\n",
       "      <td>398.0</td>\n",
       "    </tr>\n",
       "    <tr>\n",
       "      <td>13728</td>\n",
       "      <td>1</td>\n",
       "      <td>1</td>\n",
       "      <td>1</td>\n",
       "      <td>422.5</td>\n",
       "      <td>621.7</td>\n",
       "      <td>569.0</td>\n",
       "      <td>460.0</td>\n",
       "      <td>386.6</td>\n",
       "    </tr>\n",
       "    <tr>\n",
       "      <td>13729</td>\n",
       "      <td>1</td>\n",
       "      <td>1</td>\n",
       "      <td>1</td>\n",
       "      <td>488.7</td>\n",
       "      <td>575.3</td>\n",
       "      <td>565.9</td>\n",
       "      <td>520.0</td>\n",
       "      <td>428.9</td>\n",
       "    </tr>\n",
       "  </tbody>\n",
       "</table>\n",
       "<p>13730 rows × 8 columns</p>\n",
       "</div>"
      ],
      "text/plain": [
       "       TP_PRESENCA_CN  TP_PRESENCA_CH  TP_PRESENCA_LC  NU_NOTA_CN  NU_NOTA_CH  \\\n",
       "0                   1               1               1       436.3       495.4   \n",
       "1                   1               1               1       474.5       544.1   \n",
       "2                   0               0               0         NaN         NaN   \n",
       "3                   0               0               0         NaN         NaN   \n",
       "4                   0               0               0         NaN         NaN   \n",
       "...               ...             ...             ...         ...         ...   \n",
       "13725               1               1               1       438.2       419.7   \n",
       "13726               1               1               1       423.8       557.9   \n",
       "13727               1               1               1       460.5       528.9   \n",
       "13728               1               1               1       422.5       621.7   \n",
       "13729               1               1               1       488.7       575.3   \n",
       "\n",
       "       NU_NOTA_LC  NU_NOTA_REDACAO  NU_NOTA_MT  \n",
       "0           581.2            520.0       399.4  \n",
       "1           599.0            580.0       459.8  \n",
       "2             NaN              NaN         NaN  \n",
       "3             NaN              NaN         NaN  \n",
       "4             NaN              NaN         NaN  \n",
       "...           ...              ...         ...  \n",
       "13725       394.5            440.0       403.2  \n",
       "13726       533.0            560.0       452.4  \n",
       "13727       569.3            600.0       398.0  \n",
       "13728       569.0            460.0       386.6  \n",
       "13729       565.9            520.0       428.9  \n",
       "\n",
       "[13730 rows x 8 columns]"
      ]
     },
     "execution_count": 27,
     "metadata": {},
     "output_type": "execute_result"
    }
   ],
   "source": [
    "presentes  = base_treino21.iloc[:,9:]\n",
    "presentes"
   ]
  },
  {
   "cell_type": "code",
   "execution_count": 28,
   "metadata": {
    "ExecuteTime": {
     "end_time": "2020-06-04T05:58:22.500134Z",
     "start_time": "2020-06-04T05:58:22.484176Z"
    }
   },
   "outputs": [
    {
     "data": {
      "text/html": [
       "<div>\n",
       "<style scoped>\n",
       "    .dataframe tbody tr th:only-of-type {\n",
       "        vertical-align: middle;\n",
       "    }\n",
       "\n",
       "    .dataframe tbody tr th {\n",
       "        vertical-align: top;\n",
       "    }\n",
       "\n",
       "    .dataframe thead th {\n",
       "        text-align: right;\n",
       "    }\n",
       "</style>\n",
       "<table border=\"1\" class=\"dataframe\">\n",
       "  <thead>\n",
       "    <tr style=\"text-align: right;\">\n",
       "      <th></th>\n",
       "      <th>TP_PRESENCA_CN</th>\n",
       "      <th>TP_PRESENCA_CH</th>\n",
       "      <th>TP_PRESENCA_LC</th>\n",
       "      <th>NU_NOTA_CN</th>\n",
       "      <th>NU_NOTA_CH</th>\n",
       "      <th>NU_NOTA_LC</th>\n",
       "      <th>NU_NOTA_REDACAO</th>\n",
       "      <th>NU_NOTA_MT</th>\n",
       "    </tr>\n",
       "  </thead>\n",
       "  <tbody>\n",
       "    <tr>\n",
       "      <td>2</td>\n",
       "      <td>0</td>\n",
       "      <td>0</td>\n",
       "      <td>0</td>\n",
       "      <td>NaN</td>\n",
       "      <td>NaN</td>\n",
       "      <td>NaN</td>\n",
       "      <td>NaN</td>\n",
       "      <td>NaN</td>\n",
       "    </tr>\n",
       "    <tr>\n",
       "      <td>3</td>\n",
       "      <td>0</td>\n",
       "      <td>0</td>\n",
       "      <td>0</td>\n",
       "      <td>NaN</td>\n",
       "      <td>NaN</td>\n",
       "      <td>NaN</td>\n",
       "      <td>NaN</td>\n",
       "      <td>NaN</td>\n",
       "    </tr>\n",
       "    <tr>\n",
       "      <td>4</td>\n",
       "      <td>0</td>\n",
       "      <td>0</td>\n",
       "      <td>0</td>\n",
       "      <td>NaN</td>\n",
       "      <td>NaN</td>\n",
       "      <td>NaN</td>\n",
       "      <td>NaN</td>\n",
       "      <td>NaN</td>\n",
       "    </tr>\n",
       "    <tr>\n",
       "      <td>9</td>\n",
       "      <td>0</td>\n",
       "      <td>0</td>\n",
       "      <td>0</td>\n",
       "      <td>NaN</td>\n",
       "      <td>NaN</td>\n",
       "      <td>NaN</td>\n",
       "      <td>NaN</td>\n",
       "      <td>NaN</td>\n",
       "    </tr>\n",
       "    <tr>\n",
       "      <td>13</td>\n",
       "      <td>0</td>\n",
       "      <td>0</td>\n",
       "      <td>0</td>\n",
       "      <td>NaN</td>\n",
       "      <td>NaN</td>\n",
       "      <td>NaN</td>\n",
       "      <td>NaN</td>\n",
       "      <td>NaN</td>\n",
       "    </tr>\n",
       "    <tr>\n",
       "      <td>15</td>\n",
       "      <td>0</td>\n",
       "      <td>0</td>\n",
       "      <td>0</td>\n",
       "      <td>NaN</td>\n",
       "      <td>NaN</td>\n",
       "      <td>NaN</td>\n",
       "      <td>NaN</td>\n",
       "      <td>NaN</td>\n",
       "    </tr>\n",
       "    <tr>\n",
       "      <td>21</td>\n",
       "      <td>0</td>\n",
       "      <td>0</td>\n",
       "      <td>0</td>\n",
       "      <td>NaN</td>\n",
       "      <td>NaN</td>\n",
       "      <td>NaN</td>\n",
       "      <td>NaN</td>\n",
       "      <td>NaN</td>\n",
       "    </tr>\n",
       "    <tr>\n",
       "      <td>22</td>\n",
       "      <td>0</td>\n",
       "      <td>0</td>\n",
       "      <td>0</td>\n",
       "      <td>NaN</td>\n",
       "      <td>NaN</td>\n",
       "      <td>NaN</td>\n",
       "      <td>NaN</td>\n",
       "      <td>NaN</td>\n",
       "    </tr>\n",
       "    <tr>\n",
       "      <td>23</td>\n",
       "      <td>0</td>\n",
       "      <td>0</td>\n",
       "      <td>0</td>\n",
       "      <td>NaN</td>\n",
       "      <td>NaN</td>\n",
       "      <td>NaN</td>\n",
       "      <td>NaN</td>\n",
       "      <td>NaN</td>\n",
       "    </tr>\n",
       "    <tr>\n",
       "      <td>24</td>\n",
       "      <td>0</td>\n",
       "      <td>0</td>\n",
       "      <td>0</td>\n",
       "      <td>NaN</td>\n",
       "      <td>NaN</td>\n",
       "      <td>NaN</td>\n",
       "      <td>NaN</td>\n",
       "      <td>NaN</td>\n",
       "    </tr>\n",
       "  </tbody>\n",
       "</table>\n",
       "</div>"
      ],
      "text/plain": [
       "    TP_PRESENCA_CN  TP_PRESENCA_CH  TP_PRESENCA_LC  NU_NOTA_CN  NU_NOTA_CH  \\\n",
       "2                0               0               0         NaN         NaN   \n",
       "3                0               0               0         NaN         NaN   \n",
       "4                0               0               0         NaN         NaN   \n",
       "9                0               0               0         NaN         NaN   \n",
       "13               0               0               0         NaN         NaN   \n",
       "15               0               0               0         NaN         NaN   \n",
       "21               0               0               0         NaN         NaN   \n",
       "22               0               0               0         NaN         NaN   \n",
       "23               0               0               0         NaN         NaN   \n",
       "24               0               0               0         NaN         NaN   \n",
       "\n",
       "    NU_NOTA_LC  NU_NOTA_REDACAO  NU_NOTA_MT  \n",
       "2          NaN              NaN         NaN  \n",
       "3          NaN              NaN         NaN  \n",
       "4          NaN              NaN         NaN  \n",
       "9          NaN              NaN         NaN  \n",
       "13         NaN              NaN         NaN  \n",
       "15         NaN              NaN         NaN  \n",
       "21         NaN              NaN         NaN  \n",
       "22         NaN              NaN         NaN  \n",
       "23         NaN              NaN         NaN  \n",
       "24         NaN              NaN         NaN  "
      ]
     },
     "execution_count": 28,
     "metadata": {},
     "output_type": "execute_result"
    }
   ],
   "source": [
    "presentes.loc[(presentes.NU_NOTA_CH.isnull())].head(10)"
   ]
  },
  {
   "cell_type": "markdown",
   "metadata": {},
   "source": [
    "###### Verificando presença no primeiro dia de prova e se o candidato foi eliminado (CN e CH)\n",
    "0 - falta\n",
    "\n",
    "1 - presente\n",
    "\n",
    "2 - eliminado"
   ]
  },
  {
   "cell_type": "code",
   "execution_count": 29,
   "metadata": {
    "ExecuteTime": {
     "end_time": "2020-06-04T05:58:22.851287Z",
     "start_time": "2020-06-04T05:58:22.842313Z"
    }
   },
   "outputs": [
    {
     "data": {
      "text/plain": [
       "0"
      ]
     },
     "execution_count": 29,
     "metadata": {},
     "output_type": "execute_result"
    }
   ],
   "source": [
    "#Alunos que faltaram na prova de CN e valor NÃO é nulo\n",
    "len(presentes.loc[(presentes['TP_PRESENCA_CN'] == 0) & presentes.NU_NOTA_CN.notnull()]) "
   ]
  },
  {
   "cell_type": "code",
   "execution_count": 30,
   "metadata": {
    "ExecuteTime": {
     "end_time": "2020-06-04T05:58:22.995535Z",
     "start_time": "2020-06-04T05:58:22.984565Z"
    }
   },
   "outputs": [
    {
     "data": {
      "text/plain": [
       "3380"
      ]
     },
     "execution_count": 30,
     "metadata": {},
     "output_type": "execute_result"
    }
   ],
   "source": [
    "#Alunos que faltaram na prova de CN e valor é nulo\n",
    "len(presentes.loc[(presentes['TP_PRESENCA_CN'] == 0) & presentes.NU_NOTA_CN.isnull()]) "
   ]
  },
  {
   "cell_type": "code",
   "execution_count": 31,
   "metadata": {
    "ExecuteTime": {
     "end_time": "2020-06-04T05:58:23.143392Z",
     "start_time": "2020-06-04T05:58:23.134417Z"
    }
   },
   "outputs": [
    {
     "data": {
      "text/plain": [
       "0"
      ]
     },
     "execution_count": 31,
     "metadata": {},
     "output_type": "execute_result"
    }
   ],
   "source": [
    "#Alunos que faltaram na prova de CH e valor NÃO é nulo\n",
    "len(presentes.loc[(presentes['TP_PRESENCA_CH'] == 0) & presentes.NU_NOTA_CH.notnull()]) "
   ]
  },
  {
   "cell_type": "code",
   "execution_count": 32,
   "metadata": {
    "ExecuteTime": {
     "end_time": "2020-06-04T05:58:23.295388Z",
     "start_time": "2020-06-04T05:58:23.285414Z"
    }
   },
   "outputs": [
    {
     "data": {
      "text/plain": [
       "3380"
      ]
     },
     "execution_count": 32,
     "metadata": {},
     "output_type": "execute_result"
    }
   ],
   "source": [
    "#Alunos que faltaram na prova de CH e valor é nulo\n",
    "len(presentes.loc[(presentes['TP_PRESENCA_CH'] == 0) & presentes.NU_NOTA_CH.isnull()]) "
   ]
  },
  {
   "cell_type": "code",
   "execution_count": 33,
   "metadata": {
    "ExecuteTime": {
     "end_time": "2020-06-04T05:58:23.445699Z",
     "start_time": "2020-06-04T05:58:23.435727Z"
    }
   },
   "outputs": [
    {
     "data": {
      "text/plain": [
       "9"
      ]
     },
     "execution_count": 33,
     "metadata": {},
     "output_type": "execute_result"
    }
   ],
   "source": [
    "#Alunos que FORAM ELIMINADOS na prova de CH e valor é nulo\n",
    "len(presentes.loc[(presentes['TP_PRESENCA_CH'] == 2) & presentes.NU_NOTA_CH.isnull()]) "
   ]
  },
  {
   "cell_type": "code",
   "execution_count": 34,
   "metadata": {
    "ExecuteTime": {
     "end_time": "2020-06-04T05:58:23.589130Z",
     "start_time": "2020-06-04T05:58:23.580118Z"
    }
   },
   "outputs": [
    {
     "data": {
      "text/plain": [
       "0"
      ]
     },
     "execution_count": 34,
     "metadata": {},
     "output_type": "execute_result"
    }
   ],
   "source": [
    "#Alunos que faltaram na prova de LC e valor NÃO é nulo\n",
    "len(presentes.loc[(presentes['TP_PRESENCA_LC'] == 0) & presentes.NU_NOTA_LC.notnull()]) "
   ]
  },
  {
   "cell_type": "code",
   "execution_count": 35,
   "metadata": {
    "ExecuteTime": {
     "end_time": "2020-06-04T05:58:23.749527Z",
     "start_time": "2020-06-04T05:58:23.739553Z"
    }
   },
   "outputs": [
    {
     "data": {
      "text/plain": [
       "3592"
      ]
     },
     "execution_count": 35,
     "metadata": {},
     "output_type": "execute_result"
    }
   ],
   "source": [
    "#Alunos que faltaram na prova de LC e valor é nulo\n",
    "len(presentes.loc[(presentes['TP_PRESENCA_LC'] == 0) & presentes.NU_NOTA_LC.isnull()]) "
   ]
  },
  {
   "cell_type": "code",
   "execution_count": 36,
   "metadata": {
    "ExecuteTime": {
     "end_time": "2020-06-04T05:58:23.926096Z",
     "start_time": "2020-06-04T05:58:23.918083Z"
    }
   },
   "outputs": [
    {
     "data": {
      "text/plain": [
       "0"
      ]
     },
     "execution_count": 36,
     "metadata": {},
     "output_type": "execute_result"
    }
   ],
   "source": [
    "#Alunos que faltaram na prova de LC e O VALOR DA NOTA DE MATEMÁTICA NÃO É NULO\n",
    "len(presentes.loc[(presentes['TP_PRESENCA_LC'] == 0) & presentes.NU_NOTA_MT.notnull()]) "
   ]
  },
  {
   "cell_type": "code",
   "execution_count": 37,
   "metadata": {
    "ExecuteTime": {
     "end_time": "2020-06-04T05:58:24.083523Z",
     "start_time": "2020-06-04T05:58:24.074509Z"
    }
   },
   "outputs": [
    {
     "data": {
      "text/plain": [
       "3592"
      ]
     },
     "execution_count": 37,
     "metadata": {},
     "output_type": "execute_result"
    }
   ],
   "source": [
    "#Alunos que faltaram na prova de LC e O VALOR DA NOTA DE MATEMÁTICA É NULO\n",
    "len(presentes.loc[(presentes['TP_PRESENCA_LC'] == 0) & presentes.NU_NOTA_MT.isnull()]) "
   ]
  },
  {
   "cell_type": "code",
   "execution_count": 38,
   "metadata": {
    "ExecuteTime": {
     "end_time": "2020-06-04T05:58:24.256457Z",
     "start_time": "2020-06-04T05:58:24.247518Z"
    }
   },
   "outputs": [
    {
     "data": {
      "text/plain": [
       "5"
      ]
     },
     "execution_count": 38,
     "metadata": {},
     "output_type": "execute_result"
    }
   ],
   "source": [
    "#Alunos que FOI ELIMINADO na prova de LC e O VALOR DA NOTA DE MATEMÁTICA É NULO\n",
    "len(presentes.loc[(presentes['TP_PRESENCA_LC'] == 2) & presentes.NU_NOTA_MT.isnull()]) "
   ]
  },
  {
   "cell_type": "markdown",
   "metadata": {},
   "source": [
    "Podemos ver que se o aluno falta ou é eliminado a nota dele fica como nulo. Então Vamos trocar os valores nulos por zero que é a nota real dele."
   ]
  },
  {
   "cell_type": "markdown",
   "metadata": {},
   "source": [
    "###### Trocar notas nulas por zero"
   ]
  },
  {
   "cell_type": "code",
   "execution_count": 39,
   "metadata": {
    "ExecuteTime": {
     "end_time": "2020-06-04T05:58:25.664412Z",
     "start_time": "2020-06-04T05:58:25.637445Z"
    }
   },
   "outputs": [
    {
     "data": {
      "text/html": [
       "<div>\n",
       "<style scoped>\n",
       "    .dataframe tbody tr th:only-of-type {\n",
       "        vertical-align: middle;\n",
       "    }\n",
       "\n",
       "    .dataframe tbody tr th {\n",
       "        vertical-align: top;\n",
       "    }\n",
       "\n",
       "    .dataframe thead th {\n",
       "        text-align: right;\n",
       "    }\n",
       "</style>\n",
       "<table border=\"1\" class=\"dataframe\">\n",
       "  <thead>\n",
       "    <tr style=\"text-align: right;\">\n",
       "      <th></th>\n",
       "      <th>Total</th>\n",
       "      <th>Porcentagem</th>\n",
       "    </tr>\n",
       "  </thead>\n",
       "  <tbody>\n",
       "    <tr>\n",
       "      <td>NU_NOTA_MT</td>\n",
       "      <td>3597</td>\n",
       "      <td>26.198106</td>\n",
       "    </tr>\n",
       "    <tr>\n",
       "      <td>NU_NOTA_LC</td>\n",
       "      <td>3597</td>\n",
       "      <td>26.198106</td>\n",
       "    </tr>\n",
       "    <tr>\n",
       "      <td>NU_NOTA_REDACAO</td>\n",
       "      <td>3597</td>\n",
       "      <td>26.198106</td>\n",
       "    </tr>\n",
       "    <tr>\n",
       "      <td>NU_NOTA_CH</td>\n",
       "      <td>3389</td>\n",
       "      <td>24.683176</td>\n",
       "    </tr>\n",
       "    <tr>\n",
       "      <td>NU_NOTA_CN</td>\n",
       "      <td>3389</td>\n",
       "      <td>24.683176</td>\n",
       "    </tr>\n",
       "    <tr>\n",
       "      <td>TP_ESCOLA</td>\n",
       "      <td>0</td>\n",
       "      <td>0.000000</td>\n",
       "    </tr>\n",
       "    <tr>\n",
       "      <td>NU_IDADE</td>\n",
       "      <td>0</td>\n",
       "      <td>0.000000</td>\n",
       "    </tr>\n",
       "    <tr>\n",
       "      <td>TP_SEXO</td>\n",
       "      <td>0</td>\n",
       "      <td>0.000000</td>\n",
       "    </tr>\n",
       "    <tr>\n",
       "      <td>TP_ST_CONCLUSAO</td>\n",
       "      <td>0</td>\n",
       "      <td>0.000000</td>\n",
       "    </tr>\n",
       "    <tr>\n",
       "      <td>TP_ANO_CONCLUIU</td>\n",
       "      <td>0</td>\n",
       "      <td>0.000000</td>\n",
       "    </tr>\n",
       "  </tbody>\n",
       "</table>\n",
       "</div>"
      ],
      "text/plain": [
       "                 Total  Porcentagem\n",
       "NU_NOTA_MT        3597    26.198106\n",
       "NU_NOTA_LC        3597    26.198106\n",
       "NU_NOTA_REDACAO   3597    26.198106\n",
       "NU_NOTA_CH        3389    24.683176\n",
       "NU_NOTA_CN        3389    24.683176\n",
       "TP_ESCOLA            0     0.000000\n",
       "NU_IDADE             0     0.000000\n",
       "TP_SEXO              0     0.000000\n",
       "TP_ST_CONCLUSAO      0     0.000000\n",
       "TP_ANO_CONCLUIU      0     0.000000"
      ]
     },
     "execution_count": 39,
     "metadata": {},
     "output_type": "execute_result"
    }
   ],
   "source": [
    "# Verificando se existem valores nulos na base de dados\n",
    "\n",
    "total = base_treino21.isnull().sum().sort_values(ascending=False)\n",
    "porcentagem = (base_treino21.isnull().sum()/base_treino21.isnull().count() * 100).sort_values(ascending=False)\n",
    "missing = pd.concat([total, porcentagem], axis=1, keys=['Total', 'Porcentagem'])\n",
    "missing.head(10)"
   ]
  },
  {
   "cell_type": "code",
   "execution_count": 40,
   "metadata": {
    "ExecuteTime": {
     "end_time": "2020-06-04T05:58:26.082480Z",
     "start_time": "2020-06-04T05:58:26.073455Z"
    }
   },
   "outputs": [],
   "source": [
    "base_treino21 = base_treino21.fillna(0)"
   ]
  },
  {
   "cell_type": "code",
   "execution_count": 41,
   "metadata": {
    "ExecuteTime": {
     "end_time": "2020-06-04T05:58:26.248789Z",
     "start_time": "2020-06-04T05:58:26.226848Z"
    }
   },
   "outputs": [
    {
     "data": {
      "text/html": [
       "<div>\n",
       "<style scoped>\n",
       "    .dataframe tbody tr th:only-of-type {\n",
       "        vertical-align: middle;\n",
       "    }\n",
       "\n",
       "    .dataframe tbody tr th {\n",
       "        vertical-align: top;\n",
       "    }\n",
       "\n",
       "    .dataframe thead th {\n",
       "        text-align: right;\n",
       "    }\n",
       "</style>\n",
       "<table border=\"1\" class=\"dataframe\">\n",
       "  <thead>\n",
       "    <tr style=\"text-align: right;\">\n",
       "      <th></th>\n",
       "      <th>Total</th>\n",
       "      <th>Porcentagem</th>\n",
       "    </tr>\n",
       "  </thead>\n",
       "  <tbody>\n",
       "    <tr>\n",
       "      <td>NU_NOTA_MT</td>\n",
       "      <td>0</td>\n",
       "      <td>0.0</td>\n",
       "    </tr>\n",
       "    <tr>\n",
       "      <td>IN_GESTANTE</td>\n",
       "      <td>0</td>\n",
       "      <td>0.0</td>\n",
       "    </tr>\n",
       "    <tr>\n",
       "      <td>NU_IDADE</td>\n",
       "      <td>0</td>\n",
       "      <td>0.0</td>\n",
       "    </tr>\n",
       "    <tr>\n",
       "      <td>TP_SEXO</td>\n",
       "      <td>0</td>\n",
       "      <td>0.0</td>\n",
       "    </tr>\n",
       "    <tr>\n",
       "      <td>TP_ST_CONCLUSAO</td>\n",
       "      <td>0</td>\n",
       "      <td>0.0</td>\n",
       "    </tr>\n",
       "    <tr>\n",
       "      <td>TP_ANO_CONCLUIU</td>\n",
       "      <td>0</td>\n",
       "      <td>0.0</td>\n",
       "    </tr>\n",
       "    <tr>\n",
       "      <td>TP_ESCOLA</td>\n",
       "      <td>0</td>\n",
       "      <td>0.0</td>\n",
       "    </tr>\n",
       "    <tr>\n",
       "      <td>IN_TREINEIRO</td>\n",
       "      <td>0</td>\n",
       "      <td>0.0</td>\n",
       "    </tr>\n",
       "    <tr>\n",
       "      <td>IN_IDOSO</td>\n",
       "      <td>0</td>\n",
       "      <td>0.0</td>\n",
       "    </tr>\n",
       "    <tr>\n",
       "      <td>NU_NOTA_REDACAO</td>\n",
       "      <td>0</td>\n",
       "      <td>0.0</td>\n",
       "    </tr>\n",
       "  </tbody>\n",
       "</table>\n",
       "</div>"
      ],
      "text/plain": [
       "                 Total  Porcentagem\n",
       "NU_NOTA_MT           0          0.0\n",
       "IN_GESTANTE          0          0.0\n",
       "NU_IDADE             0          0.0\n",
       "TP_SEXO              0          0.0\n",
       "TP_ST_CONCLUSAO      0          0.0\n",
       "TP_ANO_CONCLUIU      0          0.0\n",
       "TP_ESCOLA            0          0.0\n",
       "IN_TREINEIRO         0          0.0\n",
       "IN_IDOSO             0          0.0\n",
       "NU_NOTA_REDACAO      0          0.0"
      ]
     },
     "execution_count": 41,
     "metadata": {},
     "output_type": "execute_result"
    }
   ],
   "source": [
    "total = base_treino21.isnull().sum().sort_values(ascending=False)\n",
    "porcentagem = (base_treino21.isnull().sum()/base_treino21.isnull().count() * 100).sort_values(ascending=False)\n",
    "missing = pd.concat([total, porcentagem], axis=1, keys=['Total', 'Porcentagem'])\n",
    "missing.head(10)"
   ]
  },
  {
   "cell_type": "markdown",
   "metadata": {},
   "source": [
    "## 2.5 - Outliers"
   ]
  },
  {
   "cell_type": "markdown",
   "metadata": {},
   "source": [
    " Detectar outliers usando boxplot.\n",
    " Neste caso vamos considerar que os outiliers NÃO prejudicam o modelo. "
   ]
  },
  {
   "cell_type": "code",
   "execution_count": 42,
   "metadata": {
    "ExecuteTime": {
     "end_time": "2020-06-04T05:58:27.225220Z",
     "start_time": "2020-06-04T05:58:26.654747Z"
    },
    "scrolled": false
   },
   "outputs": [
    {
     "data": {
      "text/plain": [
       "<matplotlib.axes._subplots.AxesSubplot at 0x16f2ec50a08>"
      ]
     },
     "execution_count": 42,
     "metadata": {},
     "output_type": "execute_result"
    },
    {
     "data": {
      "image/png": "[encoded data removed]",
      "text/plain": [
       "<Figure size 1296x720 with 1 Axes>"
      ]
     },
     "metadata": {
      "needs_background": "light"
     },
     "output_type": "display_data"
    }
   ],
   "source": [
    "plt.figure(figsize=(18,10))\n",
    "sns.boxplot(data = base_treino21)"
   ]
  },
  {
   "cell_type": "markdown",
   "metadata": {},
   "source": [
    "## 2.6 - Dados Redundantes"
   ]
  },
  {
   "cell_type": "code",
   "execution_count": 43,
   "metadata": {
    "ExecuteTime": {
     "end_time": "2020-06-04T05:58:27.518216Z",
     "start_time": "2020-06-04T05:58:27.497237Z"
    }
   },
   "outputs": [
    {
     "data": {
      "text/plain": [
       "0"
      ]
     },
     "execution_count": 43,
     "metadata": {},
     "output_type": "execute_result"
    }
   ],
   "source": [
    "base_treino21.duplicated().sum()"
   ]
  },
  {
   "cell_type": "markdown",
   "metadata": {},
   "source": [
    "## 2.7 - Remover Coluna de Número de Inscrição"
   ]
  },
  {
   "cell_type": "code",
   "execution_count": 44,
   "metadata": {
    "ExecuteTime": {
     "end_time": "2020-06-04T05:58:28.242304Z",
     "start_time": "2020-06-04T05:58:28.237318Z"
    }
   },
   "outputs": [
    {
     "data": {
      "text/plain": [
       "['NU_INSCRICAO',\n",
       " 'NU_IDADE',\n",
       " 'TP_SEXO',\n",
       " 'TP_ST_CONCLUSAO',\n",
       " 'TP_ANO_CONCLUIU',\n",
       " 'TP_ESCOLA',\n",
       " 'IN_TREINEIRO',\n",
       " 'IN_GESTANTE',\n",
       " 'IN_IDOSO',\n",
       " 'TP_PRESENCA_CN',\n",
       " 'TP_PRESENCA_CH',\n",
       " 'TP_PRESENCA_LC',\n",
       " 'NU_NOTA_CN',\n",
       " 'NU_NOTA_CH',\n",
       " 'NU_NOTA_LC',\n",
       " 'NU_NOTA_REDACAO',\n",
       " 'NU_NOTA_MT']"
      ]
     },
     "execution_count": 44,
     "metadata": {},
     "output_type": "execute_result"
    }
   ],
   "source": [
    "# Lista todas as colunas\n",
    "list(base_treino21)"
   ]
  },
  {
   "cell_type": "code",
   "execution_count": 45,
   "metadata": {
    "ExecuteTime": {
     "end_time": "2020-06-04T05:58:28.387357Z",
     "start_time": "2020-06-04T05:58:28.381375Z"
    }
   },
   "outputs": [],
   "source": [
    "NU_INSCRICAO = base_treino21.NU_INSCRICAO  #salvar essa coluna caso seja necessário\n",
    "base_treino21 = base_treino21.drop('NU_INSCRICAO', axis = 1)     #AXIS = 1 APAGA A COLUNA"
   ]
  },
  {
   "cell_type": "code",
   "execution_count": 46,
   "metadata": {
    "ExecuteTime": {
     "end_time": "2020-06-04T05:58:28.528654Z",
     "start_time": "2020-06-04T05:58:28.521714Z"
    }
   },
   "outputs": [
    {
     "data": {
      "text/plain": [
       "(13730, 16)"
      ]
     },
     "execution_count": 46,
     "metadata": {},
     "output_type": "execute_result"
    }
   ],
   "source": [
    "base_treino21.shape"
   ]
  },
  {
   "cell_type": "markdown",
   "metadata": {
    "heading_collapsed": true
   },
   "source": [
    "# 3.0  - EXPLORAÇÃO DOS DADOS"
   ]
  },
  {
   "cell_type": "code",
   "execution_count": 47,
   "metadata": {
    "ExecuteTime": {
     "end_time": "2020-06-04T05:58:30.883258Z",
     "start_time": "2020-06-04T05:58:30.878272Z"
    },
    "hidden": true
   },
   "outputs": [],
   "source": [
    " base3 = base_treino21.copy()"
   ]
  },
  {
   "cell_type": "code",
   "execution_count": null,
   "metadata": {
    "ExecuteTime": {
     "end_time": "2020-06-03T20:13:00.319189Z",
     "start_time": "2020-06-03T20:13:00.221315Z"
    },
    "hidden": true
   },
   "outputs": [],
   "source": [
    "base3.shape"
   ]
  },
  {
   "cell_type": "markdown",
   "metadata": {
    "hidden": true
   },
   "source": [
    "## 3.1 - Visualização de Estatísticas Básicas"
   ]
  },
  {
   "cell_type": "code",
   "execution_count": null,
   "metadata": {
    "ExecuteTime": {
     "end_time": "2020-06-03T20:13:00.449076Z",
     "start_time": "2020-06-03T20:13:00.321180Z"
    },
    "hidden": true
   },
   "outputs": [],
   "source": [
    "base3.head() "
   ]
  },
  {
   "cell_type": "code",
   "execution_count": null,
   "metadata": {
    "ExecuteTime": {
     "end_time": "2020-06-03T20:13:00.606872Z",
     "start_time": "2020-06-03T20:13:00.451029Z"
    },
    "hidden": true
   },
   "outputs": [],
   "source": [
    "base3.describe()"
   ]
  },
  {
   "cell_type": "code",
   "execution_count": null,
   "metadata": {
    "ExecuteTime": {
     "end_time": "2020-06-03T20:13:00.677342Z",
     "start_time": "2020-06-03T20:13:00.608867Z"
    },
    "hidden": true
   },
   "outputs": [],
   "source": [
    "ass = []\n",
    "cur = []\n",
    "colunas = base3.iloc[:,2:16]\n",
    "colunas['NU_IDADE'] = base3.iloc[:,0]\n",
    "for i in range (colunas.shape[1]):\n",
    "    ass.append(colunas.iloc[i].skew())\n",
    "    cur.append(colunas.iloc[i].kurt())\n",
    "ac = pd.DataFrame({\"Assimetria\" : ass, \"Curtose\" : cur})\n",
    "ac = ac.set_index(colunas.columns)\n",
    "ac"
   ]
  },
  {
   "cell_type": "markdown",
   "metadata": {
    "hidden": true
   },
   "source": [
    "## 3.2 - Histogramas"
   ]
  },
  {
   "cell_type": "code",
   "execution_count": null,
   "metadata": {
    "ExecuteTime": {
     "end_time": "2020-06-03T20:13:03.231225Z",
     "start_time": "2020-06-03T20:13:00.680342Z"
    },
    "hidden": true,
    "scrolled": false
   },
   "outputs": [],
   "source": [
    "c = colunas.shape[1] #número de colunas\n",
    "p = np.round(c/3) #quantidade de gráficos por linha, quero 3 colunas.\n",
    "\n",
    "plt.figure(1,figsize=(18,18))\n",
    "for g in range(c):\n",
    "    plt.subplot(p,3,g+1)#linhas, colunas, nºdo grafico\n",
    "    sns.distplot(colunas.iloc[:,g], hist = True, kde = True, bins = 10, color = 'blue',hist_kws={'edgecolor': 'black'})"
   ]
  },
  {
   "cell_type": "markdown",
   "metadata": {
    "hidden": true
   },
   "source": [
    "## 3.3 - Análise das Variáveis com a Saída"
   ]
  },
  {
   "cell_type": "raw",
   "metadata": {
    "hidden": true
   },
   "source": [
    "01 - Pessoas com 17 e 18 anos tem notas maiores?\n",
    "02 - HOMEM TEM A NOTA MAIOR?\n",
    "03 - PESSOAS DO 3º ANO TEM NOTA MAIOR?\n",
    "04 - QUEM CONCLUIU A MAIS TEMPO TEM NOTA PIOR?\n",
    "05 - NOTAS DE ESCOLA PARTICULAR É MELHOR?\n",
    "06 - NOTAS DE ESCOLA COM ENSINO PRESENCIAL É MELHOR?******\n",
    "07 - TREINEIROS VÃO MAL?\n",
    "08 - O TIPO DE ADMINISTRAÇÃO DA ESCOLA INTERFERE NA NOTA?*************\n",
    "09 - ESTÁR EM GESTAÇÃO INTERFERE PIORA A NOTA?\n",
    "10 - IDOSOS TEM NOTA MAIS BAIXA?\n",
    "11 - PESSOAS COM NOTAS BOAS EM CN TAMBÉM SÃO BONS EM MATEMÁTICA?\n",
    "12 - PESSOAS COM NOTAS BOAS EM CH VÃO MAL EM MATEMÁTICA?\n",
    "13 - PESSOAS COM NOTAS BOAS EM LC VÃO MAL EM MATEMÁTICA?\n",
    "14 - PESSOAS COM NOTAS BOAS EM REDAÇÃO VÃO MAL EM MATEMÁTICA?"
   ]
  },
  {
   "cell_type": "code",
   "execution_count": null,
   "metadata": {
    "ExecuteTime": {
     "end_time": "2020-06-03T20:13:03.239173Z",
     "start_time": "2020-06-03T20:13:03.233186Z"
    },
    "hidden": true
   },
   "outputs": [],
   "source": [
    "base3.columns"
   ]
  },
  {
   "cell_type": "code",
   "execution_count": null,
   "metadata": {
    "ExecuteTime": {
     "end_time": "2020-06-03T20:13:03.597185Z",
     "start_time": "2020-06-03T20:13:03.242162Z"
    },
    "hidden": true
   },
   "outputs": [],
   "source": [
    "#Qual a relação da idade com a nota de matemática?\n",
    "\n",
    "plt.figure(figsize=(18,10))\n",
    "\n",
    "x = base3.NU_IDADE\n",
    "y = base3.NU_NOTA_MT\n",
    "\n",
    "#Computando os valores e gerando o gráfico\n",
    "\n",
    "m, b = np.polyfit(x, y, 1)\n",
    "plt.plot(x, y, '.')\n",
    "plt.plot(x, m*x + b, '-', color = \"red\")\n",
    "plt.xlabel(\"Idade\")\n",
    "plt.ylabel(\"Número de gravidez\")\n",
    "plt.title(\"Idade x Número de gravidez\")\n",
    "plt.show()\n"
   ]
  },
  {
   "cell_type": "code",
   "execution_count": null,
   "metadata": {
    "ExecuteTime": {
     "end_time": "2020-06-03T20:13:03.791669Z",
     "start_time": "2020-06-03T20:13:03.599143Z"
    },
    "hidden": true
   },
   "outputs": [],
   "source": [
    "#Qual a relação do sexo com a nota de matemática?\n",
    "plt.figure(figsize=(18,10))\n",
    "\n",
    "x = base3.TP_SEXO\n",
    "y = base3.NU_NOTA_MT\n",
    "\n",
    "#Computando os valores e gerando o gráfico\n",
    "\n",
    "sns.barplot(x,y, ci=None)\n",
    "plt.xticks(rotation=0);"
   ]
  },
  {
   "cell_type": "code",
   "execution_count": null,
   "metadata": {
    "ExecuteTime": {
     "end_time": "2020-06-03T20:13:03.996080Z",
     "start_time": "2020-06-03T20:13:03.794620Z"
    },
    "hidden": true
   },
   "outputs": [],
   "source": [
    "#Qual a relação do ano de conclusão com a nota de matemática?\n",
    "plt.figure(figsize=(18,10))\n",
    "\n",
    "x = base3.TP_ST_CONCLUSAO\n",
    "y = base3.NU_NOTA_MT\n",
    "\n",
    "#Computando os valores e gerando o gráfico\n",
    "\n",
    "sns.barplot(x,y, ci=None)\n",
    "plt.xticks(rotation=0);"
   ]
  },
  {
   "cell_type": "code",
   "execution_count": null,
   "metadata": {
    "ExecuteTime": {
     "end_time": "2020-06-03T20:13:04.241849Z",
     "start_time": "2020-06-03T20:13:03.999075Z"
    },
    "hidden": true
   },
   "outputs": [],
   "source": [
    "#Qual a relação do ano de conclusão com a nota de matemática?\n",
    "plt.figure(figsize=(18,10))\n",
    "\n",
    "x = base3.TP_ANO_CONCLUIU\n",
    "y = base3.NU_NOTA_MT\n",
    "\n",
    "#Computando os valores e gerando o gráfico\n",
    "\n",
    "sns.barplot(x,y, ci=None)\n",
    "plt.xticks(rotation=0);"
   ]
  },
  {
   "cell_type": "code",
   "execution_count": null,
   "metadata": {
    "ExecuteTime": {
     "end_time": "2020-06-03T20:13:04.437069Z",
     "start_time": "2020-06-03T20:13:04.244841Z"
    },
    "hidden": true
   },
   "outputs": [],
   "source": [
    "#Qual a relação do tipo de escola com a nota de matemática?\n",
    "plt.figure(figsize=(18,10))\n",
    "\n",
    "x = base3.TP_ESCOLA\n",
    "y = base3.NU_NOTA_MT\n",
    "\n",
    "#Computando os valores e gerando o gráfico\n",
    "\n",
    "sns.barplot(x,y, ci=None)\n",
    "plt.xticks(rotation=0);"
   ]
  },
  {
   "cell_type": "code",
   "execution_count": null,
   "metadata": {
    "ExecuteTime": {
     "end_time": "2020-06-03T20:13:04.631608Z",
     "start_time": "2020-06-03T20:13:04.439029Z"
    },
    "hidden": true
   },
   "outputs": [],
   "source": [
    "#Qual a relação dos treineiros com a nota de matemática?\n",
    "plt.figure(figsize=(18,10))\n",
    "\n",
    "x = base3.IN_TREINEIRO\n",
    "y = base3.NU_NOTA_MT\n",
    "\n",
    "#Computando os valores e gerando o gráfico\n",
    "\n",
    "sns.barplot(x,y, ci=None)\n",
    "plt.xticks(rotation=0);"
   ]
  },
  {
   "cell_type": "code",
   "execution_count": null,
   "metadata": {
    "ExecuteTime": {
     "end_time": "2020-06-03T20:13:04.823679Z",
     "start_time": "2020-06-03T20:13:04.634601Z"
    },
    "hidden": true
   },
   "outputs": [],
   "source": [
    "#Qual a relação das gestantes com a nota de matemática?\n",
    "plt.figure(figsize=(18,10))\n",
    "\n",
    "x = base3.IN_GESTANTE\n",
    "y = base3.NU_NOTA_MT\n",
    "\n",
    "#Computando os valores e gerando o gráfico\n",
    "\n",
    "sns.barplot(x,y, ci=None)\n",
    "plt.xticks(rotation=0);"
   ]
  },
  {
   "cell_type": "code",
   "execution_count": null,
   "metadata": {
    "ExecuteTime": {
     "end_time": "2020-06-03T20:13:05.013724Z",
     "start_time": "2020-06-03T20:13:04.826671Z"
    },
    "hidden": true
   },
   "outputs": [],
   "source": [
    "#Qual a relação dos idosos com a nota de matemática?\n",
    "plt.figure(figsize=(18,10))\n",
    "\n",
    "x = base3.IN_IDOSO\n",
    "y = base3.NU_NOTA_MT\n",
    "\n",
    "#Computando os valores e gerando o gráfico\n",
    "\n",
    "sns.barplot(x,y, ci=None)\n",
    "plt.xticks(rotation=0);"
   ]
  },
  {
   "cell_type": "code",
   "execution_count": null,
   "metadata": {
    "ExecuteTime": {
     "end_time": "2020-06-03T20:13:05.280473Z",
     "start_time": "2020-06-03T20:13:05.016715Z"
    },
    "hidden": true
   },
   "outputs": [],
   "source": [
    "#Qual a relação das notas de CN com a nota de matemática?\n",
    "plt.figure(figsize=(18,10))\n",
    "\n",
    "x = base3.NU_NOTA_CN\n",
    "y = base3.NU_NOTA_MT\n",
    "\n",
    "#Computando os valores e gerando o gráfico\n",
    "\n",
    "m, b = np.polyfit(x, y, 1)\n",
    "plt.plot(x, y, '.')\n",
    "plt.plot(x, m*x + b, '-', color = \"red\")\n",
    "plt.xlabel(\"NU_NOTA_CN\")\n",
    "plt.ylabel(\"NU_NOTA_MT\")\n",
    "plt.title(\"\")\n",
    "plt.show()"
   ]
  },
  {
   "cell_type": "code",
   "execution_count": null,
   "metadata": {
    "ExecuteTime": {
     "end_time": "2020-06-03T20:13:05.541278Z",
     "start_time": "2020-06-03T20:13:05.282469Z"
    },
    "hidden": true
   },
   "outputs": [],
   "source": [
    "#Qual a relação das notas de CH com a nota de matemática?\n",
    "plt.figure(figsize=(18,10))\n",
    "\n",
    "x = base3.NU_NOTA_CH\n",
    "y = base3.NU_NOTA_MT\n",
    "\n",
    "#Computando os valores e gerando o gráfico\n",
    "\n",
    "m, b = np.polyfit(x, y, 1)\n",
    "plt.plot(x, y, '.')\n",
    "plt.plot(x, m*x + b, '-', color = \"red\")\n",
    "plt.xlabel(\"NU_NOTA_CH\")\n",
    "plt.ylabel(\"NU_NOTA_MT\")\n",
    "plt.title(\"\")\n",
    "plt.show()"
   ]
  },
  {
   "cell_type": "code",
   "execution_count": null,
   "metadata": {
    "ExecuteTime": {
     "end_time": "2020-06-03T20:13:05.816513Z",
     "start_time": "2020-06-03T20:13:05.543271Z"
    },
    "hidden": true
   },
   "outputs": [],
   "source": [
    "#Qual a relação das notas de LC com a nota de matemática?\n",
    "plt.figure(figsize=(18,10))\n",
    "\n",
    "x = base3.NU_NOTA_LC\n",
    "y = base3.NU_NOTA_MT\n",
    "\n",
    "#Computando os valores e gerando o gráfico\n",
    "\n",
    "m, b = np.polyfit(x, y, 1)\n",
    "plt.plot(x, y, '.')\n",
    "plt.plot(x, m*x + b, '-', color = \"red\")\n",
    "plt.xlabel(\"NU_NOTA_LC\")\n",
    "plt.ylabel(\"NU_NOTA_MT\")\n",
    "plt.title(\"\")\n",
    "plt.show()"
   ]
  },
  {
   "cell_type": "code",
   "execution_count": null,
   "metadata": {
    "ExecuteTime": {
     "end_time": "2020-06-03T20:13:06.070663Z",
     "start_time": "2020-06-03T20:13:05.818507Z"
    },
    "hidden": true
   },
   "outputs": [],
   "source": [
    "#Qual a relação das notas de redação com a nota de matemática?\n",
    "plt.figure(figsize=(18,10))\n",
    "\n",
    "x = base3.NU_NOTA_REDACAO\n",
    "y = base3.NU_NOTA_MT\n",
    "\n",
    "#Computando os valores e gerando o gráfico\n",
    "\n",
    "m, b = np.polyfit(x, y, 1)\n",
    "plt.plot(x, y, '.')\n",
    "plt.plot(x, m*x + b, '-', color = \"red\")\n",
    "plt.xlabel(\"NU_NOTA_REDACAO\")\n",
    "plt.ylabel(\"NU_NOTA_MT\")\n",
    "plt.title(\"\")\n",
    "plt.show()"
   ]
  },
  {
   "cell_type": "markdown",
   "metadata": {
    "hidden": true
   },
   "source": [
    "## 3.4 - Correlação"
   ]
  },
  {
   "cell_type": "code",
   "execution_count": null,
   "metadata": {
    "ExecuteTime": {
     "end_time": "2020-06-03T20:13:06.086586Z",
     "start_time": "2020-06-03T20:13:06.072622Z"
    },
    "hidden": true
   },
   "outputs": [],
   "source": [
    "base3.TP_SEXO.astype('category')"
   ]
  },
  {
   "cell_type": "code",
   "execution_count": null,
   "metadata": {
    "ExecuteTime": {
     "end_time": "2020-06-03T20:13:06.203796Z",
     "start_time": "2020-06-03T20:13:06.088581Z"
    },
    "hidden": true
   },
   "outputs": [],
   "source": [
    "base3.dtypes"
   ]
  },
  {
   "cell_type": "code",
   "execution_count": null,
   "metadata": {
    "ExecuteTime": {
     "end_time": "2020-06-03T20:13:07.342147Z",
     "start_time": "2020-06-03T20:13:06.209815Z"
    },
    "hidden": true
   },
   "outputs": [],
   "source": [
    "# Identificando a correlação entre as variáveis em geral\n",
    "# Correlação não implica causalidade\n",
    "corr = base3.corr()\n",
    "f, ax = plt.subplots(figsize=(12, 9))\n",
    "sns.heatmap(corr, square=True, annot=True, annot_kws={\"size\": 10},  vmin=-1, vmax=1);"
   ]
  },
  {
   "cell_type": "code",
   "execution_count": null,
   "metadata": {
    "ExecuteTime": {
     "end_time": "2020-06-03T20:13:07.393011Z",
     "start_time": "2020-06-03T20:13:07.344107Z"
    },
    "hidden": true
   },
   "outputs": [],
   "source": [
    "# Visualizando a correlação em tabela\n",
    "# Coeficiente de correlação: \n",
    "# +1  = forte correlação positiva\n",
    "# 0   = não há correlação\n",
    "# -1  = forte correlação negativa\n",
    "base3.corr()"
   ]
  },
  {
   "cell_type": "code",
   "execution_count": null,
   "metadata": {
    "ExecuteTime": {
     "end_time": "2020-06-03T20:13:07.849071Z",
     "start_time": "2020-06-03T20:13:07.394970Z"
    },
    "hidden": true
   },
   "outputs": [],
   "source": [
    "plt.figure(figsize=(10,6))\n",
    "k = 6 #números de variáveis parra a correlação\n",
    "cols = corr.nlargest(k, 'NU_NOTA_MT')['NU_NOTA_MT'].index\n",
    "cm = np.corrcoef(base3[cols].values.T)\n",
    "sns.set(font_scale=1.25)\n",
    "hm = sns.heatmap(cm, cbar=True, annot=True, square=True, fmt='.2f', annot_kws={'size': 20}, yticklabels=cols.values, xticklabels=cols.values)\n",
    "plt.show()"
   ]
  },
  {
   "cell_type": "markdown",
   "metadata": {
    "ExecuteTime": {
     "end_time": "2020-05-28T06:35:26.934842Z",
     "start_time": "2020-05-28T06:35:26.929855Z"
    },
    "hidden": true
   },
   "source": [
    "## 3.5 - Gráfico de Dispersão Entre as Variáveis Mais Correlacionadas."
   ]
  },
  {
   "cell_type": "code",
   "execution_count": null,
   "metadata": {
    "ExecuteTime": {
     "end_time": "2020-06-03T20:13:19.098820Z",
     "start_time": "2020-06-03T20:13:07.851067Z"
    },
    "hidden": true
   },
   "outputs": [],
   "source": [
    "sns.pairplot(base3[cols])\n",
    "#kind=\"reg\"\n",
    "#height = 5.0\n",
    "plt.show();"
   ]
  },
  {
   "cell_type": "markdown",
   "metadata": {},
   "source": [
    "# 4.0 - MODELAGEM DOS DADOS"
   ]
  },
  {
   "cell_type": "markdown",
   "metadata": {},
   "source": [
    " "
   ]
  },
  {
   "cell_type": "code",
   "execution_count": 48,
   "metadata": {
    "ExecuteTime": {
     "end_time": "2020-06-04T05:58:38.970692Z",
     "start_time": "2020-06-04T05:58:38.965708Z"
    }
   },
   "outputs": [],
   "source": [
    "base4 = base3.copy()"
   ]
  },
  {
   "cell_type": "code",
   "execution_count": 49,
   "metadata": {
    "ExecuteTime": {
     "end_time": "2020-06-04T05:58:39.171364Z",
     "start_time": "2020-06-04T05:58:39.166415Z"
    }
   },
   "outputs": [
    {
     "data": {
      "text/plain": [
       "(13730, 16)"
      ]
     },
     "execution_count": 49,
     "metadata": {},
     "output_type": "execute_result"
    }
   ],
   "source": [
    "base4.shape"
   ]
  },
  {
   "cell_type": "code",
   "execution_count": 50,
   "metadata": {
    "ExecuteTime": {
     "end_time": "2020-06-04T05:58:39.385786Z",
     "start_time": "2020-06-04T05:58:39.365799Z"
    }
   },
   "outputs": [
    {
     "data": {
      "text/html": [
       "<div>\n",
       "<style scoped>\n",
       "    .dataframe tbody tr th:only-of-type {\n",
       "        vertical-align: middle;\n",
       "    }\n",
       "\n",
       "    .dataframe tbody tr th {\n",
       "        vertical-align: top;\n",
       "    }\n",
       "\n",
       "    .dataframe thead th {\n",
       "        text-align: right;\n",
       "    }\n",
       "</style>\n",
       "<table border=\"1\" class=\"dataframe\">\n",
       "  <thead>\n",
       "    <tr style=\"text-align: right;\">\n",
       "      <th></th>\n",
       "      <th>NU_IDADE</th>\n",
       "      <th>TP_SEXO</th>\n",
       "      <th>TP_ST_CONCLUSAO</th>\n",
       "      <th>TP_ANO_CONCLUIU</th>\n",
       "      <th>TP_ESCOLA</th>\n",
       "      <th>IN_TREINEIRO</th>\n",
       "      <th>IN_GESTANTE</th>\n",
       "      <th>IN_IDOSO</th>\n",
       "      <th>TP_PRESENCA_CN</th>\n",
       "      <th>TP_PRESENCA_CH</th>\n",
       "      <th>TP_PRESENCA_LC</th>\n",
       "      <th>NU_NOTA_CN</th>\n",
       "      <th>NU_NOTA_CH</th>\n",
       "      <th>NU_NOTA_LC</th>\n",
       "      <th>NU_NOTA_REDACAO</th>\n",
       "      <th>NU_NOTA_MT</th>\n",
       "    </tr>\n",
       "  </thead>\n",
       "  <tbody>\n",
       "    <tr>\n",
       "      <td>0</td>\n",
       "      <td>24</td>\n",
       "      <td>M</td>\n",
       "      <td>1</td>\n",
       "      <td>4</td>\n",
       "      <td>1</td>\n",
       "      <td>0</td>\n",
       "      <td>0</td>\n",
       "      <td>0</td>\n",
       "      <td>1</td>\n",
       "      <td>1</td>\n",
       "      <td>1</td>\n",
       "      <td>436.3</td>\n",
       "      <td>495.4</td>\n",
       "      <td>581.2</td>\n",
       "      <td>520.0</td>\n",
       "      <td>399.4</td>\n",
       "    </tr>\n",
       "    <tr>\n",
       "      <td>1</td>\n",
       "      <td>17</td>\n",
       "      <td>F</td>\n",
       "      <td>2</td>\n",
       "      <td>0</td>\n",
       "      <td>2</td>\n",
       "      <td>0</td>\n",
       "      <td>0</td>\n",
       "      <td>0</td>\n",
       "      <td>1</td>\n",
       "      <td>1</td>\n",
       "      <td>1</td>\n",
       "      <td>474.5</td>\n",
       "      <td>544.1</td>\n",
       "      <td>599.0</td>\n",
       "      <td>580.0</td>\n",
       "      <td>459.8</td>\n",
       "    </tr>\n",
       "    <tr>\n",
       "      <td>2</td>\n",
       "      <td>21</td>\n",
       "      <td>F</td>\n",
       "      <td>3</td>\n",
       "      <td>0</td>\n",
       "      <td>1</td>\n",
       "      <td>0</td>\n",
       "      <td>0</td>\n",
       "      <td>0</td>\n",
       "      <td>0</td>\n",
       "      <td>0</td>\n",
       "      <td>0</td>\n",
       "      <td>0.0</td>\n",
       "      <td>0.0</td>\n",
       "      <td>0.0</td>\n",
       "      <td>0.0</td>\n",
       "      <td>0.0</td>\n",
       "    </tr>\n",
       "    <tr>\n",
       "      <td>3</td>\n",
       "      <td>25</td>\n",
       "      <td>F</td>\n",
       "      <td>1</td>\n",
       "      <td>9</td>\n",
       "      <td>1</td>\n",
       "      <td>0</td>\n",
       "      <td>0</td>\n",
       "      <td>0</td>\n",
       "      <td>0</td>\n",
       "      <td>0</td>\n",
       "      <td>0</td>\n",
       "      <td>0.0</td>\n",
       "      <td>0.0</td>\n",
       "      <td>0.0</td>\n",
       "      <td>0.0</td>\n",
       "      <td>0.0</td>\n",
       "    </tr>\n",
       "    <tr>\n",
       "      <td>4</td>\n",
       "      <td>28</td>\n",
       "      <td>M</td>\n",
       "      <td>1</td>\n",
       "      <td>4</td>\n",
       "      <td>1</td>\n",
       "      <td>0</td>\n",
       "      <td>0</td>\n",
       "      <td>0</td>\n",
       "      <td>0</td>\n",
       "      <td>0</td>\n",
       "      <td>0</td>\n",
       "      <td>0.0</td>\n",
       "      <td>0.0</td>\n",
       "      <td>0.0</td>\n",
       "      <td>0.0</td>\n",
       "      <td>0.0</td>\n",
       "    </tr>\n",
       "  </tbody>\n",
       "</table>\n",
       "</div>"
      ],
      "text/plain": [
       "   NU_IDADE TP_SEXO  TP_ST_CONCLUSAO  TP_ANO_CONCLUIU  TP_ESCOLA  \\\n",
       "0        24       M                1                4          1   \n",
       "1        17       F                2                0          2   \n",
       "2        21       F                3                0          1   \n",
       "3        25       F                1                9          1   \n",
       "4        28       M                1                4          1   \n",
       "\n",
       "   IN_TREINEIRO  IN_GESTANTE  IN_IDOSO  TP_PRESENCA_CN  TP_PRESENCA_CH  \\\n",
       "0             0            0         0               1               1   \n",
       "1             0            0         0               1               1   \n",
       "2             0            0         0               0               0   \n",
       "3             0            0         0               0               0   \n",
       "4             0            0         0               0               0   \n",
       "\n",
       "   TP_PRESENCA_LC  NU_NOTA_CN  NU_NOTA_CH  NU_NOTA_LC  NU_NOTA_REDACAO  \\\n",
       "0               1       436.3       495.4       581.2            520.0   \n",
       "1               1       474.5       544.1       599.0            580.0   \n",
       "2               0         0.0         0.0         0.0              0.0   \n",
       "3               0         0.0         0.0         0.0              0.0   \n",
       "4               0         0.0         0.0         0.0              0.0   \n",
       "\n",
       "   NU_NOTA_MT  \n",
       "0       399.4  \n",
       "1       459.8  \n",
       "2         0.0  \n",
       "3         0.0  \n",
       "4         0.0  "
      ]
     },
     "execution_count": 50,
     "metadata": {},
     "output_type": "execute_result"
    }
   ],
   "source": [
    "base4.head()"
   ]
  },
  {
   "cell_type": "markdown",
   "metadata": {},
   "source": [
    "## 4.1 - Remover colunas desnecessárias."
   ]
  },
  {
   "cell_type": "code",
   "execution_count": 51,
   "metadata": {
    "ExecuteTime": {
     "end_time": "2020-06-04T05:58:40.164517Z",
     "start_time": "2020-06-04T05:58:40.154545Z"
    }
   },
   "outputs": [],
   "source": [
    "#Remover coluna da base de dados\n",
    "base4 = base4.drop('TP_PRESENCA_CN', axis = 1) #axis =1 significa a coluna toda\n",
    "base4 = base4.drop('IN_GESTANTE', axis = 1) #axis =1 significa a coluna toda\n",
    "base4 = base4.drop('IN_IDOSO', axis = 1) #axis =1 significa a coluna toda"
   ]
  },
  {
   "cell_type": "code",
   "execution_count": 52,
   "metadata": {
    "ExecuteTime": {
     "end_time": "2020-06-04T05:58:40.336708Z",
     "start_time": "2020-06-04T05:58:40.331723Z"
    }
   },
   "outputs": [
    {
     "data": {
      "text/plain": [
       "(13730, 13)"
      ]
     },
     "execution_count": 52,
     "metadata": {},
     "output_type": "execute_result"
    }
   ],
   "source": [
    "base4.shape"
   ]
  },
  {
   "cell_type": "code",
   "execution_count": 53,
   "metadata": {
    "ExecuteTime": {
     "end_time": "2020-06-04T05:58:40.530465Z",
     "start_time": "2020-06-04T05:58:40.516504Z"
    }
   },
   "outputs": [
    {
     "data": {
      "text/html": [
       "<div>\n",
       "<style scoped>\n",
       "    .dataframe tbody tr th:only-of-type {\n",
       "        vertical-align: middle;\n",
       "    }\n",
       "\n",
       "    .dataframe tbody tr th {\n",
       "        vertical-align: top;\n",
       "    }\n",
       "\n",
       "    .dataframe thead th {\n",
       "        text-align: right;\n",
       "    }\n",
       "</style>\n",
       "<table border=\"1\" class=\"dataframe\">\n",
       "  <thead>\n",
       "    <tr style=\"text-align: right;\">\n",
       "      <th></th>\n",
       "      <th>NU_IDADE</th>\n",
       "      <th>TP_SEXO</th>\n",
       "      <th>TP_ST_CONCLUSAO</th>\n",
       "      <th>TP_ANO_CONCLUIU</th>\n",
       "      <th>TP_ESCOLA</th>\n",
       "      <th>IN_TREINEIRO</th>\n",
       "      <th>TP_PRESENCA_CH</th>\n",
       "      <th>TP_PRESENCA_LC</th>\n",
       "      <th>NU_NOTA_CN</th>\n",
       "      <th>NU_NOTA_CH</th>\n",
       "      <th>NU_NOTA_LC</th>\n",
       "      <th>NU_NOTA_REDACAO</th>\n",
       "      <th>NU_NOTA_MT</th>\n",
       "    </tr>\n",
       "  </thead>\n",
       "  <tbody>\n",
       "    <tr>\n",
       "      <td>0</td>\n",
       "      <td>24</td>\n",
       "      <td>M</td>\n",
       "      <td>1</td>\n",
       "      <td>4</td>\n",
       "      <td>1</td>\n",
       "      <td>0</td>\n",
       "      <td>1</td>\n",
       "      <td>1</td>\n",
       "      <td>436.3</td>\n",
       "      <td>495.4</td>\n",
       "      <td>581.2</td>\n",
       "      <td>520.0</td>\n",
       "      <td>399.4</td>\n",
       "    </tr>\n",
       "    <tr>\n",
       "      <td>1</td>\n",
       "      <td>17</td>\n",
       "      <td>F</td>\n",
       "      <td>2</td>\n",
       "      <td>0</td>\n",
       "      <td>2</td>\n",
       "      <td>0</td>\n",
       "      <td>1</td>\n",
       "      <td>1</td>\n",
       "      <td>474.5</td>\n",
       "      <td>544.1</td>\n",
       "      <td>599.0</td>\n",
       "      <td>580.0</td>\n",
       "      <td>459.8</td>\n",
       "    </tr>\n",
       "    <tr>\n",
       "      <td>2</td>\n",
       "      <td>21</td>\n",
       "      <td>F</td>\n",
       "      <td>3</td>\n",
       "      <td>0</td>\n",
       "      <td>1</td>\n",
       "      <td>0</td>\n",
       "      <td>0</td>\n",
       "      <td>0</td>\n",
       "      <td>0.0</td>\n",
       "      <td>0.0</td>\n",
       "      <td>0.0</td>\n",
       "      <td>0.0</td>\n",
       "      <td>0.0</td>\n",
       "    </tr>\n",
       "    <tr>\n",
       "      <td>3</td>\n",
       "      <td>25</td>\n",
       "      <td>F</td>\n",
       "      <td>1</td>\n",
       "      <td>9</td>\n",
       "      <td>1</td>\n",
       "      <td>0</td>\n",
       "      <td>0</td>\n",
       "      <td>0</td>\n",
       "      <td>0.0</td>\n",
       "      <td>0.0</td>\n",
       "      <td>0.0</td>\n",
       "      <td>0.0</td>\n",
       "      <td>0.0</td>\n",
       "    </tr>\n",
       "    <tr>\n",
       "      <td>4</td>\n",
       "      <td>28</td>\n",
       "      <td>M</td>\n",
       "      <td>1</td>\n",
       "      <td>4</td>\n",
       "      <td>1</td>\n",
       "      <td>0</td>\n",
       "      <td>0</td>\n",
       "      <td>0</td>\n",
       "      <td>0.0</td>\n",
       "      <td>0.0</td>\n",
       "      <td>0.0</td>\n",
       "      <td>0.0</td>\n",
       "      <td>0.0</td>\n",
       "    </tr>\n",
       "  </tbody>\n",
       "</table>\n",
       "</div>"
      ],
      "text/plain": [
       "   NU_IDADE TP_SEXO  TP_ST_CONCLUSAO  TP_ANO_CONCLUIU  TP_ESCOLA  \\\n",
       "0        24       M                1                4          1   \n",
       "1        17       F                2                0          2   \n",
       "2        21       F                3                0          1   \n",
       "3        25       F                1                9          1   \n",
       "4        28       M                1                4          1   \n",
       "\n",
       "   IN_TREINEIRO  TP_PRESENCA_CH  TP_PRESENCA_LC  NU_NOTA_CN  NU_NOTA_CH  \\\n",
       "0             0               1               1       436.3       495.4   \n",
       "1             0               1               1       474.5       544.1   \n",
       "2             0               0               0         0.0         0.0   \n",
       "3             0               0               0         0.0         0.0   \n",
       "4             0               0               0         0.0         0.0   \n",
       "\n",
       "   NU_NOTA_LC  NU_NOTA_REDACAO  NU_NOTA_MT  \n",
       "0       581.2            520.0       399.4  \n",
       "1       599.0            580.0       459.8  \n",
       "2         0.0              0.0         0.0  \n",
       "3         0.0              0.0         0.0  \n",
       "4         0.0              0.0         0.0  "
      ]
     },
     "execution_count": 53,
     "metadata": {},
     "output_type": "execute_result"
    }
   ],
   "source": [
    "base4.head()"
   ]
  },
  {
   "cell_type": "markdown",
   "metadata": {},
   "source": [
    "## 4.2 - Separar a Base de Dados em Atributos e Classes"
   ]
  },
  {
   "cell_type": "code",
   "execution_count": 54,
   "metadata": {
    "ExecuteTime": {
     "end_time": "2020-06-04T05:58:40.843726Z",
     "start_time": "2020-06-04T05:58:40.836745Z"
    }
   },
   "outputs": [],
   "source": [
    "#SEPARA EM ATRIBUTOS E CLASSES\n",
    "previsores = base4.iloc[:,0:12]  #.values converte para valores numpy \n",
    "classe = base4.iloc[:,12]        #.values converte para valores numpy "
   ]
  },
  {
   "cell_type": "markdown",
   "metadata": {},
   "source": [
    "## 4.3 - Transformar Atributos Categóricos para Numéricos"
   ]
  },
  {
   "cell_type": "code",
   "execution_count": 55,
   "metadata": {
    "ExecuteTime": {
     "end_time": "2020-06-04T05:58:41.450301Z",
     "start_time": "2020-06-04T05:58:41.442325Z"
    }
   },
   "outputs": [],
   "source": [
    "#transformar atributos categoricos para numericos\n",
    "\n",
    "labelEncoder = LabelEncoder() \n",
    "\n",
    "previsores.iloc[:,1] = labelEncoder.fit_transform(previsores.iloc[:,1])\n",
    "\n",
    "\n",
    "# 0 0 0 4\n",
    "# 2 0 1 0\n",
    "# 3 0 0 1"
   ]
  },
  {
   "cell_type": "code",
   "execution_count": 56,
   "metadata": {
    "ExecuteTime": {
     "end_time": "2020-06-04T05:58:41.612652Z",
     "start_time": "2020-06-04T05:58:41.543273Z"
    }
   },
   "outputs": [
    {
     "name": "stderr",
     "output_type": "stream",
     "text": [
      "C:\\Users\\marcu\\Anaconda3\\lib\\site-packages\\sklearn\\preprocessing\\_encoders.py:415: FutureWarning: The handling of integer data will change in version 0.22. Currently, the categories are determined based on the range [0, max(values)], while in the future they will be determined based on the unique values.\n",
      "If you want the future behaviour and silence this warning, you can specify \"categories='auto'\".\n",
      "In case you used a LabelEncoder before this OneHotEncoder to convert the categories to integers, then you can now use the OneHotEncoder directly.\n",
      "  warnings.warn(msg, FutureWarning)\n",
      "C:\\Users\\marcu\\Anaconda3\\lib\\site-packages\\sklearn\\preprocessing\\_encoders.py:451: DeprecationWarning: The 'categorical_features' keyword is deprecated in version 0.20 and will be removed in 0.22. You can use the ColumnTransformer instead.\n",
      "  \"use the ColumnTransformer instead.\", DeprecationWarning)\n"
     ]
    }
   ],
   "source": [
    "#Atributos  -- DUMMY\n",
    "\n",
    "onehotencoder = OneHotEncoder(categorical_features = [1,2,3,4,5,6,7])\n",
    "previsores = onehotencoder.fit_transform(previsores).toarray()\n",
    "\n",
    "#Gera varius outros atributos com essas caracteristicas\n",
    "#atr 1  1 0 0\n",
    "#atr 2  0 1 0\n",
    "#atr 3  0 0 1"
   ]
  },
  {
   "cell_type": "code",
   "execution_count": 57,
   "metadata": {
    "ExecuteTime": {
     "end_time": "2020-06-04T05:58:41.694230Z",
     "start_time": "2020-06-04T05:58:41.641372Z"
    }
   },
   "outputs": [
    {
     "data": {
      "text/plain": [
       "(13730, 34)"
      ]
     },
     "execution_count": 57,
     "metadata": {},
     "output_type": "execute_result"
    }
   ],
   "source": [
    "previsores.shape"
   ]
  },
  {
   "cell_type": "code",
   "execution_count": 58,
   "metadata": {
    "ExecuteTime": {
     "end_time": "2020-06-04T05:58:41.846830Z",
     "start_time": "2020-06-04T05:58:41.751080Z"
    }
   },
   "outputs": [
    {
     "data": {
      "text/html": [
       "<div>\n",
       "<style scoped>\n",
       "    .dataframe tbody tr th:only-of-type {\n",
       "        vertical-align: middle;\n",
       "    }\n",
       "\n",
       "    .dataframe tbody tr th {\n",
       "        vertical-align: top;\n",
       "    }\n",
       "\n",
       "    .dataframe thead th {\n",
       "        text-align: right;\n",
       "    }\n",
       "</style>\n",
       "<table border=\"1\" class=\"dataframe\">\n",
       "  <thead>\n",
       "    <tr style=\"text-align: right;\">\n",
       "      <th></th>\n",
       "      <th>0</th>\n",
       "      <th>1</th>\n",
       "      <th>2</th>\n",
       "      <th>3</th>\n",
       "      <th>4</th>\n",
       "      <th>5</th>\n",
       "      <th>6</th>\n",
       "      <th>7</th>\n",
       "      <th>8</th>\n",
       "      <th>9</th>\n",
       "      <th>...</th>\n",
       "      <th>24</th>\n",
       "      <th>25</th>\n",
       "      <th>26</th>\n",
       "      <th>27</th>\n",
       "      <th>28</th>\n",
       "      <th>29</th>\n",
       "      <th>30</th>\n",
       "      <th>31</th>\n",
       "      <th>32</th>\n",
       "      <th>33</th>\n",
       "    </tr>\n",
       "  </thead>\n",
       "  <tbody>\n",
       "    <tr>\n",
       "      <td>0</td>\n",
       "      <td>0.0</td>\n",
       "      <td>1.0</td>\n",
       "      <td>1.0</td>\n",
       "      <td>0.0</td>\n",
       "      <td>0.0</td>\n",
       "      <td>0.0</td>\n",
       "      <td>0.0</td>\n",
       "      <td>0.0</td>\n",
       "      <td>0.0</td>\n",
       "      <td>0.0</td>\n",
       "      <td>...</td>\n",
       "      <td>1.0</td>\n",
       "      <td>0.0</td>\n",
       "      <td>0.0</td>\n",
       "      <td>1.0</td>\n",
       "      <td>0.0</td>\n",
       "      <td>24.0</td>\n",
       "      <td>436.3</td>\n",
       "      <td>495.4</td>\n",
       "      <td>581.2</td>\n",
       "      <td>520.0</td>\n",
       "    </tr>\n",
       "    <tr>\n",
       "      <td>1</td>\n",
       "      <td>1.0</td>\n",
       "      <td>0.0</td>\n",
       "      <td>0.0</td>\n",
       "      <td>1.0</td>\n",
       "      <td>0.0</td>\n",
       "      <td>0.0</td>\n",
       "      <td>1.0</td>\n",
       "      <td>0.0</td>\n",
       "      <td>0.0</td>\n",
       "      <td>0.0</td>\n",
       "      <td>...</td>\n",
       "      <td>1.0</td>\n",
       "      <td>0.0</td>\n",
       "      <td>0.0</td>\n",
       "      <td>1.0</td>\n",
       "      <td>0.0</td>\n",
       "      <td>17.0</td>\n",
       "      <td>474.5</td>\n",
       "      <td>544.1</td>\n",
       "      <td>599.0</td>\n",
       "      <td>580.0</td>\n",
       "    </tr>\n",
       "    <tr>\n",
       "      <td>2</td>\n",
       "      <td>1.0</td>\n",
       "      <td>0.0</td>\n",
       "      <td>0.0</td>\n",
       "      <td>0.0</td>\n",
       "      <td>1.0</td>\n",
       "      <td>0.0</td>\n",
       "      <td>1.0</td>\n",
       "      <td>0.0</td>\n",
       "      <td>0.0</td>\n",
       "      <td>0.0</td>\n",
       "      <td>...</td>\n",
       "      <td>0.0</td>\n",
       "      <td>0.0</td>\n",
       "      <td>1.0</td>\n",
       "      <td>0.0</td>\n",
       "      <td>0.0</td>\n",
       "      <td>21.0</td>\n",
       "      <td>0.0</td>\n",
       "      <td>0.0</td>\n",
       "      <td>0.0</td>\n",
       "      <td>0.0</td>\n",
       "    </tr>\n",
       "    <tr>\n",
       "      <td>3</td>\n",
       "      <td>1.0</td>\n",
       "      <td>0.0</td>\n",
       "      <td>1.0</td>\n",
       "      <td>0.0</td>\n",
       "      <td>0.0</td>\n",
       "      <td>0.0</td>\n",
       "      <td>0.0</td>\n",
       "      <td>0.0</td>\n",
       "      <td>0.0</td>\n",
       "      <td>0.0</td>\n",
       "      <td>...</td>\n",
       "      <td>0.0</td>\n",
       "      <td>0.0</td>\n",
       "      <td>1.0</td>\n",
       "      <td>0.0</td>\n",
       "      <td>0.0</td>\n",
       "      <td>25.0</td>\n",
       "      <td>0.0</td>\n",
       "      <td>0.0</td>\n",
       "      <td>0.0</td>\n",
       "      <td>0.0</td>\n",
       "    </tr>\n",
       "    <tr>\n",
       "      <td>4</td>\n",
       "      <td>0.0</td>\n",
       "      <td>1.0</td>\n",
       "      <td>1.0</td>\n",
       "      <td>0.0</td>\n",
       "      <td>0.0</td>\n",
       "      <td>0.0</td>\n",
       "      <td>0.0</td>\n",
       "      <td>0.0</td>\n",
       "      <td>0.0</td>\n",
       "      <td>0.0</td>\n",
       "      <td>...</td>\n",
       "      <td>0.0</td>\n",
       "      <td>0.0</td>\n",
       "      <td>1.0</td>\n",
       "      <td>0.0</td>\n",
       "      <td>0.0</td>\n",
       "      <td>28.0</td>\n",
       "      <td>0.0</td>\n",
       "      <td>0.0</td>\n",
       "      <td>0.0</td>\n",
       "      <td>0.0</td>\n",
       "    </tr>\n",
       "    <tr>\n",
       "      <td>...</td>\n",
       "      <td>...</td>\n",
       "      <td>...</td>\n",
       "      <td>...</td>\n",
       "      <td>...</td>\n",
       "      <td>...</td>\n",
       "      <td>...</td>\n",
       "      <td>...</td>\n",
       "      <td>...</td>\n",
       "      <td>...</td>\n",
       "      <td>...</td>\n",
       "      <td>...</td>\n",
       "      <td>...</td>\n",
       "      <td>...</td>\n",
       "      <td>...</td>\n",
       "      <td>...</td>\n",
       "      <td>...</td>\n",
       "      <td>...</td>\n",
       "      <td>...</td>\n",
       "      <td>...</td>\n",
       "      <td>...</td>\n",
       "      <td>...</td>\n",
       "    </tr>\n",
       "    <tr>\n",
       "      <td>13725</td>\n",
       "      <td>0.0</td>\n",
       "      <td>1.0</td>\n",
       "      <td>1.0</td>\n",
       "      <td>0.0</td>\n",
       "      <td>0.0</td>\n",
       "      <td>0.0</td>\n",
       "      <td>0.0</td>\n",
       "      <td>0.0</td>\n",
       "      <td>0.0</td>\n",
       "      <td>1.0</td>\n",
       "      <td>...</td>\n",
       "      <td>1.0</td>\n",
       "      <td>0.0</td>\n",
       "      <td>0.0</td>\n",
       "      <td>1.0</td>\n",
       "      <td>0.0</td>\n",
       "      <td>20.0</td>\n",
       "      <td>438.2</td>\n",
       "      <td>419.7</td>\n",
       "      <td>394.5</td>\n",
       "      <td>440.0</td>\n",
       "    </tr>\n",
       "    <tr>\n",
       "      <td>13726</td>\n",
       "      <td>1.0</td>\n",
       "      <td>0.0</td>\n",
       "      <td>1.0</td>\n",
       "      <td>0.0</td>\n",
       "      <td>0.0</td>\n",
       "      <td>0.0</td>\n",
       "      <td>0.0</td>\n",
       "      <td>0.0</td>\n",
       "      <td>0.0</td>\n",
       "      <td>0.0</td>\n",
       "      <td>...</td>\n",
       "      <td>1.0</td>\n",
       "      <td>0.0</td>\n",
       "      <td>0.0</td>\n",
       "      <td>1.0</td>\n",
       "      <td>0.0</td>\n",
       "      <td>33.0</td>\n",
       "      <td>423.8</td>\n",
       "      <td>557.9</td>\n",
       "      <td>533.0</td>\n",
       "      <td>560.0</td>\n",
       "    </tr>\n",
       "    <tr>\n",
       "      <td>13727</td>\n",
       "      <td>1.0</td>\n",
       "      <td>0.0</td>\n",
       "      <td>0.0</td>\n",
       "      <td>0.0</td>\n",
       "      <td>1.0</td>\n",
       "      <td>0.0</td>\n",
       "      <td>1.0</td>\n",
       "      <td>0.0</td>\n",
       "      <td>0.0</td>\n",
       "      <td>0.0</td>\n",
       "      <td>...</td>\n",
       "      <td>1.0</td>\n",
       "      <td>0.0</td>\n",
       "      <td>0.0</td>\n",
       "      <td>1.0</td>\n",
       "      <td>0.0</td>\n",
       "      <td>15.0</td>\n",
       "      <td>460.5</td>\n",
       "      <td>528.9</td>\n",
       "      <td>569.3</td>\n",
       "      <td>600.0</td>\n",
       "    </tr>\n",
       "    <tr>\n",
       "      <td>13728</td>\n",
       "      <td>0.0</td>\n",
       "      <td>1.0</td>\n",
       "      <td>0.0</td>\n",
       "      <td>0.0</td>\n",
       "      <td>0.0</td>\n",
       "      <td>1.0</td>\n",
       "      <td>1.0</td>\n",
       "      <td>0.0</td>\n",
       "      <td>0.0</td>\n",
       "      <td>0.0</td>\n",
       "      <td>...</td>\n",
       "      <td>1.0</td>\n",
       "      <td>0.0</td>\n",
       "      <td>0.0</td>\n",
       "      <td>1.0</td>\n",
       "      <td>0.0</td>\n",
       "      <td>36.0</td>\n",
       "      <td>422.5</td>\n",
       "      <td>621.7</td>\n",
       "      <td>569.0</td>\n",
       "      <td>460.0</td>\n",
       "    </tr>\n",
       "    <tr>\n",
       "      <td>13729</td>\n",
       "      <td>0.0</td>\n",
       "      <td>1.0</td>\n",
       "      <td>0.0</td>\n",
       "      <td>1.0</td>\n",
       "      <td>0.0</td>\n",
       "      <td>0.0</td>\n",
       "      <td>1.0</td>\n",
       "      <td>0.0</td>\n",
       "      <td>0.0</td>\n",
       "      <td>0.0</td>\n",
       "      <td>...</td>\n",
       "      <td>1.0</td>\n",
       "      <td>0.0</td>\n",
       "      <td>0.0</td>\n",
       "      <td>1.0</td>\n",
       "      <td>0.0</td>\n",
       "      <td>17.0</td>\n",
       "      <td>488.7</td>\n",
       "      <td>575.3</td>\n",
       "      <td>565.9</td>\n",
       "      <td>520.0</td>\n",
       "    </tr>\n",
       "  </tbody>\n",
       "</table>\n",
       "<p>13730 rows × 34 columns</p>\n",
       "</div>"
      ],
      "text/plain": [
       "        0    1    2    3    4    5    6    7    8    9   ...   24   25   26  \\\n",
       "0      0.0  1.0  1.0  0.0  0.0  0.0  0.0  0.0  0.0  0.0  ...  1.0  0.0  0.0   \n",
       "1      1.0  0.0  0.0  1.0  0.0  0.0  1.0  0.0  0.0  0.0  ...  1.0  0.0  0.0   \n",
       "2      1.0  0.0  0.0  0.0  1.0  0.0  1.0  0.0  0.0  0.0  ...  0.0  0.0  1.0   \n",
       "3      1.0  0.0  1.0  0.0  0.0  0.0  0.0  0.0  0.0  0.0  ...  0.0  0.0  1.0   \n",
       "4      0.0  1.0  1.0  0.0  0.0  0.0  0.0  0.0  0.0  0.0  ...  0.0  0.0  1.0   \n",
       "...    ...  ...  ...  ...  ...  ...  ...  ...  ...  ...  ...  ...  ...  ...   \n",
       "13725  0.0  1.0  1.0  0.0  0.0  0.0  0.0  0.0  0.0  1.0  ...  1.0  0.0  0.0   \n",
       "13726  1.0  0.0  1.0  0.0  0.0  0.0  0.0  0.0  0.0  0.0  ...  1.0  0.0  0.0   \n",
       "13727  1.0  0.0  0.0  0.0  1.0  0.0  1.0  0.0  0.0  0.0  ...  1.0  0.0  0.0   \n",
       "13728  0.0  1.0  0.0  0.0  0.0  1.0  1.0  0.0  0.0  0.0  ...  1.0  0.0  0.0   \n",
       "13729  0.0  1.0  0.0  1.0  0.0  0.0  1.0  0.0  0.0  0.0  ...  1.0  0.0  0.0   \n",
       "\n",
       "        27   28    29     30     31     32     33  \n",
       "0      1.0  0.0  24.0  436.3  495.4  581.2  520.0  \n",
       "1      1.0  0.0  17.0  474.5  544.1  599.0  580.0  \n",
       "2      0.0  0.0  21.0    0.0    0.0    0.0    0.0  \n",
       "3      0.0  0.0  25.0    0.0    0.0    0.0    0.0  \n",
       "4      0.0  0.0  28.0    0.0    0.0    0.0    0.0  \n",
       "...    ...  ...   ...    ...    ...    ...    ...  \n",
       "13725  1.0  0.0  20.0  438.2  419.7  394.5  440.0  \n",
       "13726  1.0  0.0  33.0  423.8  557.9  533.0  560.0  \n",
       "13727  1.0  0.0  15.0  460.5  528.9  569.3  600.0  \n",
       "13728  1.0  0.0  36.0  422.5  621.7  569.0  460.0  \n",
       "13729  1.0  0.0  17.0  488.7  575.3  565.9  520.0  \n",
       "\n",
       "[13730 rows x 34 columns]"
      ]
     },
     "execution_count": 58,
     "metadata": {},
     "output_type": "execute_result"
    }
   ],
   "source": [
    "previsores2 = pd.DataFrame(previsores)\n",
    "previsores2"
   ]
  },
  {
   "cell_type": "markdown",
   "metadata": {},
   "source": [
    "##  4.6 - Dividir Base de Dados em Treino e Teste"
   ]
  },
  {
   "cell_type": "code",
   "execution_count": 59,
   "metadata": {
    "ExecuteTime": {
     "end_time": "2020-06-04T05:58:41.962512Z",
     "start_time": "2020-06-04T05:58:41.952539Z"
    }
   },
   "outputs": [],
   "source": [
    "#DIVIDIR DADOS EM TREINAMENTO E TESTE\n",
    "#Realizar testes com uma divisão 80% treino e 20% teste (base de dados pequena)\n",
    "x_treino, x_teste, y_treino, y_teste = train_test_split(previsores, classe, test_size = 0.3, random_state = 0)\n",
    "\n",
    "#x sao as entradas\n",
    "#y sao as saidas"
   ]
  },
  {
   "cell_type": "markdown",
   "metadata": {},
   "source": [
    "##  4.7 - Normalizar Variáveis"
   ]
  },
  {
   "cell_type": "markdown",
   "metadata": {},
   "source": [
    "### 4.7.4 - Box - Cox"
   ]
  },
  {
   "cell_type": "markdown",
   "metadata": {},
   "source": [
    " A principal vantagem das transformações de Box-Cox é que elas normalizam idealmente a variável escolhida. Assim, evitam a necessidade de tentar aleatoriamente diferentes transformações e automatizar o processo de transformação de dados."
   ]
  },
  {
   "cell_type": "code",
   "execution_count": 60,
   "metadata": {
    "ExecuteTime": {
     "end_time": "2020-06-04T05:58:42.318450Z",
     "start_time": "2020-06-04T05:58:42.295513Z"
    }
   },
   "outputs": [],
   "source": [
    "x_treino_t = x_treino.copy()\n",
    "x_treino_t[:,29] = boxcox(x_treino_t[:,29] + 1)[0]\n",
    "\n",
    "x_teste_t = x_teste.copy()\n",
    "x_teste_t[:,29] = boxcox(x_teste_t[:,29] + 1)[0]"
   ]
  },
  {
   "cell_type": "code",
   "execution_count": 61,
   "metadata": {
    "ExecuteTime": {
     "end_time": "2020-06-04T05:58:43.017405Z",
     "start_time": "2020-06-04T05:58:42.990421Z"
    }
   },
   "outputs": [],
   "source": [
    "x_treino_t[:,30] = boxcox(x_treino_t[:,30] + 1)[0]\n",
    "\n",
    "x_teste_t = x_teste.copy()\n",
    "x_teste_t[:,30] = boxcox(x_teste_t[:,30] + 1)[0]"
   ]
  },
  {
   "cell_type": "code",
   "execution_count": 62,
   "metadata": {
    "ExecuteTime": {
     "end_time": "2020-06-04T05:58:43.344145Z",
     "start_time": "2020-06-04T05:58:43.322203Z"
    }
   },
   "outputs": [],
   "source": [
    "x_treino_t[:,31] = boxcox(x_treino_t[:,31] + 1)[0]\n",
    "\n",
    "x_teste_t = x_teste.copy()\n",
    "x_teste_t[:,31] = boxcox(x_teste_t[:,31] + 1)[0]"
   ]
  },
  {
   "cell_type": "code",
   "execution_count": 63,
   "metadata": {
    "ExecuteTime": {
     "end_time": "2020-06-04T05:58:43.494393Z",
     "start_time": "2020-06-04T05:58:43.462445Z"
    }
   },
   "outputs": [],
   "source": [
    "x_treino_t[:,32] = boxcox(x_treino_t[:,32] + 1)[0]\n",
    "\n",
    "x_teste_t = x_teste.copy()\n",
    "x_teste_t[:,32] = boxcox(x_teste_t[:,32] + 1)[0]"
   ]
  },
  {
   "cell_type": "code",
   "execution_count": 64,
   "metadata": {
    "ExecuteTime": {
     "end_time": "2020-06-04T05:58:43.673243Z",
     "start_time": "2020-06-04T05:58:43.651270Z"
    }
   },
   "outputs": [],
   "source": [
    "x_treino_t[:,33] = boxcox(x_treino_t[:,33] + 1)[0]\n",
    "\n",
    "x_teste_t = x_teste.copy()\n",
    "x_teste_t[:,33] = boxcox(x_teste_t[:,33] + 1)[0]"
   ]
  },
  {
   "cell_type": "markdown",
   "metadata": {},
   "source": [
    "### 4.7.4 - Polinomios"
   ]
  },
  {
   "cell_type": "markdown",
   "metadata": {},
   "source": [
    "Uma maneira padrão de enriquecer nosso conjunto de recursos é gerar polinômios. A expansão polinomial cria interações entre os recursos, bem como cria poderes (por exemplo, quadrado de um recurso). Dessa forma, introduzimos uma dimensão não linear em nosso conjunto de dados, o que pode melhorar o poder preditivo de nosso modelo."
   ]
  },
  {
   "cell_type": "markdown",
   "metadata": {},
   "source": [
    "Usar box-cox (gera o x_treino_t)\n",
    "Usar MIN MAX (gera o x_treino_t_n)"
   ]
  },
  {
   "cell_type": "code",
   "execution_count": 65,
   "metadata": {
    "ExecuteTime": {
     "end_time": "2020-06-04T05:58:44.181280Z",
     "start_time": "2020-06-04T05:58:44.168316Z"
    }
   },
   "outputs": [],
   "source": [
    "#NORMALIZADOR DE VARIAVEIS MIN MAX\n",
    "normalizador = MinMaxScaler(feature_range=(0,1)) #NORMALIZAÇÃO DOS VALORES \n",
    "\n",
    "x_treino_t_n = normalizador.fit_transform(x_treino_t)#usar para o fit o x transormado pelo box-cox\n",
    "x_teste_t_n = normalizador.transform(x_teste_t) #usar para o fit o x transormado pelo box-cox"
   ]
  },
  {
   "cell_type": "code",
   "execution_count": 66,
   "metadata": {
    "ExecuteTime": {
     "end_time": "2020-06-04T05:58:44.508466Z",
     "start_time": "2020-06-04T05:58:44.372768Z"
    }
   },
   "outputs": [],
   "source": [
    "poly = PolynomialFeatures(degree=2).fit(x_treino_t) #treino com a normalização box-cox\n",
    "\n",
    "x_treino_poly = poly.transform(x_treino_t_n) #transforma os dados normalizados pelo min-max\n",
    "\n",
    "x_teste_poly = poly.transform(x_teste_t_n)   #transforma os dados normalizados pelo min-max"
   ]
  },
  {
   "cell_type": "code",
   "execution_count": 67,
   "metadata": {
    "ExecuteTime": {
     "end_time": "2020-06-04T05:58:44.917254Z",
     "start_time": "2020-06-04T05:58:44.898313Z"
    }
   },
   "outputs": [
    {
     "name": "stdout",
     "output_type": "stream",
     "text": [
      "['1', 'x0', 'x1', 'x2', 'x3', 'x4', 'x5', 'x6', 'x7', 'x8', 'x9', 'x10', 'x11', 'x12', 'x13', 'x14', 'x15', 'x16', 'x17', 'x18', 'x19', 'x20', 'x21', 'x22', 'x23', 'x24', 'x25', 'x26', 'x27', 'x28', 'x29', 'x30', 'x31', 'x32', 'x33', 'x0^2', 'x0 x1', 'x0 x2', 'x0 x3', 'x0 x4', 'x0 x5', 'x0 x6', 'x0 x7', 'x0 x8', 'x0 x9', 'x0 x10', 'x0 x11', 'x0 x12', 'x0 x13', 'x0 x14', 'x0 x15', 'x0 x16', 'x0 x17', 'x0 x18', 'x0 x19', 'x0 x20', 'x0 x21', 'x0 x22', 'x0 x23', 'x0 x24', 'x0 x25', 'x0 x26', 'x0 x27', 'x0 x28', 'x0 x29', 'x0 x30', 'x0 x31', 'x0 x32', 'x0 x33', 'x1^2', 'x1 x2', 'x1 x3', 'x1 x4', 'x1 x5', 'x1 x6', 'x1 x7', 'x1 x8', 'x1 x9', 'x1 x10', 'x1 x11', 'x1 x12', 'x1 x13', 'x1 x14', 'x1 x15', 'x1 x16', 'x1 x17', 'x1 x18', 'x1 x19', 'x1 x20', 'x1 x21', 'x1 x22', 'x1 x23', 'x1 x24', 'x1 x25', 'x1 x26', 'x1 x27', 'x1 x28', 'x1 x29', 'x1 x30', 'x1 x31', 'x1 x32', 'x1 x33', 'x2^2', 'x2 x3', 'x2 x4', 'x2 x5', 'x2 x6', 'x2 x7', 'x2 x8', 'x2 x9', 'x2 x10', 'x2 x11', 'x2 x12', 'x2 x13', 'x2 x14', 'x2 x15', 'x2 x16', 'x2 x17', 'x2 x18', 'x2 x19', 'x2 x20', 'x2 x21', 'x2 x22', 'x2 x23', 'x2 x24', 'x2 x25', 'x2 x26', 'x2 x27', 'x2 x28', 'x2 x29', 'x2 x30', 'x2 x31', 'x2 x32', 'x2 x33', 'x3^2', 'x3 x4', 'x3 x5', 'x3 x6', 'x3 x7', 'x3 x8', 'x3 x9', 'x3 x10', 'x3 x11', 'x3 x12', 'x3 x13', 'x3 x14', 'x3 x15', 'x3 x16', 'x3 x17', 'x3 x18', 'x3 x19', 'x3 x20', 'x3 x21', 'x3 x22', 'x3 x23', 'x3 x24', 'x3 x25', 'x3 x26', 'x3 x27', 'x3 x28', 'x3 x29', 'x3 x30', 'x3 x31', 'x3 x32', 'x3 x33', 'x4^2', 'x4 x5', 'x4 x6', 'x4 x7', 'x4 x8', 'x4 x9', 'x4 x10', 'x4 x11', 'x4 x12', 'x4 x13', 'x4 x14', 'x4 x15', 'x4 x16', 'x4 x17', 'x4 x18', 'x4 x19', 'x4 x20', 'x4 x21', 'x4 x22', 'x4 x23', 'x4 x24', 'x4 x25', 'x4 x26', 'x4 x27', 'x4 x28', 'x4 x29', 'x4 x30', 'x4 x31', 'x4 x32', 'x4 x33', 'x5^2', 'x5 x6', 'x5 x7', 'x5 x8', 'x5 x9', 'x5 x10', 'x5 x11', 'x5 x12', 'x5 x13', 'x5 x14', 'x5 x15', 'x5 x16', 'x5 x17', 'x5 x18', 'x5 x19', 'x5 x20', 'x5 x21', 'x5 x22', 'x5 x23', 'x5 x24', 'x5 x25', 'x5 x26', 'x5 x27', 'x5 x28', 'x5 x29', 'x5 x30', 'x5 x31', 'x5 x32', 'x5 x33', 'x6^2', 'x6 x7', 'x6 x8', 'x6 x9', 'x6 x10', 'x6 x11', 'x6 x12', 'x6 x13', 'x6 x14', 'x6 x15', 'x6 x16', 'x6 x17', 'x6 x18', 'x6 x19', 'x6 x20', 'x6 x21', 'x6 x22', 'x6 x23', 'x6 x24', 'x6 x25', 'x6 x26', 'x6 x27', 'x6 x28', 'x6 x29', 'x6 x30', 'x6 x31', 'x6 x32', 'x6 x33', 'x7^2', 'x7 x8', 'x7 x9', 'x7 x10', 'x7 x11', 'x7 x12', 'x7 x13', 'x7 x14', 'x7 x15', 'x7 x16', 'x7 x17', 'x7 x18', 'x7 x19', 'x7 x20', 'x7 x21', 'x7 x22', 'x7 x23', 'x7 x24', 'x7 x25', 'x7 x26', 'x7 x27', 'x7 x28', 'x7 x29', 'x7 x30', 'x7 x31', 'x7 x32', 'x7 x33', 'x8^2', 'x8 x9', 'x8 x10', 'x8 x11', 'x8 x12', 'x8 x13', 'x8 x14', 'x8 x15', 'x8 x16', 'x8 x17', 'x8 x18', 'x8 x19', 'x8 x20', 'x8 x21', 'x8 x22', 'x8 x23', 'x8 x24', 'x8 x25', 'x8 x26', 'x8 x27', 'x8 x28', 'x8 x29', 'x8 x30', 'x8 x31', 'x8 x32', 'x8 x33', 'x9^2', 'x9 x10', 'x9 x11', 'x9 x12', 'x9 x13', 'x9 x14', 'x9 x15', 'x9 x16', 'x9 x17', 'x9 x18', 'x9 x19', 'x9 x20', 'x9 x21', 'x9 x22', 'x9 x23', 'x9 x24', 'x9 x25', 'x9 x26', 'x9 x27', 'x9 x28', 'x9 x29', 'x9 x30', 'x9 x31', 'x9 x32', 'x9 x33', 'x10^2', 'x10 x11', 'x10 x12', 'x10 x13', 'x10 x14', 'x10 x15', 'x10 x16', 'x10 x17', 'x10 x18', 'x10 x19', 'x10 x20', 'x10 x21', 'x10 x22', 'x10 x23', 'x10 x24', 'x10 x25', 'x10 x26', 'x10 x27', 'x10 x28', 'x10 x29', 'x10 x30', 'x10 x31', 'x10 x32', 'x10 x33', 'x11^2', 'x11 x12', 'x11 x13', 'x11 x14', 'x11 x15', 'x11 x16', 'x11 x17', 'x11 x18', 'x11 x19', 'x11 x20', 'x11 x21', 'x11 x22', 'x11 x23', 'x11 x24', 'x11 x25', 'x11 x26', 'x11 x27', 'x11 x28', 'x11 x29', 'x11 x30', 'x11 x31', 'x11 x32', 'x11 x33', 'x12^2', 'x12 x13', 'x12 x14', 'x12 x15', 'x12 x16', 'x12 x17', 'x12 x18', 'x12 x19', 'x12 x20', 'x12 x21', 'x12 x22', 'x12 x23', 'x12 x24', 'x12 x25', 'x12 x26', 'x12 x27', 'x12 x28', 'x12 x29', 'x12 x30', 'x12 x31', 'x12 x32', 'x12 x33', 'x13^2', 'x13 x14', 'x13 x15', 'x13 x16', 'x13 x17', 'x13 x18', 'x13 x19', 'x13 x20', 'x13 x21', 'x13 x22', 'x13 x23', 'x13 x24', 'x13 x25', 'x13 x26', 'x13 x27', 'x13 x28', 'x13 x29', 'x13 x30', 'x13 x31', 'x13 x32', 'x13 x33', 'x14^2', 'x14 x15', 'x14 x16', 'x14 x17', 'x14 x18', 'x14 x19', 'x14 x20', 'x14 x21', 'x14 x22', 'x14 x23', 'x14 x24', 'x14 x25', 'x14 x26', 'x14 x27', 'x14 x28', 'x14 x29', 'x14 x30', 'x14 x31', 'x14 x32', 'x14 x33', 'x15^2', 'x15 x16', 'x15 x17', 'x15 x18', 'x15 x19', 'x15 x20', 'x15 x21', 'x15 x22', 'x15 x23', 'x15 x24', 'x15 x25', 'x15 x26', 'x15 x27', 'x15 x28', 'x15 x29', 'x15 x30', 'x15 x31', 'x15 x32', 'x15 x33', 'x16^2', 'x16 x17', 'x16 x18', 'x16 x19', 'x16 x20', 'x16 x21', 'x16 x22', 'x16 x23', 'x16 x24', 'x16 x25', 'x16 x26', 'x16 x27', 'x16 x28', 'x16 x29', 'x16 x30', 'x16 x31', 'x16 x32', 'x16 x33', 'x17^2', 'x17 x18', 'x17 x19', 'x17 x20', 'x17 x21', 'x17 x22', 'x17 x23', 'x17 x24', 'x17 x25', 'x17 x26', 'x17 x27', 'x17 x28', 'x17 x29', 'x17 x30', 'x17 x31', 'x17 x32', 'x17 x33', 'x18^2', 'x18 x19', 'x18 x20', 'x18 x21', 'x18 x22', 'x18 x23', 'x18 x24', 'x18 x25', 'x18 x26', 'x18 x27', 'x18 x28', 'x18 x29', 'x18 x30', 'x18 x31', 'x18 x32', 'x18 x33', 'x19^2', 'x19 x20', 'x19 x21', 'x19 x22', 'x19 x23', 'x19 x24', 'x19 x25', 'x19 x26', 'x19 x27', 'x19 x28', 'x19 x29', 'x19 x30', 'x19 x31', 'x19 x32', 'x19 x33', 'x20^2', 'x20 x21', 'x20 x22', 'x20 x23', 'x20 x24', 'x20 x25', 'x20 x26', 'x20 x27', 'x20 x28', 'x20 x29', 'x20 x30', 'x20 x31', 'x20 x32', 'x20 x33', 'x21^2', 'x21 x22', 'x21 x23', 'x21 x24', 'x21 x25', 'x21 x26', 'x21 x27', 'x21 x28', 'x21 x29', 'x21 x30', 'x21 x31', 'x21 x32', 'x21 x33', 'x22^2', 'x22 x23', 'x22 x24', 'x22 x25', 'x22 x26', 'x22 x27', 'x22 x28', 'x22 x29', 'x22 x30', 'x22 x31', 'x22 x32', 'x22 x33', 'x23^2', 'x23 x24', 'x23 x25', 'x23 x26', 'x23 x27', 'x23 x28', 'x23 x29', 'x23 x30', 'x23 x31', 'x23 x32', 'x23 x33', 'x24^2', 'x24 x25', 'x24 x26', 'x24 x27', 'x24 x28', 'x24 x29', 'x24 x30', 'x24 x31', 'x24 x32', 'x24 x33', 'x25^2', 'x25 x26', 'x25 x27', 'x25 x28', 'x25 x29', 'x25 x30', 'x25 x31', 'x25 x32', 'x25 x33', 'x26^2', 'x26 x27', 'x26 x28', 'x26 x29', 'x26 x30', 'x26 x31', 'x26 x32', 'x26 x33', 'x27^2', 'x27 x28', 'x27 x29', 'x27 x30', 'x27 x31', 'x27 x32', 'x27 x33', 'x28^2', 'x28 x29', 'x28 x30', 'x28 x31', 'x28 x32', 'x28 x33', 'x29^2', 'x29 x30', 'x29 x31', 'x29 x32', 'x29 x33', 'x30^2', 'x30 x31', 'x30 x32', 'x30 x33', 'x31^2', 'x31 x32', 'x31 x33', 'x32^2', 'x32 x33', 'x33^2']\n"
     ]
    }
   ],
   "source": [
    "print(poly.get_feature_names())"
   ]
  },
  {
   "cell_type": "markdown",
   "metadata": {},
   "source": [
    "##  4.8 - Seleção de Atributos\n",
    "Usando abordagem estatística univariada."
   ]
  },
  {
   "cell_type": "markdown",
   "metadata": {},
   "source": [
    "Usaremos o teste do qui-quadrado para a seleção de recursos. Isso significa que temos que escolher o número de recursos que queremos no modelo. Por exemplo, se quisermos ter três recursos em nosso modelo, o método selecionará os três recursos com χ2 mais alto."
   ]
  },
  {
   "cell_type": "markdown",
   "metadata": {},
   "source": [
    "Essa Seleção será feita após a construção do modelo."
   ]
  },
  {
   "cell_type": "markdown",
   "metadata": {
    "ExecuteTime": {
     "end_time": "2020-05-22T04:51:42.591376Z",
     "start_time": "2020-05-22T04:51:42.587386Z"
    }
   },
   "source": [
    "# 5.0 - MODELO"
   ]
  },
  {
   "cell_type": "code",
   "execution_count": null,
   "metadata": {
    "ExecuteTime": {
     "end_time": "2020-06-04T01:11:09.302094Z",
     "start_time": "2020-06-04T01:11:09.297105Z"
    }
   },
   "outputs": [],
   "source": [
    "base5 = base4.copy()"
   ]
  },
  {
   "cell_type": "markdown",
   "metadata": {},
   "source": [
    "## 5.0 Reset de Variáveis\n",
    "Caso ocorra algo com as variaveis de teste e treino basta resetá-las aqui."
   ]
  },
  {
   "cell_type": "code",
   "execution_count": null,
   "metadata": {
    "ExecuteTime": {
     "end_time": "2020-06-03T20:35:46.765888Z",
     "start_time": "2020-06-03T20:35:46.757912Z"
    }
   },
   "outputs": [],
   "source": [
    "#modelo 1 - sem polinomios(muito pesado para RNA)\n",
    "x_treino_t_n1 =x_treino_t_n.copy()\n",
    "x_tste_t_n1 =x_teste_t_n.copy()\n",
    "y_treino1 = y_treino.copy()\n",
    "y_teste1 = y_teste.copy()"
   ]
  },
  {
   "cell_type": "code",
   "execution_count": 88,
   "metadata": {
    "ExecuteTime": {
     "end_time": "2020-06-04T07:55:18.289917Z",
     "start_time": "2020-06-04T07:55:18.216115Z"
    }
   },
   "outputs": [],
   "source": [
    "#modelo 2\n",
    "x_treino_poly2 =x_treino_poly.copy()\n",
    "x_teste_poly2 =x_teste_poly.copy()\n",
    "y_treino2 = y_treino.copy()\n",
    "y_teste2 = y_teste.copy()"
   ]
  },
  {
   "cell_type": "code",
   "execution_count": null,
   "metadata": {
    "ExecuteTime": {
     "end_time": "2020-06-02T08:27:14.094316Z",
     "start_time": "2020-06-02T08:27:14.016525Z"
    }
   },
   "outputs": [],
   "source": [
    "#modelo 3\n",
    "x_treino_poly3 =x_treino_poly.copy()\n",
    "x_tste_poly3 =x_teste_poly.copy()\n",
    "y_treino3 = y_treino.copy()\n",
    "y_teste3= y_teste.copy()"
   ]
  },
  {
   "cell_type": "markdown",
   "metadata": {
    "heading_collapsed": true
   },
   "source": [
    "## 5.1 Modelo 1 - RNA"
   ]
  },
  {
   "cell_type": "markdown",
   "metadata": {
    "heading_collapsed": true,
    "hidden": true
   },
   "source": [
    "### 5.1 - Criar Modelo Sequencial"
   ]
  },
  {
   "cell_type": "markdown",
   "metadata": {
    "hidden": true
   },
   "source": [
    "Funções de ativação:\n",
    "\n",
    "1. relu function\n",
    "2. sigmoid function     # Classificação Binária\n",
    "3. softmax function     # Classificação Categórica\n",
    "4. tanh function\n",
    "5. softplus function    #softplus(x) = log(exp(x) + 1).\n",
    "6. softsign function    #softsign(x) = x / (abs(x) + 1).\n",
    "7. selu function\n",
    "8. elu function\n",
    "9. exponential function"
   ]
  },
  {
   "cell_type": "code",
   "execution_count": null,
   "metadata": {
    "ExecuteTime": {
     "end_time": "2020-06-03T20:35:51.147054Z",
     "start_time": "2020-06-03T20:35:51.142068Z"
    },
    "hidden": true
   },
   "outputs": [],
   "source": [
    "x_treino_t_n1.shape"
   ]
  },
  {
   "cell_type": "code",
   "execution_count": null,
   "metadata": {
    "ExecuteTime": {
     "end_time": "2020-06-03T20:36:07.368966Z",
     "start_time": "2020-06-03T20:36:06.935266Z"
    },
    "hidden": true
   },
   "outputs": [],
   "source": [
    "# Criando o modelo regressivo usando KERAS\n",
    "\n",
    "modelo1 = Sequential()  #uma camada apos a outra\n",
    "\n",
    "modelo1.add(Dense(units = 100, activation = 'relu', input_dim = 34))#camadas oculta1 (41 neurônios)+ camda de entrada(903)\n",
    "modelo1.add(Dropout(0.3))\n",
    "\n",
    "modelo1.add(Dense(units = 100,  activation = 'relu'))# camada de oculta 2 (41)\n",
    "modelo1.add(Dropout(0.3))\n",
    "\n",
    "modelo1.add(Dense(units = 1, activation = 'linear')) #camada de saida (1 saídas)"
   ]
  },
  {
   "cell_type": "code",
   "execution_count": null,
   "metadata": {
    "ExecuteTime": {
     "end_time": "2020-06-03T20:36:09.980139Z",
     "start_time": "2020-06-03T20:36:09.974152Z"
    },
    "hidden": true
   },
   "outputs": [],
   "source": [
    "# Ver Modelo\n",
    "modelo1.summary()"
   ]
  },
  {
   "cell_type": "markdown",
   "metadata": {
    "hidden": true
   },
   "source": [
    "### 5.2 - Otimizador"
   ]
  },
  {
   "cell_type": "markdown",
   "metadata": {
    "ExecuteTime": {
     "end_time": "2020-05-25T03:37:42.052916Z",
     "start_time": "2020-05-25T03:37:41.996275Z"
    },
    "hidden": true
   },
   "source": [
    "#### Otimizadores disponíveis:                                 \n",
    "1. SGD                              \n",
    "2. RMSprop                          \n",
    "3. Adam                             \n",
    "4. Adadelta                       \n",
    "5. Adagrad                          \n",
    "6. Adamax                            \n",
    "7. Nadam                             \n",
    "8. Ftrl      \n",
    "\n",
    "<a href=\"https://keras.io/api/optimizers/\">optimezers/</a>"
   ]
  },
  {
   "cell_type": "markdown",
   "metadata": {
    "hidden": true
   },
   "source": [
    "#### Metrics \n",
    "Regression metrics\n",
    "\n",
    "1. MeanSquaredError class\n",
    "2. RootMeanSquaredError class\n",
    "3. MeanAbsoluteError class\n",
    "4. MeanAbsolutePercentageError class\n",
    "5. MeanSquaredLogarithmicError class\n",
    "6. CosineSimilarity class\n",
    "7. LogCoshError class\n",
    "\n",
    "\n",
    "<a href=\"https://keras.io/api/metrics/\">metrics/</a>"
   ]
  },
  {
   "cell_type": "markdown",
   "metadata": {
    "hidden": true
   },
   "source": [
    "#### Loss = Erro para o treinamento.\n",
    "Regression losses\n",
    "\n",
    "1.  mean_squared_error function\n",
    "2.  mean_absolute_error function\n",
    "3.  mean_absolute_percentage_error function\n",
    "4.  mean_squared_logarithmic_error function\n",
    "5. cosine_similarity function\n",
    "6. huber function\n",
    "7. log_cosh function\n",
    "\n",
    "<a href=\"https://keras.io/api/losses/\">losses/</a>"
   ]
  },
  {
   "cell_type": "code",
   "execution_count": null,
   "metadata": {
    "ExecuteTime": {
     "end_time": "2020-06-02T21:59:39.340819Z",
     "start_time": "2020-06-02T21:59:39.187250Z"
    },
    "hidden": true
   },
   "outputs": [],
   "source": [
    "modelo1.compile(optimizer = 'RMSprop',\n",
    "               loss = 'mean_squared_error',\n",
    "               metrics = ['mean_squared_error'])"
   ]
  },
  {
   "cell_type": "markdown",
   "metadata": {
    "ExecuteTime": {
     "end_time": "2020-05-25T04:02:22.657742Z",
     "start_time": "2020-05-25T04:02:22.653752Z"
    },
    "hidden": true
   },
   "source": [
    "### 5.3 - Treino"
   ]
  },
  {
   "cell_type": "code",
   "execution_count": null,
   "metadata": {
    "ExecuteTime": {
     "end_time": "2020-06-02T22:11:10.094780Z",
     "start_time": "2020-06-02T22:07:29.607446Z"
    },
    "hidden": true,
    "scrolled": true
   },
   "outputs": [],
   "source": [
    "# Treinando o modelo\n",
    "historico1 = modelo1.fit(x_treino_t_n1, \n",
    "                       y_treino1, \n",
    "                       batch_size = 512, \n",
    "                       epochs = 2000) #preco_real é a variavel de exemplo que queremos prever\n",
    "#batch_size=64\n",
    "#validation_split=0.2"
   ]
  },
  {
   "cell_type": "markdown",
   "metadata": {
    "hidden": true
   },
   "source": [
    "loss: 4666.8156 - mean_squared_error: 4666.8154"
   ]
  },
  {
   "cell_type": "markdown",
   "metadata": {
    "ExecuteTime": {
     "end_time": "2020-05-25T04:11:21.145474Z",
     "start_time": "2020-05-25T04:11:21.141488Z"
    },
    "hidden": true
   },
   "source": [
    "### 5.4 - Imagem do Treino"
   ]
  },
  {
   "cell_type": "code",
   "execution_count": null,
   "metadata": {
    "ExecuteTime": {
     "end_time": "2020-06-02T22:11:21.740684Z",
     "start_time": "2020-06-02T22:11:21.393614Z"
    },
    "hidden": true
   },
   "outputs": [],
   "source": [
    "historico1.history.keys()\n",
    "plt.plot(historico1.history['loss'])\n",
    "plt.plot(historico1.history['mean_squared_error'])"
   ]
  },
  {
   "cell_type": "markdown",
   "metadata": {
    "hidden": true
   },
   "source": [
    "### 5.5 Seleção de Atributos\n",
    "Usando abordagem estatística univariada."
   ]
  },
  {
   "cell_type": "markdown",
   "metadata": {
    "hidden": true
   },
   "source": [
    "#### Validação Cruzada"
   ]
  },
  {
   "cell_type": "code",
   "execution_count": null,
   "metadata": {
    "ExecuteTime": {
     "end_time": "2020-06-03T20:37:10.344075Z",
     "start_time": "2020-06-03T20:37:10.334102Z"
    },
    "hidden": true
   },
   "outputs": [],
   "source": [
    "# Criando o modelo regressor usando KERAS\n",
    "\n",
    "def criar_rede():\n",
    "    modelo1 = Sequential()  #uma camada apos a outra\n",
    "\n",
    "    modelo1.add(Dense(units = 100, activation = 'relu', input_dim = 34))#camadas oculta1 (41 neurônios)+ camda de entrada(903)\n",
    "    modelo1.add(Dropout(0.3))\n",
    "\n",
    "    modelo1.add(Dense(units = 100,  activation = 'relu'))# camada de oculta 2 (41)\n",
    "    modelo1.add(Dropout(0.3))\n",
    "\n",
    "    modelo1.add(Dense(units = 1, activation = 'linear')) #camada de saida (1 saídas)\n",
    "    \n",
    "    modelo1.compile(loss = 'mean_absolute_error',\n",
    "                   optimizer = 'RMSprop',\n",
    "                   metrics = ['mean_absolute_error'])\n",
    "    \n",
    "    return modelo1"
   ]
  },
  {
   "cell_type": "code",
   "execution_count": null,
   "metadata": {
    "ExecuteTime": {
     "end_time": "2020-06-03T21:09:15.664795Z",
     "start_time": "2020-06-03T20:37:22.741988Z"
    },
    "hidden": true
   },
   "outputs": [],
   "source": [
    "modelo1 = KerasRegressor(build_fn = criar_rede,\n",
    "                         epochs = 2000,\n",
    "                         batch_size = 512)\n",
    "\n",
    "\n",
    "resultados1 = cross_val_score(estimator = modelo1,\n",
    "                             X = x_treino_t_n1, \n",
    "                             y = y_treino1,\n",
    "                             cv = 10, \n",
    "                             scoring = 'neg_mean_absolute_error')"
   ]
  },
  {
   "cell_type": "code",
   "execution_count": null,
   "metadata": {
    "ExecuteTime": {
     "end_time": "2020-06-03T21:09:40.752911Z",
     "start_time": "2020-06-03T21:09:40.746928Z"
    },
    "hidden": true
   },
   "outputs": [],
   "source": [
    "media = resultados1.mean()\n",
    "std = resultados1.std()\n",
    "print('Média: ', media)\n",
    "print('Std: ', std)"
   ]
  },
  {
   "cell_type": "code",
   "execution_count": null,
   "metadata": {
    "ExecuteTime": {
     "end_time": "2020-06-03T21:10:26.634648Z",
     "start_time": "2020-06-03T21:10:26.631659Z"
    },
    "hidden": true
   },
   "outputs": [],
   "source": [
    "melhor_resultado1 = media"
   ]
  },
  {
   "cell_type": "markdown",
   "metadata": {
    "heading_collapsed": true,
    "hidden": true
   },
   "source": [
    "#### Obter pontuação usando modelos com seleção de recursos"
   ]
  },
  {
   "cell_type": "code",
   "execution_count": null,
   "metadata": {
    "ExecuteTime": {
     "end_time": "2020-06-03T20:15:56.721825Z",
     "start_time": "2020-06-03T20:15:56.715839Z"
    },
    "hidden": true
   },
   "outputs": [],
   "source": [
    "# Criando o modelo regressor usando KERAS\n",
    "\n",
    "def criar_rede2(camada_entrada):\n",
    "    modelo1 = Sequential()  #uma camada apos a outra\n",
    "\n",
    "    modelo1.add(Dense(units = 14, activation = 'relu', input_dim = camada_entrada))#camadas oculta1 (41 neurônios)+ camda de entrada(100)\n",
    "    modelo1.add(Dropout(0.3))\n",
    "\n",
    "    modelo1.add(Dense(units = 14,  activation = 'relu'))# camada de oculta 2 (100)\n",
    "    modelo1.add(Dropout(0.3))\n",
    "\n",
    "    modelo1.add(Dense(units = 1, activation = 'linear')) #camada de saida (1 saídas)\n",
    "    \n",
    "    modelo1.compile(loss = 'mean_absolute_error',\n",
    "                   optimizer = 'RMSprop',\n",
    "                   metrics = ['mean_absolute_error'])\n",
    "    \n",
    "    return modelo1"
   ]
  },
  {
   "cell_type": "code",
   "execution_count": null,
   "metadata": {
    "ExecuteTime": {
     "end_time": "2020-06-03T20:22:20.378147Z",
     "start_time": "2020-06-03T20:16:04.422507Z"
    },
    "hidden": true,
    "scrolled": true
   },
   "outputs": [],
   "source": [
    "for i in range(1, x_treino_t_n1.shape[1]+1, 1):\n",
    "    # Select i atributos\n",
    "    select = SelectKBest(score_func=f_regression, k=i) #chi2 = qui-quadrado\n",
    "    select.fit(x_treino_t_n1, y_treino1)\n",
    "    x_treino_t_n1_selected = select.transform(x_treino_t_n1)\n",
    "\n",
    "    # Modelo com i atributos selecionados\n",
    "   \n",
    "    \n",
    "    modelo1 = KerasRegressor(build_fn = criar_rede2,\n",
    "                             camada_entrada = x_treino_t_n1_selected.shape[1],\n",
    "                             epochs = 1000,\n",
    "                             batch_size = 1730)\n",
    "  \n",
    "   \n",
    "    modelo1.fit(x_treino_t_n1_selected, y_treino1)\n",
    "    resultados1 = cross_val_score(modelo1, x_treino_t_n1_selected, y_treino1, cv=10)\n",
    "    media = resultados1.mean()\n",
    "    std = resultados1.std()\n",
    "    print('Média: ', media)\n",
    "    print('Std: ', std)\n",
    "    print('CV acuracia: ', media, '+/- ', std)\n",
    "    \n",
    "    # Salvar resultados se melhorar a pontuação\n",
    "    if np.mean(resultados1) > melhor_resultado1:\n",
    "        melhor_resultado1 = media\n",
    "        melhor_std1 = std\n",
    "        k_atributos_melhor_resultado1 = i\n",
    "    elif media == melhor_resultado1:\n",
    "        if std <  melhor_std1:\n",
    "            melhor_resultado1 = media\n",
    "            melhor_std1 = std\n",
    "            k_atributos_melhor_resultado1 = i"
   ]
  },
  {
   "cell_type": "code",
   "execution_count": null,
   "metadata": {
    "ExecuteTime": {
     "end_time": "2020-06-02T08:26:17.545953Z",
     "start_time": "2020-06-02T08:25:00.688Z"
    },
    "hidden": true
   },
   "outputs": [],
   "source": [
    "print('Número de atributos com melhor pontuação: ', k_atributos_melhor_resultado1)"
   ]
  },
  {
   "cell_type": "markdown",
   "metadata": {
    "heading_collapsed": true,
    "hidden": true
   },
   "source": [
    "#### Selecionar Atributos"
   ]
  },
  {
   "cell_type": "code",
   "execution_count": null,
   "metadata": {
    "ExecuteTime": {
     "end_time": "2020-06-02T08:26:17.547941Z",
     "start_time": "2020-06-02T08:25:00.692Z"
    },
    "hidden": true
   },
   "outputs": [],
   "source": [
    "select = SelectKBest(score_func = chi2, k = k_atributos_melhor_resultado)\n",
    "select.fit(x_treino_poly, y_treino)\n",
    "x_treino_poly_selected = select.transform(x_treino_poly)"
   ]
  },
  {
   "cell_type": "markdown",
   "metadata": {
    "hidden": true
   },
   "source": [
    "#### Treinar Modelo"
   ]
  },
  {
   "cell_type": "code",
   "execution_count": null,
   "metadata": {
    "ExecuteTime": {
     "end_time": "2020-06-03T23:27:34.263765Z",
     "start_time": "2020-06-03T23:19:33.350904Z"
    },
    "hidden": true,
    "scrolled": true
   },
   "outputs": [],
   "source": [
    "modelo1 = Sequential()  #uma camada apos a outra\n",
    "\n",
    "modelo1.add(Dense(units = 100, activation = 'relu', input_dim = 34))#camadas oculta1 (41 neurônios)+ camda de entrada(903)\n",
    "modelo1.add(Dropout(0.3))\n",
    "\n",
    "modelo1.add(Dense(units = 100,  activation = 'relu'))# camada de oculta 2 (41)\n",
    "modelo1.add(Dropout(0.3))\n",
    "\n",
    "modelo1.add(Dense(units = 1, activation = 'linear')) #camada de saida (1 saídas)\n",
    "    \n",
    "modelo1.compile(loss = 'mean_absolute_error',\n",
    "                optimizer = 'RMSprop',\n",
    "                metrics = ['mean_absolute_error'])\n",
    "\n",
    "\n",
    "modelo1.fit(x_treino_t_n1,\n",
    "            y_treino1,\n",
    "            batch_size = 512,\n",
    "            epochs = 5000)"
   ]
  },
  {
   "cell_type": "markdown",
   "metadata": {
    "heading_collapsed": true,
    "hidden": true
   },
   "source": [
    "#### Resultados\n"
   ]
  },
  {
   "cell_type": "code",
   "execution_count": null,
   "metadata": {
    "ExecuteTime": {
     "end_time": "2020-06-02T08:26:17.551930Z",
     "start_time": "2020-06-02T08:25:00.700Z"
    },
    "hidden": true
   },
   "outputs": [],
   "source": [
    "resultados = cross_val_score(modelo, \n",
    "                         x_treino_poly_selected, \n",
    "                         y_treino, \n",
    "                         cv=10,\n",
    "                         n_jobs= -1,\n",
    "                         scoring = 'mean_squared_error')"
   ]
  },
  {
   "cell_type": "markdown",
   "metadata": {
    "heading_collapsed": true,
    "hidden": true
   },
   "source": [
    "#### Curva de Aprendizado"
   ]
  },
  {
   "cell_type": "code",
   "execution_count": null,
   "metadata": {
    "ExecuteTime": {
     "end_time": "2020-06-03T22:23:56.500094Z",
     "start_time": "2020-06-03T22:23:56.489122Z"
    },
    "hidden": true
   },
   "outputs": [],
   "source": [
    "def plot_learning_curve(estimator, title, X, y, ylim=None, cv=None, train_sizes=np.linspace(.1, 1.0, 5)):\n",
    "    \n",
    "    plt.figure()\n",
    "    \n",
    "    plt.title(title)\n",
    "    \n",
    "    if ylim is not None:\n",
    "        \n",
    "        plt.ylim(*ylim)\n",
    "        \n",
    "    plt.xlabel(\"Training examples\")\n",
    "    plt.ylabel(\"Score\")\n",
    "    \n",
    "    train_sizes, train_scores, test_scores = learning_curve(estimator, \n",
    "                                                            X, \n",
    "                                                            y, \n",
    "                                                            cv=cv, \n",
    "                                                            train_sizes=train_sizes)\n",
    "    train_scores_mean = np.mean(train_scores, axis=1)\n",
    "    train_scores_std = np.std(train_scores, axis=1)\n",
    "    test_scores_mean = np.mean(test_scores, axis=1)\n",
    "    test_scores_std = np.std(test_scores, axis=1)\n",
    "    plt.grid()\n",
    "\n",
    "    plt.fill_between(train_sizes, train_scores_mean - train_scores_std,\n",
    "                     train_scores_mean + train_scores_std, alpha=0.1,\n",
    "                     color=\"r\")\n",
    "    \n",
    "    plt.fill_between(train_sizes, test_scores_mean - test_scores_std,\n",
    "                     test_scores_mean + test_scores_std, alpha=0.1, color=\"g\")\n",
    "    \n",
    "    plt.plot(train_sizes, train_scores_mean, 'o-', color=\"r\",\n",
    "             label=\"Training score\")\n",
    "    \n",
    "    plt.plot(train_sizes, test_scores_mean, 'o-', color=\"g\",\n",
    "             label=\"Validation score\")\n",
    "\n",
    "    plt.legend(loc=\"best\")\n",
    "    return plt"
   ]
  },
  {
   "cell_type": "code",
   "execution_count": null,
   "metadata": {
    "ExecuteTime": {
     "end_time": "2020-06-03T22:22:12.819934Z",
     "start_time": "2020-06-03T22:22:12.471306Z"
    },
    "hidden": true
   },
   "outputs": [],
   "source": [
    "title = \"Curva de Aprendizado (RNA)\"\n",
    "cv = 2\n",
    "plot_learning_curve(modelo1, \n",
    "                    title, \n",
    "                    x_treino_t_n1,\n",
    "                    y_treino1, \n",
    "                    ylim = (0, 70), \n",
    "                    cv = cv);"
   ]
  },
  {
   "cell_type": "markdown",
   "metadata": {
    "heading_collapsed": true,
    "hidden": true
   },
   "source": [
    "#### Curva de Validação"
   ]
  },
  {
   "cell_type": "code",
   "execution_count": null,
   "metadata": {
    "ExecuteTime": {
     "end_time": "2020-06-03T22:26:20.135284Z",
     "start_time": "2020-06-03T22:26:20.123319Z"
    },
    "hidden": true
   },
   "outputs": [],
   "source": [
    "def plot_validation_curve(estimator, title, X, y, param_name, param_range, ylim=None, \n",
    "                          cv=None,train_sizes=np.linspace(.1, 1.0, 5)):\n",
    "    \n",
    "    train_scores, test_scores = validation_curve(estimator, X, y, param_name, param_range, cv)\n",
    "    train_mean = np.mean(train_scores, axis=1)\n",
    "    train_std = np.std(train_scores, axis=1)\n",
    "    test_mean = np.mean(test_scores, axis=1)\n",
    "    test_std = np.std(test_scores, axis=1)\n",
    "    \n",
    "    plt.plot(param_range, train_mean, color='r', marker='o', markersize=5, label='Training score')\n",
    "    plt.fill_between(param_range, train_mean + train_std, train_mean - train_std, alpha=0.15, color='r')\n",
    "    plt.plot(param_range, test_mean, color='g', linestyle='--', marker='s', markersize=5, label='Validation score')\n",
    "    plt.fill_between(param_range, test_mean + test_std, test_mean - test_std, alpha=0.15, color='g')\n",
    "    plt.grid() \n",
    "    plt.xscale('log')\n",
    "    plt.legend(loc='best') \n",
    "    plt.xlabel('Parameter') \n",
    "    plt.ylabel('Score') \n",
    "    plt.ylim(ylim)"
   ]
  },
  {
   "cell_type": "code",
   "execution_count": null,
   "metadata": {
    "ExecuteTime": {
     "end_time": "2020-06-03T22:28:43.116851Z",
     "start_time": "2020-06-03T22:28:43.058008Z"
    },
    "hidden": true
   },
   "outputs": [],
   "source": [
    "title = 'Curva de Validação (RNA)'\n",
    "param_name = 'optimizer'\n",
    "param_range = ['RMSprop', 'adam'] \n",
    "cv = 2\n",
    "plot_validation_curve(estimator=modelo1, \n",
    "                      title = title, \n",
    "                      X = x_treino_t_n1, \n",
    "                      y = y_treino1, \n",
    "                      param_name = param_name, \n",
    "                      ylim = (0, 70), \n",
    "                      param_range = param_range);"
   ]
  },
  {
   "cell_type": "markdown",
   "metadata": {
    "hidden": true
   },
   "source": [
    "#### Fazer a mesma transformação com os dados de teste."
   ]
  },
  {
   "cell_type": "code",
   "execution_count": null,
   "metadata": {
    "ExecuteTime": {
     "end_time": "2020-06-03T23:36:08.733581Z",
     "start_time": "2020-06-03T23:36:08.727561Z"
    },
    "hidden": true
   },
   "outputs": [],
   "source": [
    "base_teste1 = base_teste.copy()"
   ]
  },
  {
   "cell_type": "code",
   "execution_count": null,
   "metadata": {
    "ExecuteTime": {
     "end_time": "2020-06-03T23:36:09.323509Z",
     "start_time": "2020-06-03T23:36:09.248707Z"
    },
    "hidden": true
   },
   "outputs": [],
   "source": [
    "base_teste1 = base_teste1.drop(columns = ['CO_UF_RESIDENCIA'], axis = 1)     #AXIS = 1 APAGA A COLUNA\n",
    "\n",
    "base_teste1 = base_teste1.drop(columns = ['SG_UF_RESIDENCIA'], axis = 1)     #AXIS = 1 APAGA A COLUNA\n",
    "\n",
    "base_teste1 = base_teste1.drop(columns = ['TP_COR_RACA'], axis = 1)     #AXIS = 1 APAGA A COLUNA\n",
    "\n",
    "base_teste1 = base_teste1.drop(columns = ['TP_NACIONALIDADE'], axis = 1)     #AXIS = 1 APAGA A COLUNA\n",
    "\n",
    "base_teste1 = base_teste1.drop(columns = ['IN_BAIXA_VISAO'], axis = 1)     #AXIS = 1 APAGA A COLUNA\n",
    "\n",
    "base_teste1 = base_teste1.drop(columns = ['IN_CEGUEIRA'], axis = 1)     #AXIS = 1 APAGA A COLUNA\n",
    "\n",
    "base_teste1 = base_teste1.drop(columns = ['IN_SURDEZ'], axis = 1)     #AXIS = 1 APAGA A COLUNA\n",
    "\n",
    "base_teste1 = base_teste1.drop(columns = ['IN_DISLEXIA'], axis = 1)     #AXIS = 1 APAGA A COLUNA\n",
    "\n",
    "base_teste1 = base_teste1.drop(columns = ['IN_DISCALCULIA'], axis = 1)     #AXIS = 1 APAGA A COLUNA\n",
    "\n",
    "base_teste1 = base_teste1.drop(columns = ['IN_SABATISTA'], axis = 1)     #AXIS = 1 APAGA A COLUNA\n",
    "\n",
    "base_teste1 = base_teste1.drop(columns = ['CO_PROVA_CN'], axis = 1)     #AXIS = 1 APAGA A COLUNA\n",
    "\n",
    "base_teste1 = base_teste1.drop(columns = ['CO_PROVA_CH'], axis = 1)     #AXIS = 1 APAGA A COLUNA\n",
    "\n",
    "base_teste1 = base_teste1.drop(columns = ['CO_PROVA_LC'], axis = 1)     #AXIS = 1 APAGA A COLUNA\n",
    "\n",
    "base_teste1 = base_teste1.drop(columns = ['CO_PROVA_MT'], axis = 1)     #AXIS = 1 APAGA A COLUNA\n",
    "                                   \n",
    "base_teste1 = base_teste1.drop(columns = ['TP_LINGUA'], axis = 1)     #AXIS = 1 APAGA A COLUNA \n",
    "\n",
    "base_teste1 = base_teste1.drop(columns = ['TP_STATUS_REDACAO'], axis = 1)     #AXIS = 1 APAGA A COLUNA\n",
    "\n",
    "base_teste1 = base_teste1.drop(columns = ['NU_NOTA_COMP1'], axis = 1)     #AXIS = 1 APAGA A COLUNA\n",
    "\n",
    "base_teste1 = base_teste1.drop(columns = ['NU_NOTA_COMP2'], axis = 1)     #AXIS = 1 APAGA A COLUNA\n",
    "                                   \n",
    "base_teste1 = base_teste1.drop(columns = ['NU_NOTA_COMP3'], axis = 1)     #AXIS = 1 APAGA A COLUNA \n",
    "\n",
    "base_teste1 = base_teste1.drop(columns = ['NU_NOTA_COMP4'], axis = 1)     #AXIS = 1 APAGA A COLUNA\n",
    "\n",
    "base_teste1 = base_teste1.drop(columns = ['NU_NOTA_COMP5'], axis = 1)     #AXIS = 1 APAGA A COLUNA\n",
    "\n",
    "base_teste1 = base_teste1.drop(columns = ['Q001'], axis = 1)     #AXIS = 1 APAGA A COLUNA\n",
    "                                   \n",
    "base_teste1 = base_teste1.drop(columns = ['Q002'], axis = 1)     #AXIS = 1 APAGA A COLUNA \n",
    "\n",
    "base_teste1 = base_teste1.drop(columns = ['Q006'], axis = 1)     #AXIS = 1 APAGA A COLUNA\n",
    "\n",
    "base_teste1 = base_teste1.drop(columns = ['Q024'], axis = 1)     #AXIS = 1 APAGA A COLUNA\n",
    "\n",
    "base_teste1 = base_teste1.drop(columns = ['Q025'], axis = 1)     #AXIS = 1 APAGA A COLUNA\n",
    "                                   \n",
    "base_teste1 = base_teste1.drop(columns = ['Q026'], axis = 1)     #AXIS = 1 APAGA A COLUNA \n",
    "\n",
    "base_teste1 = base_teste1.drop(columns = ['Q027'], axis = 1)     #AXIS = 1 APAGA A COLUNA\n",
    "\n",
    "base_teste1 = base_teste1.drop(columns = ['Q047'], axis = 1)     #AXIS = 1 APAGA A COLUNA"
   ]
  },
  {
   "cell_type": "code",
   "execution_count": null,
   "metadata": {
    "ExecuteTime": {
     "end_time": "2020-06-03T23:36:10.655028Z",
     "start_time": "2020-06-03T23:36:10.648047Z"
    },
    "hidden": true
   },
   "outputs": [],
   "source": [
    "base_teste1 = base_teste1.drop(columns = ['TP_ENSINO'], axis = 1)     #AXIS = 1 APAGA A COLUNA\n",
    "\n",
    "base_teste1 = base_teste1.drop(columns = ['TP_DEPENDENCIA_ADM_ESC'], axis = 1)     #AXIS = 1 APAGA A COLUNA"
   ]
  },
  {
   "cell_type": "code",
   "execution_count": null,
   "metadata": {
    "ExecuteTime": {
     "end_time": "2020-06-03T23:36:11.694902Z",
     "start_time": "2020-06-03T23:36:11.688920Z"
    },
    "hidden": true
   },
   "outputs": [],
   "source": [
    "presentes  = base_teste1.iloc[:,9:]"
   ]
  },
  {
   "cell_type": "code",
   "execution_count": null,
   "metadata": {
    "ExecuteTime": {
     "end_time": "2020-06-03T22:47:02.506331Z",
     "start_time": "2020-06-03T22:47:02.489375Z"
    },
    "hidden": true
   },
   "outputs": [],
   "source": [
    "presentes.loc[(presentes.NU_NOTA_CH.isnull())].head(10)"
   ]
  },
  {
   "cell_type": "code",
   "execution_count": null,
   "metadata": {
    "ExecuteTime": {
     "end_time": "2020-06-03T22:47:56.570637Z",
     "start_time": "2020-06-03T22:47:56.562661Z"
    },
    "hidden": true
   },
   "outputs": [],
   "source": [
    "base_teste1 = base_teste1.fillna(0)"
   ]
  },
  {
   "cell_type": "code",
   "execution_count": null,
   "metadata": {
    "ExecuteTime": {
     "end_time": "2020-06-03T22:48:47.438942Z",
     "start_time": "2020-06-03T22:48:47.421950Z"
    },
    "hidden": true
   },
   "outputs": [],
   "source": [
    "base_teste1.duplicated().sum()"
   ]
  },
  {
   "cell_type": "markdown",
   "metadata": {
    "hidden": true
   },
   "source": [
    "#####  Remover Coluna de Número de Inscrição"
   ]
  },
  {
   "cell_type": "code",
   "execution_count": null,
   "metadata": {
    "ExecuteTime": {
     "end_time": "2020-06-03T22:50:22.684055Z",
     "start_time": "2020-06-03T22:50:22.678072Z"
    },
    "hidden": true
   },
   "outputs": [],
   "source": [
    "NU_INSCRICAO_teste = base_teste1.NU_INSCRICAO  #salvar essa coluna caso seja necessário\n",
    "base_teste1 = base_teste1.drop('NU_INSCRICAO', axis = 1)     #AXIS = 1 APAGA A COLUNA"
   ]
  },
  {
   "cell_type": "code",
   "execution_count": null,
   "metadata": {
    "ExecuteTime": {
     "end_time": "2020-06-03T22:57:44.769582Z",
     "start_time": "2020-06-03T22:57:44.763602Z"
    },
    "hidden": true
   },
   "outputs": [],
   "source": [
    "base_teste1.shape"
   ]
  },
  {
   "cell_type": "code",
   "execution_count": null,
   "metadata": {
    "ExecuteTime": {
     "end_time": "2020-06-03T22:51:45.593226Z",
     "start_time": "2020-06-03T22:51:45.582255Z"
    },
    "hidden": true
   },
   "outputs": [],
   "source": [
    "#Remover coluna da base de dados\n",
    "base_teste1 = base_teste1.drop('TP_PRESENCA_CN', axis = 1) #axis =1 significa a coluna toda\n",
    "base_teste1 = base_teste1.drop('IN_GESTANTE', axis = 1) #axis =1 significa a coluna toda\n",
    "base_teste1 = base_teste1.drop('IN_IDOSO', axis = 1) #axis =1 significa a coluna toda"
   ]
  },
  {
   "cell_type": "code",
   "execution_count": null,
   "metadata": {
    "ExecuteTime": {
     "end_time": "2020-06-03T22:55:55.849993Z",
     "start_time": "2020-06-03T22:55:55.842014Z"
    },
    "hidden": true
   },
   "outputs": [],
   "source": [
    "base_teste1.iloc[:,1] = labelEncoder.transform(base_teste1.iloc[:,1])"
   ]
  },
  {
   "cell_type": "code",
   "execution_count": null,
   "metadata": {
    "ExecuteTime": {
     "end_time": "2020-06-03T22:57:01.883606Z",
     "start_time": "2020-06-03T22:57:01.872640Z"
    },
    "hidden": true
   },
   "outputs": [],
   "source": [
    "base_teste1 = onehotencoder.transform(base_teste1).toarray()"
   ]
  },
  {
   "cell_type": "code",
   "execution_count": null,
   "metadata": {
    "ExecuteTime": {
     "end_time": "2020-06-03T23:04:54.585959Z",
     "start_time": "2020-06-03T23:04:54.546007Z"
    },
    "hidden": true
   },
   "outputs": [],
   "source": [
    "base_teste1[:,29] = boxcox(base_teste1[:,29] + 1)[0]\n",
    "\n",
    "base_teste1[:,30] = boxcox(base_teste1[:,30] + 1)[0]\n",
    "\n",
    "base_teste1[:,31] = boxcox(base_teste1[:,31] + 1)[0]\n",
    "\n",
    "base_teste1[:,32] = boxcox(base_teste1[:,32] + 1)[0]\n",
    "\n",
    "base_teste1[:,33] = boxcox(base_teste1[:,33] + 1)[0]"
   ]
  },
  {
   "cell_type": "code",
   "execution_count": null,
   "metadata": {
    "ExecuteTime": {
     "end_time": "2020-06-03T23:06:04.536327Z",
     "start_time": "2020-06-03T23:06:04.529346Z"
    },
    "hidden": true
   },
   "outputs": [],
   "source": [
    "#NORMALIZADOR DE VARIAVEIS MIN MAX\n",
    "\n",
    "base_teste1 = normalizador.transform(base_teste1) #usar para o fit o x transormado pelo box-cox"
   ]
  },
  {
   "cell_type": "code",
   "execution_count": null,
   "metadata": {
    "ExecuteTime": {
     "end_time": "2020-06-03T23:06:13.199714Z",
     "start_time": "2020-06-03T23:06:13.192732Z"
    },
    "hidden": true
   },
   "outputs": [],
   "source": [
    "base_teste1.shape"
   ]
  },
  {
   "cell_type": "markdown",
   "metadata": {
    "hidden": true
   },
   "source": [
    "##### Verificando a exatidão no modelo nos dados de teste"
   ]
  },
  {
   "cell_type": "code",
   "execution_count": null,
   "metadata": {
    "ExecuteTime": {
     "end_time": "2020-06-04T00:03:26.007544Z",
     "start_time": "2020-06-04T00:03:25.477904Z"
    },
    "hidden": true
   },
   "outputs": [],
   "source": [
    "previsao = modelo1.predict(x_teste_t_n)"
   ]
  },
  {
   "cell_type": "code",
   "execution_count": null,
   "metadata": {
    "ExecuteTime": {
     "end_time": "2020-06-04T00:03:26.182042Z",
     "start_time": "2020-06-04T00:03:26.176054Z"
    },
    "hidden": true
   },
   "outputs": [],
   "source": [
    "previsao"
   ]
  },
  {
   "cell_type": "code",
   "execution_count": null,
   "metadata": {
    "ExecuteTime": {
     "end_time": "2020-06-03T23:41:52.942327Z",
     "start_time": "2020-06-03T23:41:52.936346Z"
    },
    "hidden": true
   },
   "outputs": [],
   "source": [
    "print(y_teste1.mean()) #preco_real -> exemplo de saída\n",
    "print('Média: ', previsao.mean())\n",
    "print('Std: ', previsao.std())"
   ]
  },
  {
   "cell_type": "code",
   "execution_count": null,
   "metadata": {
    "ExecuteTime": {
     "end_time": "2020-06-03T23:42:59.952202Z",
     "start_time": "2020-06-03T23:42:59.944224Z"
    },
    "hidden": true
   },
   "outputs": [],
   "source": [
    "print('MAE:', mean_absolute_error(y_teste1, previsao).round(8)  )\n",
    "print('MSE:', mean_squared_error(y_teste1, previsao).round(8) )  \n",
    "print('RMSE:', np.sqrt(mean_squared_error(y_teste1, previsao)).round(8))"
   ]
  },
  {
   "cell_type": "code",
   "execution_count": null,
   "metadata": {
    "ExecuteTime": {
     "end_time": "2020-06-03T23:44:34.052078Z",
     "start_time": "2020-06-03T23:44:33.326673Z"
    },
    "hidden": true
   },
   "outputs": [],
   "source": [
    "resultado = modelo1.evaluate(x_teste_t_n, y_teste1)#usando ferramentas do keras\n",
    "resultado"
   ]
  },
  {
   "cell_type": "markdown",
   "metadata": {},
   "source": [
    "## 5.2 Modelo 1 - RandomForest"
   ]
  },
  {
   "cell_type": "code",
   "execution_count": 69,
   "metadata": {
    "ExecuteTime": {
     "end_time": "2020-06-04T06:00:15.532365Z",
     "start_time": "2020-06-04T06:00:15.527378Z"
    }
   },
   "outputs": [],
   "source": [
    "# Criando o modelo preditivo usando SCIKIT-LEARN\n",
    "modelo2 = RandomForestRegressor(criterion='mae',\n",
    "                                max_depth=8, \n",
    "                                max_leaf_nodes=None,\n",
    "                                min_impurity_split=None,\n",
    "                                min_samples_leaf=1,\n",
    "                                min_samples_split=2,\n",
    "                                min_weight_fraction_leaf=0.0,\n",
    "                                n_estimators= 500,\n",
    "                                n_jobs=-1,\n",
    "                                random_state=0,\n",
    "                                verbose=0,\n",
    "                                warm_start=False)"
   ]
  },
  {
   "cell_type": "code",
   "execution_count": 70,
   "metadata": {
    "ExecuteTime": {
     "end_time": "2020-06-04T07:20:18.990635Z",
     "start_time": "2020-06-04T06:00:26.333364Z"
    }
   },
   "outputs": [
    {
     "data": {
      "text/plain": [
       "RandomForestRegressor(bootstrap=True, criterion='mae', max_depth=8,\n",
       "                      max_features='auto', max_leaf_nodes=None,\n",
       "                      min_impurity_decrease=0.0, min_impurity_split=None,\n",
       "                      min_samples_leaf=1, min_samples_split=2,\n",
       "                      min_weight_fraction_leaf=0.0, n_estimators=500, n_jobs=-1,\n",
       "                      oob_score=False, random_state=0, verbose=0,\n",
       "                      warm_start=False)"
      ]
     },
     "execution_count": 70,
     "metadata": {},
     "output_type": "execute_result"
    }
   ],
   "source": [
    "# Treinando o modelo\n",
    "modelo2.fit(x_treino_poly2, y_treino2)"
   ]
  },
  {
   "cell_type": "markdown",
   "metadata": {},
   "source": [
    "## 1.1 Seleção de Atributos\n",
    "Usando abordagem estatística univariada."
   ]
  },
  {
   "cell_type": "code",
   "execution_count": null,
   "metadata": {
    "ExecuteTime": {
     "start_time": "2020-06-04T03:30:11.212Z"
    }
   },
   "outputs": [],
   "source": [
    "resultados = cross_val_score(modelo2,\n",
    "                             x_treino_poly2, \n",
    "                             y_treino2, \n",
    "                             cv=10,\n",
    "                             n_jobs= -1)"
   ]
  },
  {
   "cell_type": "code",
   "execution_count": null,
   "metadata": {
    "ExecuteTime": {
     "end_time": "2020-06-04T05:41:54.660639Z",
     "start_time": "2020-06-04T05:41:54.004396Z"
    }
   },
   "outputs": [],
   "source": [
    "media = resultados.mean()\n",
    "std = resultados.std()\n",
    "print('Média: ', media)\n",
    "print('Std: ', std)"
   ]
  },
  {
   "cell_type": "code",
   "execution_count": null,
   "metadata": {},
   "outputs": [],
   "source": [
    "melhor_resultado = media"
   ]
  },
  {
   "cell_type": "markdown",
   "metadata": {
    "heading_collapsed": true
   },
   "source": [
    "### Obter pontuação usando modelos com seleção de recursos"
   ]
  },
  {
   "cell_type": "code",
   "execution_count": null,
   "metadata": {
    "hidden": true
   },
   "outputs": [],
   "source": [
    "for i in range(1, x_treino_poly.shape[1]+1, 1):\n",
    "    # Select i atributos\n",
    "    select = SelectKBest(score_func=chi2, k=i) #chi2 = qui-quadrado\n",
    "    select.fit(x_treino_poly, y_treino)\n",
    "    x_treino_poly_selected = select.transform(x_treino_poly)\n",
    "\n",
    "    # Modelo com i atributos selecionados\n",
    "    modelo.fit(x_treino_poly_selected, y_treino)\n",
    "    resultados = cross_val_score(modelo, x_treino_poly_selected, y_treino, cv=10)\n",
    "    media = resultados.mean()\n",
    "    std = resultados.std()\n",
    "    print('Média: ', media)\n",
    "    print('Std: ', desvio)\n",
    "    print('CV acuracia: ', media, '+/- ', std)\n",
    "    \n",
    "    # Salvar resultados se melhorar a pontuação\n",
    "    if np.mean(resultados) > melhor_resultado:\n",
    "        melhor_resultado = media\n",
    "        melhor_std = std\n",
    "        k_atributos_melhor_resultado = i\n",
    "    elif media == melhor_resultado:\n",
    "        if std <  melhor_std:\n",
    "            melhor_resultado = media\n",
    "            melhor_std = std\n",
    "            k_atributos_melhor_resultado = i"
   ]
  },
  {
   "cell_type": "code",
   "execution_count": null,
   "metadata": {
    "hidden": true
   },
   "outputs": [],
   "source": [
    "print('Número de atributos com melhor pontuação: ', k_atributos_melhor_resultado)"
   ]
  },
  {
   "cell_type": "markdown",
   "metadata": {
    "heading_collapsed": true
   },
   "source": [
    "### Selecionar Atributos"
   ]
  },
  {
   "cell_type": "code",
   "execution_count": null,
   "metadata": {
    "hidden": true
   },
   "outputs": [],
   "source": [
    "select = SelectKBest(score_func = chi2, k = k_atributos_melhor_resultado)\n",
    "select.fit(x_treino_poly, y_treino)\n",
    "x_treino_poly_selected = select.transform(x_treino_poly)"
   ]
  },
  {
   "cell_type": "markdown",
   "metadata": {
    "heading_collapsed": true
   },
   "source": [
    "### Treinar Modelo"
   ]
  },
  {
   "cell_type": "code",
   "execution_count": null,
   "metadata": {
    "hidden": true
   },
   "outputs": [],
   "source": [
    "modelo = RandomForestRegressor(criterion='mae',\n",
    "                               max_depth=8, \n",
    "                               max_leaf_nodes=None,\n",
    "                               min_impurity_split=None,\n",
    "                               min_samples_leaf=1,\n",
    "                               min_samples_split=2,\n",
    "                               min_weight_fraction_leaf=0.0,\n",
    "                               n_estimators= 500,\n",
    "                               n_jobs=-1,\n",
    "                               random_state=0,\n",
    "                               verbose=0,\n",
    "                               warm_start=False)\n",
    "\n",
    "modelo.fit(x_treino_poly_selected, y_treino)"
   ]
  },
  {
   "cell_type": "markdown",
   "metadata": {},
   "source": [
    "### Resultados\n"
   ]
  },
  {
   "cell_type": "code",
   "execution_count": null,
   "metadata": {},
   "outputs": [],
   "source": [
    "resultados = cross_val_score(modelo, \n",
    "                         x_treino_poly_selected, \n",
    "                         y_treino, \n",
    "                         cv=10,\n",
    "                         n_jobs= -1,\n",
    "                         scoring = 'mean_squared_error')"
   ]
  },
  {
   "cell_type": "markdown",
   "metadata": {},
   "source": [
    "## 5.4 Predição\n",
    "Fazer a mesma transformação com os dados de teste."
   ]
  },
  {
   "cell_type": "code",
   "execution_count": 71,
   "metadata": {
    "ExecuteTime": {
     "end_time": "2020-06-04T07:50:54.795116Z",
     "start_time": "2020-06-04T07:50:54.773175Z"
    }
   },
   "outputs": [],
   "source": [
    "base_teste1 = base_teste.copy()"
   ]
  },
  {
   "cell_type": "code",
   "execution_count": 72,
   "metadata": {
    "ExecuteTime": {
     "end_time": "2020-06-04T07:50:55.505477Z",
     "start_time": "2020-06-04T07:50:55.428651Z"
    }
   },
   "outputs": [],
   "source": [
    "base_teste1 = base_teste1.drop(columns = ['CO_UF_RESIDENCIA'], axis = 1)     #AXIS = 1 APAGA A COLUNA\n",
    "\n",
    "base_teste1 = base_teste1.drop(columns = ['SG_UF_RESIDENCIA'], axis = 1)     #AXIS = 1 APAGA A COLUNA\n",
    "\n",
    "base_teste1 = base_teste1.drop(columns = ['TP_COR_RACA'], axis = 1)     #AXIS = 1 APAGA A COLUNA\n",
    "\n",
    "base_teste1 = base_teste1.drop(columns = ['TP_NACIONALIDADE'], axis = 1)     #AXIS = 1 APAGA A COLUNA\n",
    "\n",
    "base_teste1 = base_teste1.drop(columns = ['IN_BAIXA_VISAO'], axis = 1)     #AXIS = 1 APAGA A COLUNA\n",
    "\n",
    "base_teste1 = base_teste1.drop(columns = ['IN_CEGUEIRA'], axis = 1)     #AXIS = 1 APAGA A COLUNA\n",
    "\n",
    "base_teste1 = base_teste1.drop(columns = ['IN_SURDEZ'], axis = 1)     #AXIS = 1 APAGA A COLUNA\n",
    "\n",
    "base_teste1 = base_teste1.drop(columns = ['IN_DISLEXIA'], axis = 1)     #AXIS = 1 APAGA A COLUNA\n",
    "\n",
    "base_teste1 = base_teste1.drop(columns = ['IN_DISCALCULIA'], axis = 1)     #AXIS = 1 APAGA A COLUNA\n",
    "\n",
    "base_teste1 = base_teste1.drop(columns = ['IN_SABATISTA'], axis = 1)     #AXIS = 1 APAGA A COLUNA\n",
    "\n",
    "base_teste1 = base_teste1.drop(columns = ['CO_PROVA_CN'], axis = 1)     #AXIS = 1 APAGA A COLUNA\n",
    "\n",
    "base_teste1 = base_teste1.drop(columns = ['CO_PROVA_CH'], axis = 1)     #AXIS = 1 APAGA A COLUNA\n",
    "\n",
    "base_teste1 = base_teste1.drop(columns = ['CO_PROVA_LC'], axis = 1)     #AXIS = 1 APAGA A COLUNA\n",
    "\n",
    "base_teste1 = base_teste1.drop(columns = ['CO_PROVA_MT'], axis = 1)     #AXIS = 1 APAGA A COLUNA\n",
    "                                   \n",
    "base_teste1 = base_teste1.drop(columns = ['TP_LINGUA'], axis = 1)     #AXIS = 1 APAGA A COLUNA \n",
    "\n",
    "base_teste1 = base_teste1.drop(columns = ['TP_STATUS_REDACAO'], axis = 1)     #AXIS = 1 APAGA A COLUNA\n",
    "\n",
    "base_teste1 = base_teste1.drop(columns = ['NU_NOTA_COMP1'], axis = 1)     #AXIS = 1 APAGA A COLUNA\n",
    "\n",
    "base_teste1 = base_teste1.drop(columns = ['NU_NOTA_COMP2'], axis = 1)     #AXIS = 1 APAGA A COLUNA\n",
    "                                   \n",
    "base_teste1 = base_teste1.drop(columns = ['NU_NOTA_COMP3'], axis = 1)     #AXIS = 1 APAGA A COLUNA \n",
    "\n",
    "base_teste1 = base_teste1.drop(columns = ['NU_NOTA_COMP4'], axis = 1)     #AXIS = 1 APAGA A COLUNA\n",
    "\n",
    "base_teste1 = base_teste1.drop(columns = ['NU_NOTA_COMP5'], axis = 1)     #AXIS = 1 APAGA A COLUNA\n",
    "\n",
    "base_teste1 = base_teste1.drop(columns = ['Q001'], axis = 1)     #AXIS = 1 APAGA A COLUNA\n",
    "                                   \n",
    "base_teste1 = base_teste1.drop(columns = ['Q002'], axis = 1)     #AXIS = 1 APAGA A COLUNA \n",
    "\n",
    "base_teste1 = base_teste1.drop(columns = ['Q006'], axis = 1)     #AXIS = 1 APAGA A COLUNA\n",
    "\n",
    "base_teste1 = base_teste1.drop(columns = ['Q024'], axis = 1)     #AXIS = 1 APAGA A COLUNA\n",
    "\n",
    "base_teste1 = base_teste1.drop(columns = ['Q025'], axis = 1)     #AXIS = 1 APAGA A COLUNA\n",
    "                                   \n",
    "base_teste1 = base_teste1.drop(columns = ['Q026'], axis = 1)     #AXIS = 1 APAGA A COLUNA \n",
    "\n",
    "base_teste1 = base_teste1.drop(columns = ['Q027'], axis = 1)     #AXIS = 1 APAGA A COLUNA\n",
    "\n",
    "base_teste1 = base_teste1.drop(columns = ['Q047'], axis = 1)     #AXIS = 1 APAGA A COLUNA"
   ]
  },
  {
   "cell_type": "code",
   "execution_count": 73,
   "metadata": {
    "ExecuteTime": {
     "end_time": "2020-06-04T07:50:56.647463Z",
     "start_time": "2020-06-04T07:50:56.638451Z"
    }
   },
   "outputs": [],
   "source": [
    "base_teste1 = base_teste1.drop(columns = ['TP_ENSINO'], axis = 1)     #AXIS = 1 APAGA A COLUNA\n",
    "\n",
    "base_teste1 = base_teste1.drop(columns = ['TP_DEPENDENCIA_ADM_ESC'], axis = 1)     #AXIS = 1 APAGA A COLUNA"
   ]
  },
  {
   "cell_type": "code",
   "execution_count": 74,
   "metadata": {
    "ExecuteTime": {
     "end_time": "2020-06-04T07:50:59.415148Z",
     "start_time": "2020-06-04T07:50:59.409163Z"
    }
   },
   "outputs": [],
   "source": [
    "presentes  = base_teste1.iloc[:,9:]"
   ]
  },
  {
   "cell_type": "code",
   "execution_count": 75,
   "metadata": {
    "ExecuteTime": {
     "end_time": "2020-06-04T07:51:01.301695Z",
     "start_time": "2020-06-04T07:51:01.279719Z"
    }
   },
   "outputs": [
    {
     "data": {
      "text/html": [
       "<div>\n",
       "<style scoped>\n",
       "    .dataframe tbody tr th:only-of-type {\n",
       "        vertical-align: middle;\n",
       "    }\n",
       "\n",
       "    .dataframe tbody tr th {\n",
       "        vertical-align: top;\n",
       "    }\n",
       "\n",
       "    .dataframe thead th {\n",
       "        text-align: right;\n",
       "    }\n",
       "</style>\n",
       "<table border=\"1\" class=\"dataframe\">\n",
       "  <thead>\n",
       "    <tr style=\"text-align: right;\">\n",
       "      <th></th>\n",
       "      <th>TP_PRESENCA_CN</th>\n",
       "      <th>TP_PRESENCA_CH</th>\n",
       "      <th>TP_PRESENCA_LC</th>\n",
       "      <th>NU_NOTA_CN</th>\n",
       "      <th>NU_NOTA_CH</th>\n",
       "      <th>NU_NOTA_LC</th>\n",
       "      <th>NU_NOTA_REDACAO</th>\n",
       "    </tr>\n",
       "  </thead>\n",
       "  <tbody>\n",
       "    <tr>\n",
       "      <td>3</td>\n",
       "      <td>0</td>\n",
       "      <td>0</td>\n",
       "      <td>0</td>\n",
       "      <td>NaN</td>\n",
       "      <td>NaN</td>\n",
       "      <td>NaN</td>\n",
       "      <td>NaN</td>\n",
       "    </tr>\n",
       "    <tr>\n",
       "      <td>10</td>\n",
       "      <td>0</td>\n",
       "      <td>0</td>\n",
       "      <td>0</td>\n",
       "      <td>NaN</td>\n",
       "      <td>NaN</td>\n",
       "      <td>NaN</td>\n",
       "      <td>NaN</td>\n",
       "    </tr>\n",
       "    <tr>\n",
       "      <td>11</td>\n",
       "      <td>0</td>\n",
       "      <td>0</td>\n",
       "      <td>0</td>\n",
       "      <td>NaN</td>\n",
       "      <td>NaN</td>\n",
       "      <td>NaN</td>\n",
       "      <td>NaN</td>\n",
       "    </tr>\n",
       "    <tr>\n",
       "      <td>16</td>\n",
       "      <td>0</td>\n",
       "      <td>0</td>\n",
       "      <td>0</td>\n",
       "      <td>NaN</td>\n",
       "      <td>NaN</td>\n",
       "      <td>NaN</td>\n",
       "      <td>NaN</td>\n",
       "    </tr>\n",
       "    <tr>\n",
       "      <td>17</td>\n",
       "      <td>0</td>\n",
       "      <td>0</td>\n",
       "      <td>0</td>\n",
       "      <td>NaN</td>\n",
       "      <td>NaN</td>\n",
       "      <td>NaN</td>\n",
       "      <td>NaN</td>\n",
       "    </tr>\n",
       "    <tr>\n",
       "      <td>18</td>\n",
       "      <td>0</td>\n",
       "      <td>0</td>\n",
       "      <td>0</td>\n",
       "      <td>NaN</td>\n",
       "      <td>NaN</td>\n",
       "      <td>NaN</td>\n",
       "      <td>NaN</td>\n",
       "    </tr>\n",
       "    <tr>\n",
       "      <td>22</td>\n",
       "      <td>0</td>\n",
       "      <td>0</td>\n",
       "      <td>0</td>\n",
       "      <td>NaN</td>\n",
       "      <td>NaN</td>\n",
       "      <td>NaN</td>\n",
       "      <td>NaN</td>\n",
       "    </tr>\n",
       "    <tr>\n",
       "      <td>29</td>\n",
       "      <td>0</td>\n",
       "      <td>0</td>\n",
       "      <td>0</td>\n",
       "      <td>NaN</td>\n",
       "      <td>NaN</td>\n",
       "      <td>NaN</td>\n",
       "      <td>NaN</td>\n",
       "    </tr>\n",
       "    <tr>\n",
       "      <td>30</td>\n",
       "      <td>0</td>\n",
       "      <td>0</td>\n",
       "      <td>0</td>\n",
       "      <td>NaN</td>\n",
       "      <td>NaN</td>\n",
       "      <td>NaN</td>\n",
       "      <td>NaN</td>\n",
       "    </tr>\n",
       "    <tr>\n",
       "      <td>44</td>\n",
       "      <td>0</td>\n",
       "      <td>0</td>\n",
       "      <td>0</td>\n",
       "      <td>NaN</td>\n",
       "      <td>NaN</td>\n",
       "      <td>NaN</td>\n",
       "      <td>NaN</td>\n",
       "    </tr>\n",
       "  </tbody>\n",
       "</table>\n",
       "</div>"
      ],
      "text/plain": [
       "    TP_PRESENCA_CN  TP_PRESENCA_CH  TP_PRESENCA_LC  NU_NOTA_CN  NU_NOTA_CH  \\\n",
       "3                0               0               0         NaN         NaN   \n",
       "10               0               0               0         NaN         NaN   \n",
       "11               0               0               0         NaN         NaN   \n",
       "16               0               0               0         NaN         NaN   \n",
       "17               0               0               0         NaN         NaN   \n",
       "18               0               0               0         NaN         NaN   \n",
       "22               0               0               0         NaN         NaN   \n",
       "29               0               0               0         NaN         NaN   \n",
       "30               0               0               0         NaN         NaN   \n",
       "44               0               0               0         NaN         NaN   \n",
       "\n",
       "    NU_NOTA_LC  NU_NOTA_REDACAO  \n",
       "3          NaN              NaN  \n",
       "10         NaN              NaN  \n",
       "11         NaN              NaN  \n",
       "16         NaN              NaN  \n",
       "17         NaN              NaN  \n",
       "18         NaN              NaN  \n",
       "22         NaN              NaN  \n",
       "29         NaN              NaN  \n",
       "30         NaN              NaN  \n",
       "44         NaN              NaN  "
      ]
     },
     "execution_count": 75,
     "metadata": {},
     "output_type": "execute_result"
    }
   ],
   "source": [
    "presentes.loc[(presentes.NU_NOTA_CH.isnull())].head(10)"
   ]
  },
  {
   "cell_type": "code",
   "execution_count": 76,
   "metadata": {
    "ExecuteTime": {
     "end_time": "2020-06-04T07:51:02.029122Z",
     "start_time": "2020-06-04T07:51:02.021142Z"
    }
   },
   "outputs": [],
   "source": [
    "base_teste1 = base_teste1.fillna(0)"
   ]
  },
  {
   "cell_type": "code",
   "execution_count": 77,
   "metadata": {
    "ExecuteTime": {
     "end_time": "2020-06-04T07:51:02.868649Z",
     "start_time": "2020-06-04T07:51:02.852692Z"
    }
   },
   "outputs": [
    {
     "data": {
      "text/plain": [
       "0"
      ]
     },
     "execution_count": 77,
     "metadata": {},
     "output_type": "execute_result"
    }
   ],
   "source": [
    "base_teste1.duplicated().sum()"
   ]
  },
  {
   "cell_type": "markdown",
   "metadata": {},
   "source": [
    "#####  Remover Coluna de Número de Inscrição"
   ]
  },
  {
   "cell_type": "code",
   "execution_count": 78,
   "metadata": {
    "ExecuteTime": {
     "end_time": "2020-06-04T07:51:08.343143Z",
     "start_time": "2020-06-04T07:51:08.336161Z"
    }
   },
   "outputs": [],
   "source": [
    "NU_INSCRICAO_teste = base_teste1.NU_INSCRICAO  #salvar essa coluna caso seja necessário\n",
    "base_teste1 = base_teste1.drop('NU_INSCRICAO', axis = 1)     #AXIS = 1 APAGA A COLUNA"
   ]
  },
  {
   "cell_type": "code",
   "execution_count": 79,
   "metadata": {
    "ExecuteTime": {
     "end_time": "2020-06-04T07:51:10.946635Z",
     "start_time": "2020-06-04T07:51:10.941650Z"
    }
   },
   "outputs": [
    {
     "data": {
      "text/plain": [
       "(4576, 15)"
      ]
     },
     "execution_count": 79,
     "metadata": {},
     "output_type": "execute_result"
    }
   ],
   "source": [
    "base_teste1.shape"
   ]
  },
  {
   "cell_type": "code",
   "execution_count": 80,
   "metadata": {
    "ExecuteTime": {
     "end_time": "2020-06-04T07:51:14.130981Z",
     "start_time": "2020-06-04T07:51:14.122006Z"
    }
   },
   "outputs": [],
   "source": [
    "#Remover coluna da base de dados\n",
    "base_teste1 = base_teste1.drop('TP_PRESENCA_CN', axis = 1) #axis =1 significa a coluna toda\n",
    "base_teste1 = base_teste1.drop('IN_GESTANTE', axis = 1) #axis =1 significa a coluna toda\n",
    "base_teste1 = base_teste1.drop('IN_IDOSO', axis = 1) #axis =1 significa a coluna toda"
   ]
  },
  {
   "cell_type": "code",
   "execution_count": 81,
   "metadata": {
    "ExecuteTime": {
     "end_time": "2020-06-04T07:51:17.571637Z",
     "start_time": "2020-06-04T07:51:17.563657Z"
    }
   },
   "outputs": [],
   "source": [
    "base_teste1.iloc[:,1] = labelEncoder.transform(base_teste1.iloc[:,1])"
   ]
  },
  {
   "cell_type": "code",
   "execution_count": 82,
   "metadata": {
    "ExecuteTime": {
     "end_time": "2020-06-04T07:51:18.419279Z",
     "start_time": "2020-06-04T07:51:18.400330Z"
    }
   },
   "outputs": [],
   "source": [
    "base_teste1 = onehotencoder.transform(base_teste1).toarray()"
   ]
  },
  {
   "cell_type": "code",
   "execution_count": 83,
   "metadata": {
    "ExecuteTime": {
     "end_time": "2020-06-04T07:51:20.730305Z",
     "start_time": "2020-06-04T07:51:20.685393Z"
    }
   },
   "outputs": [],
   "source": [
    "base_teste1[:,29] = boxcox(base_teste1[:,29] + 1)[0]\n",
    "\n",
    "base_teste1[:,30] = boxcox(base_teste1[:,30] + 1)[0]\n",
    "\n",
    "base_teste1[:,31] = boxcox(base_teste1[:,31] + 1)[0]\n",
    "\n",
    "base_teste1[:,32] = boxcox(base_teste1[:,32] + 1)[0]\n",
    "\n",
    "base_teste1[:,33] = boxcox(base_teste1[:,33] + 1)[0]"
   ]
  },
  {
   "cell_type": "code",
   "execution_count": 84,
   "metadata": {
    "ExecuteTime": {
     "end_time": "2020-06-04T07:51:22.210218Z",
     "start_time": "2020-06-04T07:51:22.204195Z"
    }
   },
   "outputs": [],
   "source": [
    "#NORMALIZADOR DE VARIAVEIS MIN MAX\n",
    "\n",
    "base_teste1 = normalizador.transform(base_teste1) #usar para o fit o x transormado pelo box-cox"
   ]
  },
  {
   "cell_type": "code",
   "execution_count": 85,
   "metadata": {
    "ExecuteTime": {
     "end_time": "2020-06-04T07:52:23.016761Z",
     "start_time": "2020-06-04T07:52:22.972881Z"
    }
   },
   "outputs": [],
   "source": [
    "base_teste1 = poly.transform(base_teste1)   #transforma os dados normalizados pelo min-max"
   ]
  },
  {
   "cell_type": "code",
   "execution_count": 86,
   "metadata": {
    "ExecuteTime": {
     "end_time": "2020-06-04T07:52:24.120738Z",
     "start_time": "2020-06-04T07:52:24.115763Z"
    }
   },
   "outputs": [
    {
     "data": {
      "text/plain": [
       "(4576, 630)"
      ]
     },
     "execution_count": 86,
     "metadata": {},
     "output_type": "execute_result"
    }
   ],
   "source": [
    "base_teste1.shape"
   ]
  },
  {
   "cell_type": "markdown",
   "metadata": {},
   "source": [
    "##### Verificando a exatidão no modelo nos dados de teste"
   ]
  },
  {
   "cell_type": "code",
   "execution_count": 89,
   "metadata": {
    "ExecuteTime": {
     "end_time": "2020-06-04T07:56:02.115472Z",
     "start_time": "2020-06-04T07:56:01.891578Z"
    }
   },
   "outputs": [],
   "source": [
    "previsao = modelo2.predict(x_teste_poly2)"
   ]
  },
  {
   "cell_type": "code",
   "execution_count": 90,
   "metadata": {
    "ExecuteTime": {
     "end_time": "2020-06-04T07:56:04.438584Z",
     "start_time": "2020-06-04T07:56:04.433599Z"
    }
   },
   "outputs": [
    {
     "data": {
      "text/plain": [
       "array([  0.    , 820.8333, 832.3534, ..., 794.1464, 794.4164, 831.6955])"
      ]
     },
     "execution_count": 90,
     "metadata": {},
     "output_type": "execute_result"
    }
   ],
   "source": [
    "previsao"
   ]
  },
  {
   "cell_type": "code",
   "execution_count": 91,
   "metadata": {
    "ExecuteTime": {
     "end_time": "2020-06-04T07:56:16.270352Z",
     "start_time": "2020-06-04T07:56:16.264371Z"
    }
   },
   "outputs": [
    {
     "name": "stdout",
     "output_type": "stream",
     "text": [
      "359.1713522699683\n",
      "Média:  604.0478610342311\n",
      "Std:  359.4485821970989\n"
     ]
    }
   ],
   "source": [
    "print(y_teste2.mean()) #preco_real -> exemplo de saída\n",
    "print('Média: ', previsao.mean())\n",
    "print('Std: ', previsao.std())"
   ]
  },
  {
   "cell_type": "code",
   "execution_count": 92,
   "metadata": {
    "ExecuteTime": {
     "end_time": "2020-06-04T07:56:32.772550Z",
     "start_time": "2020-06-04T07:56:32.762578Z"
    }
   },
   "outputs": [
    {
     "name": "stdout",
     "output_type": "stream",
     "text": [
      "MAE: 245.10365977\n",
      "MSE: 88551.66065833\n",
      "RMSE: 297.57631065\n"
     ]
    }
   ],
   "source": [
    "print('MAE:', mean_absolute_error(y_teste2, previsao).round(8)  )\n",
    "print('MSE:', mean_squared_error(y_teste2, previsao).round(8) )  \n",
    "print('RMSE:', np.sqrt(mean_squared_error(y_teste2, previsao)).round(8))"
   ]
  },
  {
   "cell_type": "code",
   "execution_count": null,
   "metadata": {},
   "outputs": [],
   "source": []
  },
  {
   "cell_type": "code",
   "execution_count": null,
   "metadata": {},
   "outputs": [],
   "source": []
  },
  {
   "cell_type": "code",
   "execution_count": 102,
   "metadata": {
    "ExecuteTime": {
     "end_time": "2020-06-04T08:03:29.486374Z",
     "start_time": "2020-06-04T08:03:29.264779Z"
    }
   },
   "outputs": [],
   "source": [
    "previsao2 = modelo2.predict(base_teste1)"
   ]
  },
  {
   "cell_type": "code",
   "execution_count": 103,
   "metadata": {
    "ExecuteTime": {
     "end_time": "2020-06-04T08:03:34.157229Z",
     "start_time": "2020-06-04T08:03:34.152244Z"
    }
   },
   "outputs": [
    {
     "data": {
      "text/plain": [
       "array([354.7923, 378.1378, 493.6883, ..., 565.5551, 388.04  ,   0.    ])"
      ]
     },
     "execution_count": 103,
     "metadata": {},
     "output_type": "execute_result"
    }
   ],
   "source": [
    "previsao2"
   ]
  },
  {
   "cell_type": "code",
   "execution_count": null,
   "metadata": {},
   "outputs": [],
   "source": []
  },
  {
   "cell_type": "code",
   "execution_count": null,
   "metadata": {},
   "outputs": [],
   "source": []
  },
  {
   "cell_type": "code",
   "execution_count": null,
   "metadata": {},
   "outputs": [],
   "source": []
  },
  {
   "cell_type": "markdown",
   "metadata": {},
   "source": [
    "# SUBMISSÃO"
   ]
  },
  {
   "cell_type": "code",
   "execution_count": 104,
   "metadata": {
    "ExecuteTime": {
     "end_time": "2020-06-04T08:03:42.463439Z",
     "start_time": "2020-06-04T08:03:42.458455Z"
    }
   },
   "outputs": [],
   "source": [
    "submission = pd.DataFrame({ 'NU_INSCRICAO': NU_INSCRICAO_teste, 'NU_NOTA_MT': previsao2})"
   ]
  },
  {
   "cell_type": "code",
   "execution_count": 105,
   "metadata": {
    "ExecuteTime": {
     "end_time": "2020-06-04T08:03:53.437291Z",
     "start_time": "2020-06-04T08:03:53.412321Z"
    }
   },
   "outputs": [],
   "source": [
    "submission.to_csv(\"submission2.csv\", index=False)"
   ]
  },
  {
   "cell_type": "markdown",
   "metadata": {
    "ExecuteTime": {
     "end_time": "2020-06-04T08:02:23.190027Z",
     "start_time": "2020-06-04T08:02:23.184006Z"
    }
   },
   "source": [
    "# Sucesso!!!\n",
    "pontuação 90.83%"
   ]
  },
  {
   "cell_type": "markdown",
   "metadata": {},
   "source": [
    "# 6.0 - SALVAR E CARREGAR MODELO TREINADO"
   ]
  },
  {
   "cell_type": "markdown",
   "metadata": {},
   "source": [
    " "
   ]
  },
  {
   "cell_type": "markdown",
   "metadata": {},
   "source": [
    "## 6.1 - Salvando o Modelo"
   ]
  },
  {
   "cell_type": "markdown",
   "metadata": {},
   "source": [
    " #### Lembrete: \n",
    " Salvar o Objeto de Normalização das Variáveis.\n",
    " \n",
    " Para que as novas entradas possam passar pelo mesmo processo."
   ]
  },
  {
   "cell_type": "markdown",
   "metadata": {},
   "source": [
    "### USANDO PICKLE"
   ]
  },
  {
   "cell_type": "markdown",
   "metadata": {},
   "source": [
    " "
   ]
  },
  {
   "cell_type": "code",
   "execution_count": 107,
   "metadata": {
    "ExecuteTime": {
     "end_time": "2020-06-04T08:19:01.570037Z",
     "start_time": "2020-06-04T08:19:01.511198Z"
    }
   },
   "outputs": [],
   "source": [
    "file_modelo2 = 'modelo2.sav'\n",
    "file_labelEncoder = 'labelEncoder.sav'\n",
    "file_onehotencoder = 'onehotencoder.sav'\n",
    "file_normalizador = 'normalizador.sav'\n",
    "file_poly = 'poly.sav'\n",
    "\n",
    "pickle.dump(modelo2, open(file_modelo2, 'wb'))\n",
    "pickle.dump(labelEncoder, open(file_labelEncoder, 'wb'))\n",
    "pickle.dump(onehotencoder, open(file_onehotencoder, 'wb'))\n",
    "pickle.dump(normalizador, open(file_normalizador, 'wb'))\n",
    "pickle.dump(poly, open(file_poly, 'wb'))"
   ]
  },
  {
   "cell_type": "markdown",
   "metadata": {},
   "source": [
    "## 6.2- Carregando o Modelo"
   ]
  },
  {
   "cell_type": "markdown",
   "metadata": {},
   "source": [
    " "
   ]
  },
  {
   "cell_type": "markdown",
   "metadata": {},
   "source": [
    "### USANDO PICKLE"
   ]
  },
  {
   "cell_type": "markdown",
   "metadata": {},
   "source": [
    " "
   ]
  },
  {
   "cell_type": "code",
   "execution_count": 108,
   "metadata": {
    "ExecuteTime": {
     "end_time": "2020-06-04T08:21:06.129568Z",
     "start_time": "2020-06-04T08:21:05.863125Z"
    }
   },
   "outputs": [
    {
     "name": "stdout",
     "output_type": "stream",
     "text": [
      "[354.7923 378.1378 493.6883 ... 565.5551 388.04     0.    ]\n"
     ]
    }
   ],
   "source": [
    "# Carregando o modelo e fazendo previsão com novos conjuntos de dados \n",
    "# (X_teste, Y_teste devem ser novos conjuntos de dados preparados com o procedimento de limpeza e transformação adequados)\n",
    "loaded_model = pickle.load(open(file_modelo2, 'rb'))\n",
    "resultado1 = loaded_model.predict(base_teste1)\n",
    "print(resultado1)"
   ]
  },
  {
   "cell_type": "code",
   "execution_count": null,
   "metadata": {},
   "outputs": [],
   "source": []
  }
 ],
 "metadata": {
  "kernelspec": {
   "display_name": "Python 3",
   "language": "python",
   "name": "python3"
  },
  "language_info": {
   "codemirror_mode": {
    "name": "ipython",
    "version": 3
   },
   "file_extension": ".py",
   "mimetype": "text/x-python",
   "name": "python",
   "nbconvert_exporter": "python",
   "pygments_lexer": "ipython3",
   "version": "3.7.4"
  }
 },
 "nbformat": 4,
 "nbformat_minor": 2
}
